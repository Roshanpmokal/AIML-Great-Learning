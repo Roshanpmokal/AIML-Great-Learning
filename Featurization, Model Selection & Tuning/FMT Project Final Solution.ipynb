{
 "cells": [
  {
   "cell_type": "markdown",
   "metadata": {},
   "source": [
    "# PART 1"
   ]
  },
  {
   "cell_type": "markdown",
   "metadata": {},
   "source": [
    "# DOMAIN: \n",
    "## Semiconductor manufacturing process"
   ]
  },
  {
   "cell_type": "markdown",
   "metadata": {},
   "source": [
    "## CONTEXT: \n",
    "A complex modern semiconductor manufacturing process is normally under constant surveillance via the monitoring of signals/ variables collected from sensors and or process measurement points. However, not all of these signals are equally valuable in a specific monitoring system. The measured signals contain a combination of useful information, irrelevant information as well as noise. Engineers typically have a much larger number of signals than are actually required. If we consider each type of signal as a feature, then feature selection may be applied to identify the most relevant signals. The Process Engineers may then use these signals to determine key factors contributing to yield excursions downstream in the process. This will enable an increase in process throughput, decreased time to learning and reduce the per unit production costs. These signals can be used as features to predict the yield type. And by analysing and trying out different combinations of features, essential signals that are impacting the yield type can be identified."
   ]
  },
  {
   "cell_type": "markdown",
   "metadata": {},
   "source": [
    "## DATA DESCRIPTION: \n",
    "sensor-data.csv : (1567, 592)\n",
    "\n",
    "The data consists of 1567 examples each with 591 features.\n",
    "\n",
    "The dataset presented in this case represents a selection of such features where each example represents a single production entity with associated measured features and the labels represent a simple pass/fail yield for in house line testing. Target column “ –1” corresponds to a pass and “1” corresponds to a fail and the data time stamp is for that specific test point."
   ]
  },
  {
   "cell_type": "markdown",
   "metadata": {},
   "source": [
    "## PROJECT OBJECTIVE: \n",
    "We will build a classifier to predict the Pass/Fail yield of a particular process entity and analyse whether all the\n",
    "features are required to build the model or not."
   ]
  },
  {
   "cell_type": "markdown",
   "metadata": {},
   "source": [
    "## 1. Import and explore the data."
   ]
  },
  {
   "cell_type": "code",
   "execution_count": 1,
   "metadata": {},
   "outputs": [],
   "source": [
    "# Importing libraries\n",
    "import pandas as pd\n",
    "import numpy as np\n",
    "import seaborn as sns\n",
    "import matplotlib.pyplot as plt\n",
    "%matplotlib inline\n",
    "from sklearn.cluster import AgglomerativeClustering \n",
    "from sklearn.model_selection import train_test_split # Sklearn package's randomized data splitting function\n",
    "from sklearn import metrics, svm\n",
    "from sklearn.metrics import accuracy_score,f1_score,recall_score,precision_score, confusion_matrix\n",
    "from imblearn.over_sampling import SMOTE\n",
    "from sklearn.model_selection import KFold\n",
    "from sklearn.model_selection import cross_val_score\n",
    "from sklearn.model_selection import GridSearchCV, RandomizedSearchCV\n",
    "from sklearn.linear_model import LogisticRegression\n",
    "from sklearn.linear_model import Ridge\n",
    "from sklearn.decomposition import PCA\n"
   ]
  },
  {
   "cell_type": "code",
   "execution_count": 2,
   "metadata": {},
   "outputs": [
    {
     "name": "stdout",
     "output_type": "stream",
     "text": [
      "927664 (1567, 592)\n"
     ]
    }
   ],
   "source": [
    "# Importing Data files\n",
    "data = pd.read_csv('signal-data.csv')\n",
    "\n",
    "# explore shape and size of each\n",
    "print(data.size,data.shape)"
   ]
  },
  {
   "cell_type": "code",
   "execution_count": 3,
   "metadata": {
    "scrolled": false
   },
   "outputs": [
    {
     "data": {
      "text/html": [
       "<div>\n",
       "<style scoped>\n",
       "    .dataframe tbody tr th:only-of-type {\n",
       "        vertical-align: middle;\n",
       "    }\n",
       "\n",
       "    .dataframe tbody tr th {\n",
       "        vertical-align: top;\n",
       "    }\n",
       "\n",
       "    .dataframe thead th {\n",
       "        text-align: right;\n",
       "    }\n",
       "</style>\n",
       "<table border=\"1\" class=\"dataframe\">\n",
       "  <thead>\n",
       "    <tr style=\"text-align: right;\">\n",
       "      <th></th>\n",
       "      <th>Time</th>\n",
       "      <th>0</th>\n",
       "      <th>1</th>\n",
       "      <th>2</th>\n",
       "      <th>3</th>\n",
       "      <th>4</th>\n",
       "      <th>5</th>\n",
       "      <th>6</th>\n",
       "      <th>7</th>\n",
       "      <th>8</th>\n",
       "      <th>...</th>\n",
       "      <th>581</th>\n",
       "      <th>582</th>\n",
       "      <th>583</th>\n",
       "      <th>584</th>\n",
       "      <th>585</th>\n",
       "      <th>586</th>\n",
       "      <th>587</th>\n",
       "      <th>588</th>\n",
       "      <th>589</th>\n",
       "      <th>Pass/Fail</th>\n",
       "    </tr>\n",
       "  </thead>\n",
       "  <tbody>\n",
       "    <tr>\n",
       "      <th>0</th>\n",
       "      <td>2008-07-19 11:55:00</td>\n",
       "      <td>3030.93</td>\n",
       "      <td>2564.00</td>\n",
       "      <td>2187.7333</td>\n",
       "      <td>1411.1265</td>\n",
       "      <td>1.3602</td>\n",
       "      <td>100.0</td>\n",
       "      <td>97.6133</td>\n",
       "      <td>0.1242</td>\n",
       "      <td>1.5005</td>\n",
       "      <td>...</td>\n",
       "      <td>NaN</td>\n",
       "      <td>0.5005</td>\n",
       "      <td>0.0118</td>\n",
       "      <td>0.0035</td>\n",
       "      <td>2.3630</td>\n",
       "      <td>NaN</td>\n",
       "      <td>NaN</td>\n",
       "      <td>NaN</td>\n",
       "      <td>NaN</td>\n",
       "      <td>-1</td>\n",
       "    </tr>\n",
       "    <tr>\n",
       "      <th>1</th>\n",
       "      <td>2008-07-19 12:32:00</td>\n",
       "      <td>3095.78</td>\n",
       "      <td>2465.14</td>\n",
       "      <td>2230.4222</td>\n",
       "      <td>1463.6606</td>\n",
       "      <td>0.8294</td>\n",
       "      <td>100.0</td>\n",
       "      <td>102.3433</td>\n",
       "      <td>0.1247</td>\n",
       "      <td>1.4966</td>\n",
       "      <td>...</td>\n",
       "      <td>208.2045</td>\n",
       "      <td>0.5019</td>\n",
       "      <td>0.0223</td>\n",
       "      <td>0.0055</td>\n",
       "      <td>4.4447</td>\n",
       "      <td>0.0096</td>\n",
       "      <td>0.0201</td>\n",
       "      <td>0.0060</td>\n",
       "      <td>208.2045</td>\n",
       "      <td>-1</td>\n",
       "    </tr>\n",
       "    <tr>\n",
       "      <th>2</th>\n",
       "      <td>2008-07-19 13:17:00</td>\n",
       "      <td>2932.61</td>\n",
       "      <td>2559.94</td>\n",
       "      <td>2186.4111</td>\n",
       "      <td>1698.0172</td>\n",
       "      <td>1.5102</td>\n",
       "      <td>100.0</td>\n",
       "      <td>95.4878</td>\n",
       "      <td>0.1241</td>\n",
       "      <td>1.4436</td>\n",
       "      <td>...</td>\n",
       "      <td>82.8602</td>\n",
       "      <td>0.4958</td>\n",
       "      <td>0.0157</td>\n",
       "      <td>0.0039</td>\n",
       "      <td>3.1745</td>\n",
       "      <td>0.0584</td>\n",
       "      <td>0.0484</td>\n",
       "      <td>0.0148</td>\n",
       "      <td>82.8602</td>\n",
       "      <td>1</td>\n",
       "    </tr>\n",
       "    <tr>\n",
       "      <th>3</th>\n",
       "      <td>2008-07-19 14:43:00</td>\n",
       "      <td>2988.72</td>\n",
       "      <td>2479.90</td>\n",
       "      <td>2199.0333</td>\n",
       "      <td>909.7926</td>\n",
       "      <td>1.3204</td>\n",
       "      <td>100.0</td>\n",
       "      <td>104.2367</td>\n",
       "      <td>0.1217</td>\n",
       "      <td>1.4882</td>\n",
       "      <td>...</td>\n",
       "      <td>73.8432</td>\n",
       "      <td>0.4990</td>\n",
       "      <td>0.0103</td>\n",
       "      <td>0.0025</td>\n",
       "      <td>2.0544</td>\n",
       "      <td>0.0202</td>\n",
       "      <td>0.0149</td>\n",
       "      <td>0.0044</td>\n",
       "      <td>73.8432</td>\n",
       "      <td>-1</td>\n",
       "    </tr>\n",
       "    <tr>\n",
       "      <th>4</th>\n",
       "      <td>2008-07-19 15:22:00</td>\n",
       "      <td>3032.24</td>\n",
       "      <td>2502.87</td>\n",
       "      <td>2233.3667</td>\n",
       "      <td>1326.5200</td>\n",
       "      <td>1.5334</td>\n",
       "      <td>100.0</td>\n",
       "      <td>100.3967</td>\n",
       "      <td>0.1235</td>\n",
       "      <td>1.5031</td>\n",
       "      <td>...</td>\n",
       "      <td>NaN</td>\n",
       "      <td>0.4800</td>\n",
       "      <td>0.4766</td>\n",
       "      <td>0.1045</td>\n",
       "      <td>99.3032</td>\n",
       "      <td>0.0202</td>\n",
       "      <td>0.0149</td>\n",
       "      <td>0.0044</td>\n",
       "      <td>73.8432</td>\n",
       "      <td>-1</td>\n",
       "    </tr>\n",
       "  </tbody>\n",
       "</table>\n",
       "<p>5 rows × 592 columns</p>\n",
       "</div>"
      ],
      "text/plain": [
       "                  Time        0        1          2          3       4      5  \\\n",
       "0  2008-07-19 11:55:00  3030.93  2564.00  2187.7333  1411.1265  1.3602  100.0   \n",
       "1  2008-07-19 12:32:00  3095.78  2465.14  2230.4222  1463.6606  0.8294  100.0   \n",
       "2  2008-07-19 13:17:00  2932.61  2559.94  2186.4111  1698.0172  1.5102  100.0   \n",
       "3  2008-07-19 14:43:00  2988.72  2479.90  2199.0333   909.7926  1.3204  100.0   \n",
       "4  2008-07-19 15:22:00  3032.24  2502.87  2233.3667  1326.5200  1.5334  100.0   \n",
       "\n",
       "          6       7       8  ...       581     582     583     584      585  \\\n",
       "0   97.6133  0.1242  1.5005  ...       NaN  0.5005  0.0118  0.0035   2.3630   \n",
       "1  102.3433  0.1247  1.4966  ...  208.2045  0.5019  0.0223  0.0055   4.4447   \n",
       "2   95.4878  0.1241  1.4436  ...   82.8602  0.4958  0.0157  0.0039   3.1745   \n",
       "3  104.2367  0.1217  1.4882  ...   73.8432  0.4990  0.0103  0.0025   2.0544   \n",
       "4  100.3967  0.1235  1.5031  ...       NaN  0.4800  0.4766  0.1045  99.3032   \n",
       "\n",
       "      586     587     588       589  Pass/Fail  \n",
       "0     NaN     NaN     NaN       NaN         -1  \n",
       "1  0.0096  0.0201  0.0060  208.2045         -1  \n",
       "2  0.0584  0.0484  0.0148   82.8602          1  \n",
       "3  0.0202  0.0149  0.0044   73.8432         -1  \n",
       "4  0.0202  0.0149  0.0044   73.8432         -1  \n",
       "\n",
       "[5 rows x 592 columns]"
      ]
     },
     "execution_count": 3,
     "metadata": {},
     "output_type": "execute_result"
    }
   ],
   "source": [
    "data.head()"
   ]
  },
  {
   "cell_type": "code",
   "execution_count": 4,
   "metadata": {
    "scrolled": true
   },
   "outputs": [
    {
     "data": {
      "text/html": [
       "<div>\n",
       "<style scoped>\n",
       "    .dataframe tbody tr th:only-of-type {\n",
       "        vertical-align: middle;\n",
       "    }\n",
       "\n",
       "    .dataframe tbody tr th {\n",
       "        vertical-align: top;\n",
       "    }\n",
       "\n",
       "    .dataframe thead th {\n",
       "        text-align: right;\n",
       "    }\n",
       "</style>\n",
       "<table border=\"1\" class=\"dataframe\">\n",
       "  <thead>\n",
       "    <tr style=\"text-align: right;\">\n",
       "      <th></th>\n",
       "      <th>0</th>\n",
       "      <th>1</th>\n",
       "      <th>2</th>\n",
       "      <th>3</th>\n",
       "      <th>4</th>\n",
       "      <th>5</th>\n",
       "      <th>6</th>\n",
       "      <th>7</th>\n",
       "      <th>8</th>\n",
       "      <th>9</th>\n",
       "      <th>...</th>\n",
       "      <th>581</th>\n",
       "      <th>582</th>\n",
       "      <th>583</th>\n",
       "      <th>584</th>\n",
       "      <th>585</th>\n",
       "      <th>586</th>\n",
       "      <th>587</th>\n",
       "      <th>588</th>\n",
       "      <th>589</th>\n",
       "      <th>Pass/Fail</th>\n",
       "    </tr>\n",
       "  </thead>\n",
       "  <tbody>\n",
       "    <tr>\n",
       "      <th>count</th>\n",
       "      <td>1561.000000</td>\n",
       "      <td>1560.000000</td>\n",
       "      <td>1553.000000</td>\n",
       "      <td>1553.000000</td>\n",
       "      <td>1553.000000</td>\n",
       "      <td>1553.0</td>\n",
       "      <td>1553.000000</td>\n",
       "      <td>1558.000000</td>\n",
       "      <td>1565.000000</td>\n",
       "      <td>1565.000000</td>\n",
       "      <td>...</td>\n",
       "      <td>618.000000</td>\n",
       "      <td>1566.000000</td>\n",
       "      <td>1566.000000</td>\n",
       "      <td>1566.000000</td>\n",
       "      <td>1566.000000</td>\n",
       "      <td>1566.000000</td>\n",
       "      <td>1566.000000</td>\n",
       "      <td>1566.000000</td>\n",
       "      <td>1566.000000</td>\n",
       "      <td>1567.000000</td>\n",
       "    </tr>\n",
       "    <tr>\n",
       "      <th>mean</th>\n",
       "      <td>3014.452896</td>\n",
       "      <td>2495.850231</td>\n",
       "      <td>2200.547318</td>\n",
       "      <td>1396.376627</td>\n",
       "      <td>4.197013</td>\n",
       "      <td>100.0</td>\n",
       "      <td>101.112908</td>\n",
       "      <td>0.121822</td>\n",
       "      <td>1.462862</td>\n",
       "      <td>-0.000841</td>\n",
       "      <td>...</td>\n",
       "      <td>97.934373</td>\n",
       "      <td>0.500096</td>\n",
       "      <td>0.015318</td>\n",
       "      <td>0.003847</td>\n",
       "      <td>3.067826</td>\n",
       "      <td>0.021458</td>\n",
       "      <td>0.016475</td>\n",
       "      <td>0.005283</td>\n",
       "      <td>99.670066</td>\n",
       "      <td>-0.867262</td>\n",
       "    </tr>\n",
       "    <tr>\n",
       "      <th>std</th>\n",
       "      <td>73.621787</td>\n",
       "      <td>80.407705</td>\n",
       "      <td>29.513152</td>\n",
       "      <td>441.691640</td>\n",
       "      <td>56.355540</td>\n",
       "      <td>0.0</td>\n",
       "      <td>6.237214</td>\n",
       "      <td>0.008961</td>\n",
       "      <td>0.073897</td>\n",
       "      <td>0.015116</td>\n",
       "      <td>...</td>\n",
       "      <td>87.520966</td>\n",
       "      <td>0.003404</td>\n",
       "      <td>0.017180</td>\n",
       "      <td>0.003720</td>\n",
       "      <td>3.578033</td>\n",
       "      <td>0.012358</td>\n",
       "      <td>0.008808</td>\n",
       "      <td>0.002867</td>\n",
       "      <td>93.891919</td>\n",
       "      <td>0.498010</td>\n",
       "    </tr>\n",
       "    <tr>\n",
       "      <th>min</th>\n",
       "      <td>2743.240000</td>\n",
       "      <td>2158.750000</td>\n",
       "      <td>2060.660000</td>\n",
       "      <td>0.000000</td>\n",
       "      <td>0.681500</td>\n",
       "      <td>100.0</td>\n",
       "      <td>82.131100</td>\n",
       "      <td>0.000000</td>\n",
       "      <td>1.191000</td>\n",
       "      <td>-0.053400</td>\n",
       "      <td>...</td>\n",
       "      <td>0.000000</td>\n",
       "      <td>0.477800</td>\n",
       "      <td>0.006000</td>\n",
       "      <td>0.001700</td>\n",
       "      <td>1.197500</td>\n",
       "      <td>-0.016900</td>\n",
       "      <td>0.003200</td>\n",
       "      <td>0.001000</td>\n",
       "      <td>0.000000</td>\n",
       "      <td>-1.000000</td>\n",
       "    </tr>\n",
       "    <tr>\n",
       "      <th>25%</th>\n",
       "      <td>2966.260000</td>\n",
       "      <td>2452.247500</td>\n",
       "      <td>2181.044400</td>\n",
       "      <td>1081.875800</td>\n",
       "      <td>1.017700</td>\n",
       "      <td>100.0</td>\n",
       "      <td>97.920000</td>\n",
       "      <td>0.121100</td>\n",
       "      <td>1.411200</td>\n",
       "      <td>-0.010800</td>\n",
       "      <td>...</td>\n",
       "      <td>46.184900</td>\n",
       "      <td>0.497900</td>\n",
       "      <td>0.011600</td>\n",
       "      <td>0.003100</td>\n",
       "      <td>2.306500</td>\n",
       "      <td>0.013425</td>\n",
       "      <td>0.010600</td>\n",
       "      <td>0.003300</td>\n",
       "      <td>44.368600</td>\n",
       "      <td>-1.000000</td>\n",
       "    </tr>\n",
       "    <tr>\n",
       "      <th>50%</th>\n",
       "      <td>3011.490000</td>\n",
       "      <td>2499.405000</td>\n",
       "      <td>2201.066700</td>\n",
       "      <td>1285.214400</td>\n",
       "      <td>1.316800</td>\n",
       "      <td>100.0</td>\n",
       "      <td>101.512200</td>\n",
       "      <td>0.122400</td>\n",
       "      <td>1.461600</td>\n",
       "      <td>-0.001300</td>\n",
       "      <td>...</td>\n",
       "      <td>72.288900</td>\n",
       "      <td>0.500200</td>\n",
       "      <td>0.013800</td>\n",
       "      <td>0.003600</td>\n",
       "      <td>2.757650</td>\n",
       "      <td>0.020500</td>\n",
       "      <td>0.014800</td>\n",
       "      <td>0.004600</td>\n",
       "      <td>71.900500</td>\n",
       "      <td>-1.000000</td>\n",
       "    </tr>\n",
       "    <tr>\n",
       "      <th>75%</th>\n",
       "      <td>3056.650000</td>\n",
       "      <td>2538.822500</td>\n",
       "      <td>2218.055500</td>\n",
       "      <td>1591.223500</td>\n",
       "      <td>1.525700</td>\n",
       "      <td>100.0</td>\n",
       "      <td>104.586700</td>\n",
       "      <td>0.123800</td>\n",
       "      <td>1.516900</td>\n",
       "      <td>0.008400</td>\n",
       "      <td>...</td>\n",
       "      <td>116.539150</td>\n",
       "      <td>0.502375</td>\n",
       "      <td>0.016500</td>\n",
       "      <td>0.004100</td>\n",
       "      <td>3.295175</td>\n",
       "      <td>0.027600</td>\n",
       "      <td>0.020300</td>\n",
       "      <td>0.006400</td>\n",
       "      <td>114.749700</td>\n",
       "      <td>-1.000000</td>\n",
       "    </tr>\n",
       "    <tr>\n",
       "      <th>max</th>\n",
       "      <td>3356.350000</td>\n",
       "      <td>2846.440000</td>\n",
       "      <td>2315.266700</td>\n",
       "      <td>3715.041700</td>\n",
       "      <td>1114.536600</td>\n",
       "      <td>100.0</td>\n",
       "      <td>129.252200</td>\n",
       "      <td>0.128600</td>\n",
       "      <td>1.656400</td>\n",
       "      <td>0.074900</td>\n",
       "      <td>...</td>\n",
       "      <td>737.304800</td>\n",
       "      <td>0.509800</td>\n",
       "      <td>0.476600</td>\n",
       "      <td>0.104500</td>\n",
       "      <td>99.303200</td>\n",
       "      <td>0.102800</td>\n",
       "      <td>0.079900</td>\n",
       "      <td>0.028600</td>\n",
       "      <td>737.304800</td>\n",
       "      <td>1.000000</td>\n",
       "    </tr>\n",
       "  </tbody>\n",
       "</table>\n",
       "<p>8 rows × 591 columns</p>\n",
       "</div>"
      ],
      "text/plain": [
       "                 0            1            2            3            4  \\\n",
       "count  1561.000000  1560.000000  1553.000000  1553.000000  1553.000000   \n",
       "mean   3014.452896  2495.850231  2200.547318  1396.376627     4.197013   \n",
       "std      73.621787    80.407705    29.513152   441.691640    56.355540   \n",
       "min    2743.240000  2158.750000  2060.660000     0.000000     0.681500   \n",
       "25%    2966.260000  2452.247500  2181.044400  1081.875800     1.017700   \n",
       "50%    3011.490000  2499.405000  2201.066700  1285.214400     1.316800   \n",
       "75%    3056.650000  2538.822500  2218.055500  1591.223500     1.525700   \n",
       "max    3356.350000  2846.440000  2315.266700  3715.041700  1114.536600   \n",
       "\n",
       "            5            6            7            8            9  ...  \\\n",
       "count  1553.0  1553.000000  1558.000000  1565.000000  1565.000000  ...   \n",
       "mean    100.0   101.112908     0.121822     1.462862    -0.000841  ...   \n",
       "std       0.0     6.237214     0.008961     0.073897     0.015116  ...   \n",
       "min     100.0    82.131100     0.000000     1.191000    -0.053400  ...   \n",
       "25%     100.0    97.920000     0.121100     1.411200    -0.010800  ...   \n",
       "50%     100.0   101.512200     0.122400     1.461600    -0.001300  ...   \n",
       "75%     100.0   104.586700     0.123800     1.516900     0.008400  ...   \n",
       "max     100.0   129.252200     0.128600     1.656400     0.074900  ...   \n",
       "\n",
       "              581          582          583          584          585  \\\n",
       "count  618.000000  1566.000000  1566.000000  1566.000000  1566.000000   \n",
       "mean    97.934373     0.500096     0.015318     0.003847     3.067826   \n",
       "std     87.520966     0.003404     0.017180     0.003720     3.578033   \n",
       "min      0.000000     0.477800     0.006000     0.001700     1.197500   \n",
       "25%     46.184900     0.497900     0.011600     0.003100     2.306500   \n",
       "50%     72.288900     0.500200     0.013800     0.003600     2.757650   \n",
       "75%    116.539150     0.502375     0.016500     0.004100     3.295175   \n",
       "max    737.304800     0.509800     0.476600     0.104500    99.303200   \n",
       "\n",
       "               586          587          588          589    Pass/Fail  \n",
       "count  1566.000000  1566.000000  1566.000000  1566.000000  1567.000000  \n",
       "mean      0.021458     0.016475     0.005283    99.670066    -0.867262  \n",
       "std       0.012358     0.008808     0.002867    93.891919     0.498010  \n",
       "min      -0.016900     0.003200     0.001000     0.000000    -1.000000  \n",
       "25%       0.013425     0.010600     0.003300    44.368600    -1.000000  \n",
       "50%       0.020500     0.014800     0.004600    71.900500    -1.000000  \n",
       "75%       0.027600     0.020300     0.006400   114.749700    -1.000000  \n",
       "max       0.102800     0.079900     0.028600   737.304800     1.000000  \n",
       "\n",
       "[8 rows x 591 columns]"
      ]
     },
     "execution_count": 4,
     "metadata": {},
     "output_type": "execute_result"
    }
   ],
   "source": [
    "data.describe()"
   ]
  },
  {
   "cell_type": "code",
   "execution_count": 5,
   "metadata": {},
   "outputs": [
    {
     "data": {
      "text/plain": [
       "Time          object\n",
       "0            float64\n",
       "1            float64\n",
       "2            float64\n",
       "3            float64\n",
       "              ...   \n",
       "586          float64\n",
       "587          float64\n",
       "588          float64\n",
       "589          float64\n",
       "Pass/Fail      int64\n",
       "Length: 592, dtype: object"
      ]
     },
     "execution_count": 5,
     "metadata": {},
     "output_type": "execute_result"
    }
   ],
   "source": [
    "data.dtypes"
   ]
  },
  {
   "cell_type": "markdown",
   "metadata": {},
   "source": [
    "## 2. Data cleansing:"
   ]
  },
  {
   "cell_type": "code",
   "execution_count": 6,
   "metadata": {},
   "outputs": [
    {
     "data": {
      "text/plain": [
       "Time          0\n",
       "0             6\n",
       "1             7\n",
       "2            14\n",
       "3            14\n",
       "             ..\n",
       "586           1\n",
       "587           1\n",
       "588           1\n",
       "589           1\n",
       "Pass/Fail     0\n",
       "Length: 592, dtype: int64"
      ]
     },
     "execution_count": 6,
     "metadata": {},
     "output_type": "execute_result"
    }
   ],
   "source": [
    "# Explore for null values\n",
    "data.isnull().sum()"
   ]
  },
  {
   "cell_type": "code",
   "execution_count": 7,
   "metadata": {},
   "outputs": [
    {
     "data": {
      "text/plain": [
       "False"
      ]
     },
     "execution_count": 7,
     "metadata": {},
     "output_type": "execute_result"
    }
   ],
   "source": [
    "# Replace Null values with 0\n",
    "data = data.replace(np.NaN, 0)\n",
    "\n",
    "# Explore for null values\n",
    "data.isnull().any().any()"
   ]
  },
  {
   "cell_type": "code",
   "execution_count": 8,
   "metadata": {},
   "outputs": [],
   "source": [
    "#Drop columns with very low standard deviation thresholds \n",
    "threshold = 0.1\n",
    "new_data=data.drop(data.std()[data.std() < threshold].index.values, axis=1)"
   ]
  },
  {
   "cell_type": "code",
   "execution_count": 9,
   "metadata": {},
   "outputs": [],
   "source": [
    "# function to delete higly correlated columns\n",
    "def correlation(data, threshold):\n",
    "    col_corr = set() # Set of all the names of deleted columns\n",
    "    corr_matrix = data.corr()\n",
    "    for i in range(len(corr_matrix.columns)):\n",
    "        for j in range(i):\n",
    "            if (corr_matrix.iloc[i, j] >= threshold):\n",
    "                colname = corr_matrix.columns[i] # getting the name of column\n",
    "                col_corr.add(colname)\n",
    "                if colname in data.columns:\n",
    "                    del data[colname] # deleting the column from the dataset\n",
    "\n",
    "    return data"
   ]
  },
  {
   "cell_type": "code",
   "execution_count": 10,
   "metadata": {},
   "outputs": [
    {
     "data": {
      "text/html": [
       "<div>\n",
       "<style scoped>\n",
       "    .dataframe tbody tr th:only-of-type {\n",
       "        vertical-align: middle;\n",
       "    }\n",
       "\n",
       "    .dataframe tbody tr th {\n",
       "        vertical-align: top;\n",
       "    }\n",
       "\n",
       "    .dataframe thead th {\n",
       "        text-align: right;\n",
       "    }\n",
       "</style>\n",
       "<table border=\"1\" class=\"dataframe\">\n",
       "  <thead>\n",
       "    <tr style=\"text-align: right;\">\n",
       "      <th></th>\n",
       "      <th>0</th>\n",
       "      <th>1</th>\n",
       "      <th>2</th>\n",
       "      <th>3</th>\n",
       "      <th>4</th>\n",
       "      <th>12</th>\n",
       "      <th>14</th>\n",
       "      <th>15</th>\n",
       "      <th>16</th>\n",
       "      <th>19</th>\n",
       "      <th>...</th>\n",
       "      <th>562</th>\n",
       "      <th>564</th>\n",
       "      <th>569</th>\n",
       "      <th>570</th>\n",
       "      <th>571</th>\n",
       "      <th>572</th>\n",
       "      <th>581</th>\n",
       "      <th>585</th>\n",
       "      <th>589</th>\n",
       "      <th>Pass/Fail</th>\n",
       "    </tr>\n",
       "  </thead>\n",
       "  <tbody>\n",
       "    <tr>\n",
       "      <th>0</th>\n",
       "      <td>3030.93</td>\n",
       "      <td>2564.00</td>\n",
       "      <td>2187.7333</td>\n",
       "      <td>1411.1265</td>\n",
       "      <td>1.3602</td>\n",
       "      <td>202.4396</td>\n",
       "      <td>7.9558</td>\n",
       "      <td>414.8710</td>\n",
       "      <td>10.0433</td>\n",
       "      <td>12.5190</td>\n",
       "      <td>...</td>\n",
       "      <td>0.000</td>\n",
       "      <td>0.00</td>\n",
       "      <td>0.0000</td>\n",
       "      <td>533.8500</td>\n",
       "      <td>2.1113</td>\n",
       "      <td>8.95</td>\n",
       "      <td>0.0000</td>\n",
       "      <td>2.3630</td>\n",
       "      <td>0.0000</td>\n",
       "      <td>0</td>\n",
       "    </tr>\n",
       "    <tr>\n",
       "      <th>1</th>\n",
       "      <td>3095.78</td>\n",
       "      <td>2465.14</td>\n",
       "      <td>2230.4222</td>\n",
       "      <td>1463.6606</td>\n",
       "      <td>0.8294</td>\n",
       "      <td>200.5470</td>\n",
       "      <td>10.1548</td>\n",
       "      <td>414.7347</td>\n",
       "      <td>9.2599</td>\n",
       "      <td>12.4608</td>\n",
       "      <td>...</td>\n",
       "      <td>0.000</td>\n",
       "      <td>0.00</td>\n",
       "      <td>0.0000</td>\n",
       "      <td>535.0164</td>\n",
       "      <td>2.4335</td>\n",
       "      <td>5.92</td>\n",
       "      <td>208.2045</td>\n",
       "      <td>4.4447</td>\n",
       "      <td>208.2045</td>\n",
       "      <td>0</td>\n",
       "    </tr>\n",
       "    <tr>\n",
       "      <th>2</th>\n",
       "      <td>2932.61</td>\n",
       "      <td>2559.94</td>\n",
       "      <td>2186.4111</td>\n",
       "      <td>1698.0172</td>\n",
       "      <td>1.5102</td>\n",
       "      <td>202.0179</td>\n",
       "      <td>9.5157</td>\n",
       "      <td>416.7075</td>\n",
       "      <td>9.3144</td>\n",
       "      <td>12.5404</td>\n",
       "      <td>...</td>\n",
       "      <td>267.064</td>\n",
       "      <td>1.10</td>\n",
       "      <td>68.8489</td>\n",
       "      <td>535.0245</td>\n",
       "      <td>2.0293</td>\n",
       "      <td>11.21</td>\n",
       "      <td>82.8602</td>\n",
       "      <td>3.1745</td>\n",
       "      <td>82.8602</td>\n",
       "      <td>1</td>\n",
       "    </tr>\n",
       "    <tr>\n",
       "      <th>3</th>\n",
       "      <td>2988.72</td>\n",
       "      <td>2479.90</td>\n",
       "      <td>2199.0333</td>\n",
       "      <td>909.7926</td>\n",
       "      <td>1.3204</td>\n",
       "      <td>201.8482</td>\n",
       "      <td>9.6052</td>\n",
       "      <td>422.2894</td>\n",
       "      <td>9.6924</td>\n",
       "      <td>12.4782</td>\n",
       "      <td>...</td>\n",
       "      <td>268.228</td>\n",
       "      <td>7.32</td>\n",
       "      <td>25.0363</td>\n",
       "      <td>530.5682</td>\n",
       "      <td>2.0253</td>\n",
       "      <td>9.33</td>\n",
       "      <td>73.8432</td>\n",
       "      <td>2.0544</td>\n",
       "      <td>73.8432</td>\n",
       "      <td>0</td>\n",
       "    </tr>\n",
       "    <tr>\n",
       "      <th>4</th>\n",
       "      <td>3032.24</td>\n",
       "      <td>2502.87</td>\n",
       "      <td>2233.3667</td>\n",
       "      <td>1326.5200</td>\n",
       "      <td>1.5334</td>\n",
       "      <td>201.9424</td>\n",
       "      <td>10.5661</td>\n",
       "      <td>420.5925</td>\n",
       "      <td>10.3387</td>\n",
       "      <td>12.4735</td>\n",
       "      <td>...</td>\n",
       "      <td>0.000</td>\n",
       "      <td>0.00</td>\n",
       "      <td>0.0000</td>\n",
       "      <td>532.0155</td>\n",
       "      <td>2.0275</td>\n",
       "      <td>8.83</td>\n",
       "      <td>0.0000</td>\n",
       "      <td>99.3032</td>\n",
       "      <td>73.8432</td>\n",
       "      <td>0</td>\n",
       "    </tr>\n",
       "  </tbody>\n",
       "</table>\n",
       "<p>5 rows × 153 columns</p>\n",
       "</div>"
      ],
      "text/plain": [
       "         0        1          2          3       4        12       14  \\\n",
       "0  3030.93  2564.00  2187.7333  1411.1265  1.3602  202.4396   7.9558   \n",
       "1  3095.78  2465.14  2230.4222  1463.6606  0.8294  200.5470  10.1548   \n",
       "2  2932.61  2559.94  2186.4111  1698.0172  1.5102  202.0179   9.5157   \n",
       "3  2988.72  2479.90  2199.0333   909.7926  1.3204  201.8482   9.6052   \n",
       "4  3032.24  2502.87  2233.3667  1326.5200  1.5334  201.9424  10.5661   \n",
       "\n",
       "         15       16       19  ...      562   564      569       570     571  \\\n",
       "0  414.8710  10.0433  12.5190  ...    0.000  0.00   0.0000  533.8500  2.1113   \n",
       "1  414.7347   9.2599  12.4608  ...    0.000  0.00   0.0000  535.0164  2.4335   \n",
       "2  416.7075   9.3144  12.5404  ...  267.064  1.10  68.8489  535.0245  2.0293   \n",
       "3  422.2894   9.6924  12.4782  ...  268.228  7.32  25.0363  530.5682  2.0253   \n",
       "4  420.5925  10.3387  12.4735  ...    0.000  0.00   0.0000  532.0155  2.0275   \n",
       "\n",
       "     572       581      585       589  Pass/Fail  \n",
       "0   8.95    0.0000   2.3630    0.0000          0  \n",
       "1   5.92  208.2045   4.4447  208.2045          0  \n",
       "2  11.21   82.8602   3.1745   82.8602          1  \n",
       "3   9.33   73.8432   2.0544   73.8432          0  \n",
       "4   8.83    0.0000  99.3032   73.8432          0  \n",
       "\n",
       "[5 rows x 153 columns]"
      ]
     },
     "execution_count": 10,
     "metadata": {},
     "output_type": "execute_result"
    }
   ],
   "source": [
    "new_data = correlation(new_data,0.75)\n",
    "\n",
    "# Drop Time column as it's not important for prediction\n",
    "new_data.drop(columns='Time',axis=1, inplace=True)\n",
    "\n",
    "# Replace the Pass value as 0 in \"Pass/Fail\" Column for better understanding\n",
    "new_data['Pass/Fail'].replace({-1: 0},inplace=True)\n",
    "\n",
    "new_data.head()"
   ]
  },
  {
   "cell_type": "code",
   "execution_count": 11,
   "metadata": {},
   "outputs": [
    {
     "name": "stdout",
     "output_type": "stream",
     "text": [
      "239751 (1567, 153)\n"
     ]
    }
   ],
   "source": [
    "print(new_data.size,new_data.shape)"
   ]
  },
  {
   "cell_type": "markdown",
   "metadata": {},
   "source": [
    "## 3. Data analysis & visualisation:"
   ]
  },
  {
   "cell_type": "code",
   "execution_count": 12,
   "metadata": {},
   "outputs": [
    {
     "data": {
      "text/html": [
       "<div>\n",
       "<style scoped>\n",
       "    .dataframe tbody tr th:only-of-type {\n",
       "        vertical-align: middle;\n",
       "    }\n",
       "\n",
       "    .dataframe tbody tr th {\n",
       "        vertical-align: top;\n",
       "    }\n",
       "\n",
       "    .dataframe thead th {\n",
       "        text-align: right;\n",
       "    }\n",
       "</style>\n",
       "<table border=\"1\" class=\"dataframe\">\n",
       "  <thead>\n",
       "    <tr style=\"text-align: right;\">\n",
       "      <th></th>\n",
       "      <th>0</th>\n",
       "      <th>1</th>\n",
       "      <th>2</th>\n",
       "      <th>3</th>\n",
       "      <th>4</th>\n",
       "      <th>12</th>\n",
       "      <th>14</th>\n",
       "      <th>15</th>\n",
       "      <th>16</th>\n",
       "      <th>19</th>\n",
       "      <th>...</th>\n",
       "      <th>562</th>\n",
       "      <th>564</th>\n",
       "      <th>569</th>\n",
       "      <th>570</th>\n",
       "      <th>571</th>\n",
       "      <th>572</th>\n",
       "      <th>581</th>\n",
       "      <th>585</th>\n",
       "      <th>589</th>\n",
       "      <th>Pass/Fail</th>\n",
       "    </tr>\n",
       "  </thead>\n",
       "  <tbody>\n",
       "    <tr>\n",
       "      <th>count</th>\n",
       "      <td>1567.000000</td>\n",
       "      <td>1567.000000</td>\n",
       "      <td>1567.000000</td>\n",
       "      <td>1567.000000</td>\n",
       "      <td>1567.000000</td>\n",
       "      <td>1567.000000</td>\n",
       "      <td>1567.000000</td>\n",
       "      <td>1567.000000</td>\n",
       "      <td>1567.000000</td>\n",
       "      <td>1567.000000</td>\n",
       "      <td>...</td>\n",
       "      <td>1567.000000</td>\n",
       "      <td>1567.000000</td>\n",
       "      <td>1567.000000</td>\n",
       "      <td>1567.000000</td>\n",
       "      <td>1567.000000</td>\n",
       "      <td>1567.000000</td>\n",
       "      <td>1567.000000</td>\n",
       "      <td>1567.000000</td>\n",
       "      <td>1567.000000</td>\n",
       "      <td>1567.000000</td>\n",
       "    </tr>\n",
       "    <tr>\n",
       "      <th>mean</th>\n",
       "      <td>3002.910638</td>\n",
       "      <td>2484.700932</td>\n",
       "      <td>2180.887035</td>\n",
       "      <td>1383.901023</td>\n",
       "      <td>4.159516</td>\n",
       "      <td>199.701600</td>\n",
       "      <td>8.988130</td>\n",
       "      <td>412.295188</td>\n",
       "      <td>9.888635</td>\n",
       "      <td>12.401385</td>\n",
       "      <td>...</td>\n",
       "      <td>216.957377</td>\n",
       "      <td>5.322151</td>\n",
       "      <td>17.438590</td>\n",
       "      <td>530.523623</td>\n",
       "      <td>2.101836</td>\n",
       "      <td>28.450165</td>\n",
       "      <td>38.623767</td>\n",
       "      <td>3.065869</td>\n",
       "      <td>99.606461</td>\n",
       "      <td>0.066369</td>\n",
       "    </tr>\n",
       "    <tr>\n",
       "      <th>std</th>\n",
       "      <td>200.204648</td>\n",
       "      <td>184.815753</td>\n",
       "      <td>209.206773</td>\n",
       "      <td>458.937272</td>\n",
       "      <td>56.104457</td>\n",
       "      <td>7.848224</td>\n",
       "      <td>2.821529</td>\n",
       "      <td>24.945317</td>\n",
       "      <td>2.440326</td>\n",
       "      <td>1.017643</td>\n",
       "      <td>...</td>\n",
       "      <td>99.925253</td>\n",
       "      <td>3.421456</td>\n",
       "      <td>12.260744</td>\n",
       "      <td>17.499736</td>\n",
       "      <td>0.275112</td>\n",
       "      <td>86.304681</td>\n",
       "      <td>72.871466</td>\n",
       "      <td>3.577730</td>\n",
       "      <td>93.895701</td>\n",
       "      <td>0.249005</td>\n",
       "    </tr>\n",
       "    <tr>\n",
       "      <th>min</th>\n",
       "      <td>0.000000</td>\n",
       "      <td>0.000000</td>\n",
       "      <td>0.000000</td>\n",
       "      <td>0.000000</td>\n",
       "      <td>0.000000</td>\n",
       "      <td>0.000000</td>\n",
       "      <td>0.000000</td>\n",
       "      <td>0.000000</td>\n",
       "      <td>0.000000</td>\n",
       "      <td>0.000000</td>\n",
       "      <td>...</td>\n",
       "      <td>0.000000</td>\n",
       "      <td>0.000000</td>\n",
       "      <td>0.000000</td>\n",
       "      <td>317.196400</td>\n",
       "      <td>0.980200</td>\n",
       "      <td>3.540000</td>\n",
       "      <td>0.000000</td>\n",
       "      <td>0.000000</td>\n",
       "      <td>0.000000</td>\n",
       "      <td>0.000000</td>\n",
       "    </tr>\n",
       "    <tr>\n",
       "      <th>25%</th>\n",
       "      <td>2965.670000</td>\n",
       "      <td>2451.515000</td>\n",
       "      <td>2180.700000</td>\n",
       "      <td>1080.116050</td>\n",
       "      <td>1.011000</td>\n",
       "      <td>198.128450</td>\n",
       "      <td>7.080300</td>\n",
       "      <td>406.092900</td>\n",
       "      <td>9.565100</td>\n",
       "      <td>12.460000</td>\n",
       "      <td>...</td>\n",
       "      <td>250.420000</td>\n",
       "      <td>4.045000</td>\n",
       "      <td>12.593550</td>\n",
       "      <td>530.702700</td>\n",
       "      <td>1.982900</td>\n",
       "      <td>7.500000</td>\n",
       "      <td>0.000000</td>\n",
       "      <td>2.306200</td>\n",
       "      <td>44.368600</td>\n",
       "      <td>0.000000</td>\n",
       "    </tr>\n",
       "    <tr>\n",
       "      <th>50%</th>\n",
       "      <td>3010.920000</td>\n",
       "      <td>2498.910000</td>\n",
       "      <td>2200.955600</td>\n",
       "      <td>1283.436800</td>\n",
       "      <td>1.310100</td>\n",
       "      <td>199.525100</td>\n",
       "      <td>8.956500</td>\n",
       "      <td>412.198800</td>\n",
       "      <td>9.850800</td>\n",
       "      <td>12.499600</td>\n",
       "      <td>...</td>\n",
       "      <td>264.272000</td>\n",
       "      <td>4.980000</td>\n",
       "      <td>15.466200</td>\n",
       "      <td>532.398200</td>\n",
       "      <td>2.118600</td>\n",
       "      <td>8.650000</td>\n",
       "      <td>0.000000</td>\n",
       "      <td>2.757600</td>\n",
       "      <td>71.778000</td>\n",
       "      <td>0.000000</td>\n",
       "    </tr>\n",
       "    <tr>\n",
       "      <th>75%</th>\n",
       "      <td>3056.540000</td>\n",
       "      <td>2538.745000</td>\n",
       "      <td>2218.055500</td>\n",
       "      <td>1590.169900</td>\n",
       "      <td>1.518800</td>\n",
       "      <td>202.006750</td>\n",
       "      <td>10.858700</td>\n",
       "      <td>419.082800</td>\n",
       "      <td>10.127750</td>\n",
       "      <td>12.547100</td>\n",
       "      <td>...</td>\n",
       "      <td>264.733000</td>\n",
       "      <td>7.310000</td>\n",
       "      <td>23.035200</td>\n",
       "      <td>534.356400</td>\n",
       "      <td>2.290650</td>\n",
       "      <td>10.130000</td>\n",
       "      <td>57.449750</td>\n",
       "      <td>3.294950</td>\n",
       "      <td>114.749700</td>\n",
       "      <td>0.000000</td>\n",
       "    </tr>\n",
       "    <tr>\n",
       "      <th>max</th>\n",
       "      <td>3356.350000</td>\n",
       "      <td>2846.440000</td>\n",
       "      <td>2315.266700</td>\n",
       "      <td>3715.041700</td>\n",
       "      <td>1114.536600</td>\n",
       "      <td>272.045100</td>\n",
       "      <td>19.546500</td>\n",
       "      <td>824.927100</td>\n",
       "      <td>102.867700</td>\n",
       "      <td>12.989800</td>\n",
       "      <td>...</td>\n",
       "      <td>311.404000</td>\n",
       "      <td>32.580000</td>\n",
       "      <td>84.802400</td>\n",
       "      <td>589.508200</td>\n",
       "      <td>2.739500</td>\n",
       "      <td>454.560000</td>\n",
       "      <td>737.304800</td>\n",
       "      <td>99.303200</td>\n",
       "      <td>737.304800</td>\n",
       "      <td>1.000000</td>\n",
       "    </tr>\n",
       "  </tbody>\n",
       "</table>\n",
       "<p>8 rows × 153 columns</p>\n",
       "</div>"
      ],
      "text/plain": [
       "                 0            1            2            3            4  \\\n",
       "count  1567.000000  1567.000000  1567.000000  1567.000000  1567.000000   \n",
       "mean   3002.910638  2484.700932  2180.887035  1383.901023     4.159516   \n",
       "std     200.204648   184.815753   209.206773   458.937272    56.104457   \n",
       "min       0.000000     0.000000     0.000000     0.000000     0.000000   \n",
       "25%    2965.670000  2451.515000  2180.700000  1080.116050     1.011000   \n",
       "50%    3010.920000  2498.910000  2200.955600  1283.436800     1.310100   \n",
       "75%    3056.540000  2538.745000  2218.055500  1590.169900     1.518800   \n",
       "max    3356.350000  2846.440000  2315.266700  3715.041700  1114.536600   \n",
       "\n",
       "                12           14           15           16           19  ...  \\\n",
       "count  1567.000000  1567.000000  1567.000000  1567.000000  1567.000000  ...   \n",
       "mean    199.701600     8.988130   412.295188     9.888635    12.401385  ...   \n",
       "std       7.848224     2.821529    24.945317     2.440326     1.017643  ...   \n",
       "min       0.000000     0.000000     0.000000     0.000000     0.000000  ...   \n",
       "25%     198.128450     7.080300   406.092900     9.565100    12.460000  ...   \n",
       "50%     199.525100     8.956500   412.198800     9.850800    12.499600  ...   \n",
       "75%     202.006750    10.858700   419.082800    10.127750    12.547100  ...   \n",
       "max     272.045100    19.546500   824.927100   102.867700    12.989800  ...   \n",
       "\n",
       "               562          564          569          570          571  \\\n",
       "count  1567.000000  1567.000000  1567.000000  1567.000000  1567.000000   \n",
       "mean    216.957377     5.322151    17.438590   530.523623     2.101836   \n",
       "std      99.925253     3.421456    12.260744    17.499736     0.275112   \n",
       "min       0.000000     0.000000     0.000000   317.196400     0.980200   \n",
       "25%     250.420000     4.045000    12.593550   530.702700     1.982900   \n",
       "50%     264.272000     4.980000    15.466200   532.398200     2.118600   \n",
       "75%     264.733000     7.310000    23.035200   534.356400     2.290650   \n",
       "max     311.404000    32.580000    84.802400   589.508200     2.739500   \n",
       "\n",
       "               572          581          585          589    Pass/Fail  \n",
       "count  1567.000000  1567.000000  1567.000000  1567.000000  1567.000000  \n",
       "mean     28.450165    38.623767     3.065869    99.606461     0.066369  \n",
       "std      86.304681    72.871466     3.577730    93.895701     0.249005  \n",
       "min       3.540000     0.000000     0.000000     0.000000     0.000000  \n",
       "25%       7.500000     0.000000     2.306200    44.368600     0.000000  \n",
       "50%       8.650000     0.000000     2.757600    71.778000     0.000000  \n",
       "75%      10.130000    57.449750     3.294950   114.749700     0.000000  \n",
       "max     454.560000   737.304800    99.303200   737.304800     1.000000  \n",
       "\n",
       "[8 rows x 153 columns]"
      ]
     },
     "execution_count": 12,
     "metadata": {},
     "output_type": "execute_result"
    }
   ],
   "source": [
    "new_data.describe()"
   ]
  },
  {
   "cell_type": "code",
   "execution_count": 13,
   "metadata": {},
   "outputs": [
    {
     "name": "stderr",
     "output_type": "stream",
     "text": [
      "C:\\Users\\Roshan\\anaconda3\\lib\\site-packages\\seaborn\\distributions.py:2551: FutureWarning: `distplot` is a deprecated function and will be removed in a future version. Please adapt your code to use either `displot` (a figure-level function with similar flexibility) or `histplot` (an axes-level function for histograms).\n",
      "  warnings.warn(msg, FutureWarning)\n"
     ]
    },
    {
     "data": {
      "text/plain": [
       "<AxesSubplot:xlabel='Pass/Fail', ylabel='Density'>"
      ]
     },
     "execution_count": 13,
     "metadata": {},
     "output_type": "execute_result"
    },
    {
     "data": {
      "image/png": "[encoded data removed]",
      "text/plain": [
       "<Figure size 432x288 with 1 Axes>"
      ]
     },
     "metadata": {
      "needs_background": "light"
     },
     "output_type": "display_data"
    }
   ],
   "source": [
    "sns.distplot(new_data['Pass/Fail'])"
   ]
  },
  {
   "cell_type": "markdown",
   "metadata": {},
   "source": [
    "Data is not balanced for Trgeted variable, Pass data is higher than Fail data"
   ]
  },
  {
   "cell_type": "code",
   "execution_count": 14,
   "metadata": {
    "scrolled": false
   },
   "outputs": [
    {
     "name": "stderr",
     "output_type": "stream",
     "text": [
      "C:\\Users\\Roshan\\anaconda3\\lib\\site-packages\\seaborn\\_decorators.py:36: FutureWarning: Pass the following variable as a keyword arg: x. From version 0.12, the only valid positional argument will be `data`, and passing other arguments without an explicit keyword will result in an error or misinterpretation.\n",
      "  warnings.warn(\n"
     ]
    },
    {
     "data": {
      "text/plain": [
       "<AxesSubplot:xlabel='0'>"
      ]
     },
     "execution_count": 14,
     "metadata": {},
     "output_type": "execute_result"
    },
    {
     "data": {
      "image/png": "[encoded data removed]",
      "text/plain": [
       "<Figure size 432x288 with 1 Axes>"
      ]
     },
     "metadata": {
      "needs_background": "light"
     },
     "output_type": "display_data"
    }
   ],
   "source": [
    "sns.violinplot(new_data['0'])"
   ]
  },
  {
   "cell_type": "markdown",
   "metadata": {},
   "source": [
    "for Feature 0, all data lies between 2500 & 3500"
   ]
  },
  {
   "cell_type": "code",
   "execution_count": 15,
   "metadata": {
    "scrolled": true
   },
   "outputs": [
    {
     "name": "stderr",
     "output_type": "stream",
     "text": [
      "C:\\Users\\Roshan\\anaconda3\\lib\\site-packages\\seaborn\\distributions.py:2551: FutureWarning: `distplot` is a deprecated function and will be removed in a future version. Please adapt your code to use either `displot` (a figure-level function with similar flexibility) or `histplot` (an axes-level function for histograms).\n",
      "  warnings.warn(msg, FutureWarning)\n"
     ]
    },
    {
     "data": {
      "text/plain": [
       "<AxesSubplot:xlabel='1', ylabel='Density'>"
      ]
     },
     "execution_count": 15,
     "metadata": {},
     "output_type": "execute_result"
    },
    {
     "data": {
      "image/png": "[encoded data removed]",
      "text/plain": [
       "<Figure size 432x288 with 1 Axes>"
      ]
     },
     "metadata": {
      "needs_background": "light"
     },
     "output_type": "display_data"
    }
   ],
   "source": [
    "sns.distplot(new_data['1'])"
   ]
  },
  {
   "cell_type": "markdown",
   "metadata": {},
   "source": [
    "Feature 1 data is normally distributed"
   ]
  },
  {
   "cell_type": "code",
   "execution_count": 16,
   "metadata": {},
   "outputs": [
    {
     "data": {
      "image/png": "[encoded data removed]",
      "text/plain": [
       "<Figure size 1080x360 with 1 Axes>"
      ]
     },
     "metadata": {
      "needs_background": "light"
     },
     "output_type": "display_data"
    }
   ],
   "source": [
    "# scatter plot\n",
    "figure = plt.figure(figsize=(15,5))\n",
    "ax = sns.scatterplot(x=new_data['0'],y='1', data=new_data, size = \"1\") "
   ]
  },
  {
   "cell_type": "markdown",
   "metadata": {},
   "source": [
    "As per above graph, most of the data for feature 0 & 1 is higher than 2500 & few data is missing"
   ]
  },
  {
   "cell_type": "code",
   "execution_count": 17,
   "metadata": {
    "scrolled": true
   },
   "outputs": [
    {
     "data": {
      "image/png": "[encoded data removed]",
      "text/plain": [
       "<Figure size 1080x360 with 1 Axes>"
      ]
     },
     "metadata": {
      "needs_background": "light"
     },
     "output_type": "display_data"
    }
   ],
   "source": [
    "# scatter plot\n",
    "figure = plt.figure(figsize=(15,5))\n",
    "ax = sns.scatterplot(x=new_data['2'],y='3', data=new_data, size = \"3\") "
   ]
  },
  {
   "cell_type": "markdown",
   "metadata": {},
   "source": [
    "All the data of feature 2 is greater than 2000, but most of the data for feature 3 lies between 500 to 2500"
   ]
  },
  {
   "cell_type": "code",
   "execution_count": 18,
   "metadata": {},
   "outputs": [
    {
     "data": {
      "image/png": "[encoded data removed]",
      "text/plain": [
       "<Figure size 3600x1080 with 1 Axes>"
      ]
     },
     "metadata": {
      "needs_background": "light"
     },
     "output_type": "display_data"
    }
   ],
   "source": [
    " # regression plot - scatter plot with a regression line\n",
    "figure = plt.figure(figsize=(50,15))\n",
    "ax = sns.regplot(x='1',y='2', data=new_data )"
   ]
  },
  {
   "cell_type": "markdown",
   "metadata": {},
   "source": [
    "## 4. Data pre-processing:"
   ]
  },
  {
   "cell_type": "code",
   "execution_count": 19,
   "metadata": {},
   "outputs": [],
   "source": [
    "# Transform data into features and target\n",
    "x = new_data.drop('Pass/Fail',axis=1) \n",
    "y = new_data['Pass/Fail']"
   ]
  },
  {
   "cell_type": "code",
   "execution_count": 20,
   "metadata": {},
   "outputs": [
    {
     "data": {
      "text/plain": [
       "0    1463\n",
       "1     104\n",
       "Name: Pass/Fail, dtype: int64"
      ]
     },
     "execution_count": 20,
     "metadata": {},
     "output_type": "execute_result"
    }
   ],
   "source": [
    "# Check for target balancing\n",
    "pd.value_counts(y)"
   ]
  },
  {
   "cell_type": "code",
   "execution_count": 21,
   "metadata": {},
   "outputs": [
    {
     "data": {
      "text/plain": [
       "<AxesSubplot:>"
      ]
     },
     "execution_count": 21,
     "metadata": {},
     "output_type": "execute_result"
    },
    {
     "data": {
      "image/png": "[encoded data removed]",
      "text/plain": [
       "<Figure size 432x288 with 1 Axes>"
      ]
     },
     "metadata": {
      "needs_background": "light"
     },
     "output_type": "display_data"
    }
   ],
   "source": [
    "# Check for target balancing\n",
    "pd.value_counts(y).plot(kind=\"bar\")"
   ]
  },
  {
   "cell_type": "code",
   "execution_count": 22,
   "metadata": {},
   "outputs": [
    {
     "name": "stdout",
     "output_type": "stream",
     "text": [
      "Before UpSampling, counts of label '1': 104\n",
      "Before UpSampling, counts of label '0': 1463 \n",
      "\n",
      "After UpSampling, counts of label '1': 1463\n",
      "After UpSampling, counts of label '0': 1463 \n",
      "\n",
      "After UpSampling, the shape of train_X: (2926, 152)\n",
      "After UpSampling, the shape of train_y: (2926,) \n",
      "\n"
     ]
    }
   ],
   "source": [
    "# use SMOTE Oversampling method to balance the data\n",
    "\n",
    "print(\"Before UpSampling, counts of label '1': {}\".format(sum(y==1)))\n",
    "print(\"Before UpSampling, counts of label '0': {} \\n\".format(sum(y==0)))\n",
    "\n",
    "sm = SMOTE(sampling_strategy = 1 ,k_neighbors = 5, random_state=1)   #Synthetic Minority Over Sampling Technique\n",
    "x, y = sm.fit_sample(x, y.ravel())\n",
    "\n",
    "\n",
    "print(\"After UpSampling, counts of label '1': {}\".format(sum(y==1)))\n",
    "print(\"After UpSampling, counts of label '0': {} \\n\".format(sum(y==0)))\n",
    "\n",
    "\n",
    "\n",
    "print('After UpSampling, the shape of train_X: {}'.format(x.shape))\n",
    "print('After UpSampling, the shape of train_y: {} \\n'.format(y.shape))\n"
   ]
  },
  {
   "cell_type": "code",
   "execution_count": 23,
   "metadata": {},
   "outputs": [],
   "source": [
    "# Perform normalisation\n",
    "from sklearn import preprocessing\n",
    "from sklearn.preprocessing import StandardScaler\n",
    "\n",
    "X_std = pd.DataFrame(StandardScaler().fit_transform(x))"
   ]
  },
  {
   "cell_type": "code",
   "execution_count": 24,
   "metadata": {},
   "outputs": [],
   "source": [
    "# Perform train-test split\n",
    "x_train, x_test, y_train, y_test = train_test_split(X_std, y, test_size=0.3, random_state=6)"
   ]
  },
  {
   "cell_type": "code",
   "execution_count": 25,
   "metadata": {
    "scrolled": true
   },
   "outputs": [
    {
     "data": {
      "text/plain": [
       "<AxesSubplot:>"
      ]
     },
     "execution_count": 25,
     "metadata": {},
     "output_type": "execute_result"
    },
    {
     "data": {
      "image/png": "[encoded data removed]",
      "text/plain": [
       "<Figure size 432x288 with 1 Axes>"
      ]
     },
     "metadata": {
      "needs_background": "light"
     },
     "output_type": "display_data"
    }
   ],
   "source": [
    "# Check for target balancing for train data\n",
    "pd.value_counts(y_train).plot(kind=\"bar\")"
   ]
  },
  {
   "cell_type": "code",
   "execution_count": 26,
   "metadata": {},
   "outputs": [
    {
     "data": {
      "text/plain": [
       "<AxesSubplot:>"
      ]
     },
     "execution_count": 26,
     "metadata": {},
     "output_type": "execute_result"
    },
    {
     "data": {
      "image/png": "[encoded data removed]",
      "text/plain": [
       "<Figure size 432x288 with 1 Axes>"
      ]
     },
     "metadata": {
      "needs_background": "light"
     },
     "output_type": "display_data"
    }
   ],
   "source": [
    "# Check for target balancing for test data\n",
    "pd.value_counts(y_test).plot(kind=\"bar\")"
   ]
  },
  {
   "cell_type": "markdown",
   "metadata": {},
   "source": [
    "## 5. Model training, testing and tuning:"
   ]
  },
  {
   "cell_type": "markdown",
   "metadata": {},
   "source": [
    "### Random Forest Classifier"
   ]
  },
  {
   "cell_type": "code",
   "execution_count": 27,
   "metadata": {},
   "outputs": [
    {
     "name": "stdout",
     "output_type": "stream",
     "text": [
      "Confusion Matrix\n"
     ]
    },
    {
     "data": {
      "text/plain": [
       "<AxesSubplot:>"
      ]
     },
     "execution_count": 27,
     "metadata": {},
     "output_type": "execute_result"
    },
    {
     "data": {
      "image/png": "[encoded data removed]",
      "text/plain": [
       "<Figure size 504x360 with 2 Axes>"
      ]
     },
     "metadata": {
      "needs_background": "light"
     },
     "output_type": "display_data"
    }
   ],
   "source": [
    "from sklearn.ensemble import RandomForestClassifier\n",
    "rfcl = RandomForestClassifier(n_estimators = 50)\n",
    "rfcl = rfcl.fit(x_train, y_train)\n",
    "\n",
    "y_pred = rfcl.predict(x_test)\n",
    "\n",
    "\n",
    "print(\"Confusion Matrix\")\n",
    "cm=metrics.confusion_matrix(y_test, y_pred)\n",
    "\n",
    "df_cm = pd.DataFrame(cm, index = [i for i in [\"1\",\"0\"]],\n",
    "                  columns = [i for i in [\"Predict 1\",\"Predict 0\"]])\n",
    "plt.figure(figsize = (7,5))\n",
    "sns.heatmap(df_cm, annot=True)"
   ]
  },
  {
   "cell_type": "code",
   "execution_count": 28,
   "metadata": {},
   "outputs": [
    {
     "name": "stdout",
     "output_type": "stream",
     "text": [
      "Classification Report\n",
      "              precision    recall  f1-score   support\n",
      "\n",
      "           0       0.97      0.97      0.97       440\n",
      "           1       0.97      0.97      0.97       438\n",
      "\n",
      "    accuracy                           0.97       878\n",
      "   macro avg       0.97      0.97      0.97       878\n",
      "weighted avg       0.97      0.97      0.97       878\n",
      "\n"
     ]
    }
   ],
   "source": [
    "print(\"Classification Report\")\n",
    "print(metrics.classification_report(y_test, y_pred))"
   ]
  },
  {
   "cell_type": "code",
   "execution_count": 29,
   "metadata": {},
   "outputs": [
    {
     "name": "stderr",
     "output_type": "stream",
     "text": [
      "C:\\Users\\Roshan\\anaconda3\\lib\\site-packages\\sklearn\\model_selection\\_split.py:293: FutureWarning: Setting a random_state has no effect since shuffle is False. This will raise an error in 0.24. You should leave random_state to its default (None), or set shuffle=True.\n",
      "  warnings.warn(\n"
     ]
    },
    {
     "data": {
      "text/plain": [
       "array([0.64846416, 0.92150171, 0.98634812, 0.98634812, 0.97269625,\n",
       "       0.99658703, 0.97260274, 0.99657534, 0.98630137, 0.99657534])"
      ]
     },
     "execution_count": 29,
     "metadata": {},
     "output_type": "execute_result"
    }
   ],
   "source": [
    "# Apply K-Fold validation technique\n",
    "\n",
    "num_folds = 10\n",
    "seed = 77\n",
    "\n",
    "kfold = KFold(n_splits=num_folds, random_state=seed)\n",
    "\n",
    "results = cross_val_score(rfcl,X_std, y, cv=kfold)\n",
    "results"
   ]
  },
  {
   "cell_type": "code",
   "execution_count": 30,
   "metadata": {
    "scrolled": true
   },
   "outputs": [
    {
     "name": "stdout",
     "output_type": "stream",
     "text": [
      "Accuracy Score :\n",
      "Avearge:  0.9464000187012015\n",
      "Standard deviation:  0.1015388871324581\n"
     ]
    }
   ],
   "source": [
    "print('Accuracy Score :')\n",
    "print('Avearge: ', results.mean())\n",
    "print('Standard deviation: ', results.std())"
   ]
  },
  {
   "cell_type": "markdown",
   "metadata": {},
   "source": [
    "### Logistic Regression "
   ]
  },
  {
   "cell_type": "code",
   "execution_count": 31,
   "metadata": {
    "scrolled": false
   },
   "outputs": [
    {
     "name": "stdout",
     "output_type": "stream",
     "text": [
      "Confusion Matrix\n"
     ]
    },
    {
     "data": {
      "text/plain": [
       "<AxesSubplot:>"
      ]
     },
     "execution_count": 31,
     "metadata": {},
     "output_type": "execute_result"
    },
    {
     "data": {
      "image/png": "[encoded data removed]",
      "text/plain": [
       "<Figure size 504x360 with 2 Axes>"
      ]
     },
     "metadata": {
      "needs_background": "light"
     },
     "output_type": "display_data"
    }
   ],
   "source": [
    "# Fit the model on train\n",
    "LogReg = LogisticRegression(solver=\"liblinear\")\n",
    "LogReg.fit(x_train, y_train)\n",
    "\n",
    "#predict on test\n",
    "y_pred = LogReg.predict(x_test)\n",
    "\n",
    "\n",
    "print(\"Confusion Matrix\")\n",
    "cm=metrics.confusion_matrix(y_test, y_pred)\n",
    "\n",
    "df_cm = pd.DataFrame(cm, index = [i for i in [\"1\",\"0\"]],\n",
    "                  columns = [i for i in [\"Predict 1\",\"Predict 0\"]])\n",
    "plt.figure(figsize = (7,5))\n",
    "sns.heatmap(df_cm, annot=True)"
   ]
  },
  {
   "cell_type": "code",
   "execution_count": 32,
   "metadata": {},
   "outputs": [
    {
     "name": "stdout",
     "output_type": "stream",
     "text": [
      "Classification Report\n",
      "              precision    recall  f1-score   support\n",
      "\n",
      "           0       0.91      0.83      0.87       440\n",
      "           1       0.85      0.92      0.88       438\n",
      "\n",
      "    accuracy                           0.88       878\n",
      "   macro avg       0.88      0.88      0.88       878\n",
      "weighted avg       0.88      0.88      0.88       878\n",
      "\n"
     ]
    }
   ],
   "source": [
    "print(\"Classification Report\")\n",
    "print(metrics.classification_report(y_test, y_pred))"
   ]
  },
  {
   "cell_type": "code",
   "execution_count": 33,
   "metadata": {},
   "outputs": [
    {
     "name": "stdout",
     "output_type": "stream",
     "text": [
      "Accuracy Score :\n",
      "Avearge:  0.7667866660432934\n",
      "Standard deviation:  0.1733774793335403\n"
     ]
    }
   ],
   "source": [
    "# Apply K-Fold Validation with Logistic Regression\n",
    "results = cross_val_score(LogReg,X_std, y, cv=kfold)\n",
    "print('Accuracy Score :')\n",
    "print('Avearge: ', results.mean())\n",
    "print('Standard deviation: ', results.std())"
   ]
  },
  {
   "cell_type": "code",
   "execution_count": 34,
   "metadata": {},
   "outputs": [
    {
     "name": "stdout",
     "output_type": "stream",
     "text": [
      "Best Score for Logistic Rgression : 0.770880 using {'C': 10, 'penalty': 'l2', 'solver': 'newton-cg'}\n"
     ]
    }
   ],
   "source": [
    "#Apply Grid Search Technique with Logistic Regression\n",
    "\n",
    "# define models and parameters\n",
    "LogReg = LogisticRegression()\n",
    "\n",
    "solvers = ['newton-cg', 'lbfgs', 'liblinear']\n",
    "penalty = ['l2']\n",
    "c_values = [100, 10, 1.0, 0.1, 0.01]\n",
    "param_grid = dict(solver=solvers,penalty=penalty,C=c_values)\n",
    "\n",
    "# define grid search\n",
    "grid_search = GridSearchCV(estimator=LogReg, param_grid=param_grid, n_jobs=-1, cv=kfold, scoring='accuracy',error_score=0)\n",
    "grid_result = grid_search.fit(X_std, y)\n",
    "\n",
    "# summarize results\n",
    "print(\"Best Score for Logistic Rgression : %f using %s\" % (grid_result.best_score_, grid_result.best_params_))"
   ]
  },
  {
   "cell_type": "code",
   "execution_count": 35,
   "metadata": {},
   "outputs": [
    {
     "name": "stdout",
     "output_type": "stream",
     "text": [
      "Confusion Matrix\n"
     ]
    },
    {
     "data": {
      "text/plain": [
       "<AxesSubplot:>"
      ]
     },
     "execution_count": 35,
     "metadata": {},
     "output_type": "execute_result"
    },
    {
     "data": {
      "image/png": "[encoded data removed]",
      "text/plain": [
       "<Figure size 504x360 with 2 Axes>"
      ]
     },
     "metadata": {
      "needs_background": "light"
     },
     "output_type": "display_data"
    }
   ],
   "source": [
    "# Fit the model on train\n",
    "LogReg = LogisticRegression(C= 10, penalty = 'l2', solver = 'newton-cg')\n",
    "LogReg.fit(x_train, y_train)\n",
    "\n",
    "#predict on test\n",
    "y_pred = LogReg.predict(x_test)\n",
    "\n",
    "\n",
    "print(\"Confusion Matrix\")\n",
    "cm=metrics.confusion_matrix(y_test, y_pred)\n",
    "\n",
    "df_cm = pd.DataFrame(cm, index = [i for i in [\"1\",\"0\"]],\n",
    "                  columns = [i for i in [\"Predict 1\",\"Predict 0\"]])\n",
    "plt.figure(figsize = (7,5))\n",
    "sns.heatmap(df_cm, annot=True)"
   ]
  },
  {
   "cell_type": "code",
   "execution_count": 36,
   "metadata": {},
   "outputs": [
    {
     "name": "stdout",
     "output_type": "stream",
     "text": [
      "Classification Report\n",
      "              precision    recall  f1-score   support\n",
      "\n",
      "           0       0.91      0.83      0.87       440\n",
      "           1       0.85      0.92      0.88       438\n",
      "\n",
      "    accuracy                           0.88       878\n",
      "   macro avg       0.88      0.88      0.88       878\n",
      "weighted avg       0.88      0.88      0.88       878\n",
      "\n"
     ]
    }
   ],
   "source": [
    "print(\"Classification Report\")\n",
    "print(metrics.classification_report(y_test, y_pred))"
   ]
  },
  {
   "cell_type": "markdown",
   "metadata": {},
   "source": [
    "### Ridge Regression"
   ]
  },
  {
   "cell_type": "code",
   "execution_count": 37,
   "metadata": {},
   "outputs": [
    {
     "name": "stdout",
     "output_type": "stream",
     "text": [
      "Ridge model: [ 7.90719357e-03 -3.32232044e-02  1.54489637e-02 -3.87596053e-03\n",
      " -2.22017741e-03 -1.16858721e-02 -5.87191724e-02  1.90963509e-02\n",
      "  8.95303117e-03 -9.69203253e-03 -3.21306492e-03 -6.56460020e-02\n",
      "  4.48867408e-03  1.00384559e-02  8.53851561e-02 -1.10960962e-02\n",
      "  1.39405810e-02 -2.94100498e-02  1.81801894e-02  2.54483706e-02\n",
      " -5.37980421e-03 -1.60784891e-02 -2.61915599e-02 -6.16028722e-02\n",
      "  1.74638468e-01  3.64066383e-02 -4.31111028e-02 -2.93374269e-02\n",
      "  2.58508047e-01  7.76419778e-02 -1.62978654e-01  9.07073630e-02\n",
      "  1.51087234e-02 -5.29536678e-02  4.34608499e-02  1.50933294e-02\n",
      " -1.19895188e-02 -4.49187968e-03  2.28999091e-02  7.58542268e-03\n",
      " -3.56895518e-02 -3.85795414e-02  8.44097872e-02 -1.31375664e-02\n",
      " -3.58868140e-02 -6.54913074e-03  1.54067008e-03  2.13197105e-02\n",
      "  9.78644350e-03 -2.20645916e-02  6.55326529e-02 -3.06771170e-02\n",
      "  5.75187544e-02 -3.63014769e-02 -2.13080977e-03 -6.86573005e-03\n",
      "  7.00344939e-03  2.17825047e-02 -1.98563425e-03 -3.53038332e-02\n",
      "  3.14160836e-02 -4.71315786e-02 -2.82805951e-02 -2.07140494e-03\n",
      " -3.69243686e-03  4.08573319e-02 -7.62653986e-03  1.25175178e-03\n",
      "  1.15707933e-02  3.15723428e-02 -4.43418594e-02 -4.31032275e-03\n",
      "  6.06257249e-03 -5.43820613e-02 -8.97894512e-03 -2.48900937e-02\n",
      " -2.66602025e-02  6.74737107e-02 -2.05851930e-02  1.11947665e-02\n",
      "  4.44816183e-05  6.30289053e-03 -4.79314443e-03 -2.36892113e-02\n",
      "  6.30764342e-02 -2.34723919e-02 -1.52179378e-02  1.14073571e-02\n",
      " -1.06535332e-02 -1.10846684e-02 -4.36804386e-03 -5.17980413e-03\n",
      "  2.83242661e-02  4.31495504e-02 -7.47200822e-03 -4.75462232e-02\n",
      " -1.17697594e-02 -2.28419669e-02 -7.36939676e-04  2.17761722e-02\n",
      " -1.14913390e-02  9.17259084e-03 -7.59185803e-03  2.37249720e-02\n",
      " -9.29500859e-04 -2.02287169e-02 -1.84458048e-02  6.48798069e-02\n",
      " -6.94722083e-03  5.17495192e-02  2.93405750e-03  3.83899262e-02\n",
      "  1.60800519e-02 -2.22649491e-02  1.47011335e-02 -2.44619548e-02\n",
      " -2.07719185e-02  2.34797209e-02  2.20795654e-02 -3.70151971e-02\n",
      "  1.63905382e-02  1.38586929e-02 -1.48359592e-02 -7.74565354e-03\n",
      "  1.47233984e-02 -2.60446871e-03 -1.54131033e-02  4.00109209e-02\n",
      "  3.34950521e-02  4.70233439e-02  2.92768183e-03 -2.56398103e-02\n",
      "  2.94004181e-02 -1.24576801e-02 -1.45697427e-02  7.95620936e-04\n",
      " -2.95891728e-02 -1.31034096e-02  2.50165829e-02 -1.96335329e-02\n",
      " -2.22976472e-02 -5.11128787e-03  1.67760404e-02 -3.74459231e-02\n",
      "  2.25172246e-02  2.64459456e-02 -5.88117189e-03 -1.46817057e-02\n",
      " -1.99632061e-02 -3.86903144e-03  3.49883417e-03  1.25468475e-02]\n",
      "0.546347095964476\n",
      "0.43649946369420056\n"
     ]
    }
   ],
   "source": [
    "ridge = Ridge(alpha=.3)\n",
    "ridge.fit(x_train,y_train)\n",
    "print (\"Ridge model:\", (ridge.coef_))\n",
    "\n",
    "print(ridge.score(x_train, y_train))\n",
    "print(ridge.score(x_test, y_test))\n"
   ]
  },
  {
   "cell_type": "markdown",
   "metadata": {},
   "source": [
    "### SVM Model"
   ]
  },
  {
   "cell_type": "code",
   "execution_count": 38,
   "metadata": {},
   "outputs": [
    {
     "name": "stdout",
     "output_type": "stream",
     "text": [
      "Confusion Matrix\n"
     ]
    },
    {
     "data": {
      "text/plain": [
       "<AxesSubplot:>"
      ]
     },
     "execution_count": 38,
     "metadata": {},
     "output_type": "execute_result"
    },
    {
     "data": {
      "image/png": "[encoded data removed]",
      "text/plain": [
       "<Figure size 504x360 with 2 Axes>"
      ]
     },
     "metadata": {
      "needs_background": "light"
     },
     "output_type": "display_data"
    }
   ],
   "source": [
    "clf = svm.SVC(gamma=0.025, C=3)    \n",
    "clf.fit(x_train , y_train)\n",
    "\n",
    "y_pred = clf.predict(x_test)\n",
    "\n",
    "print(\"Confusion Matrix\")\n",
    "cm=metrics.confusion_matrix(y_test, y_pred)\n",
    "\n",
    "df_cm = pd.DataFrame(cm, index = [i for i in [\"1\",\"0\"]],\n",
    "                  columns = [i for i in [\"Predict 1\",\"Predict 0\"]])\n",
    "plt.figure(figsize = (7,5))\n",
    "sns.heatmap(df_cm, annot=True)"
   ]
  },
  {
   "cell_type": "code",
   "execution_count": 39,
   "metadata": {},
   "outputs": [
    {
     "name": "stdout",
     "output_type": "stream",
     "text": [
      "Accuracy Score :\n",
      "Avearge:  0.9965823554163353\n",
      "Standard deviation:  0.0034153149336328954\n"
     ]
    }
   ],
   "source": [
    "# Apply K-Fold Validation with SVM\n",
    "\n",
    "\n",
    "results = cross_val_score(clf,X_std, y, cv=kfold)\n",
    "print('Accuracy Score :')\n",
    "print('Avearge: ', results.mean())\n",
    "print('Standard deviation: ', results.std())"
   ]
  },
  {
   "cell_type": "code",
   "execution_count": 40,
   "metadata": {},
   "outputs": [
    {
     "name": "stdout",
     "output_type": "stream",
     "text": [
      "Best Score for SVM : 0.996582 using {'C': 10, 'gamma': 0.025, 'kernel': 'rbf'}\n"
     ]
    }
   ],
   "source": [
    "# Find best parameters for SVM using grid search method\n",
    "\n",
    "clf = svm.SVC() \n",
    "\n",
    "param_grid = {'C': [0.1,1, 10, 100], 'gamma': [1,0.1,0.025,0.01],'kernel': ['rbf', 'poly', 'sigmoid']}\n",
    "\n",
    "grid_search = GridSearchCV(estimator=clf, param_grid=param_grid, n_jobs=-1, cv=kfold, scoring='accuracy',error_score=0)\n",
    "grid_result = grid_search.fit(X_std, y)\n",
    "\n",
    "# summarize results\n",
    "print(\"Best Score for SVM : %f using %s\" % (grid_result.best_score_, grid_result.best_params_))"
   ]
  },
  {
   "cell_type": "code",
   "execution_count": 41,
   "metadata": {},
   "outputs": [
    {
     "name": "stdout",
     "output_type": "stream",
     "text": [
      "Confusion Matrix\n"
     ]
    },
    {
     "data": {
      "text/plain": [
       "<AxesSubplot:>"
      ]
     },
     "execution_count": 41,
     "metadata": {},
     "output_type": "execute_result"
    },
    {
     "data": {
      "image/png": "[encoded data removed]",
      "text/plain": [
       "<Figure size 504x360 with 2 Axes>"
      ]
     },
     "metadata": {
      "needs_background": "light"
     },
     "output_type": "display_data"
    }
   ],
   "source": [
    "#Train SVM model using best Parameters\n",
    "clf = svm.SVC(gamma=0.025, C=10, kernel='rbf')    \n",
    "clf.fit(x_train , y_train)\n",
    "\n",
    "y_pred = clf.predict(x_test)\n",
    "\n",
    "print(\"Confusion Matrix\")\n",
    "cm=metrics.confusion_matrix(y_test, y_pred)\n",
    "\n",
    "df_cm = pd.DataFrame(cm, index = [i for i in [\"1\",\"0\"]],\n",
    "                  columns = [i for i in [\"Predict 1\",\"Predict 0\"]])\n",
    "plt.figure(figsize = (7,5))\n",
    "sns.heatmap(df_cm, annot=True)"
   ]
  },
  {
   "cell_type": "code",
   "execution_count": 42,
   "metadata": {},
   "outputs": [
    {
     "name": "stdout",
     "output_type": "stream",
     "text": [
      "Classification Report\n",
      "              precision    recall  f1-score   support\n",
      "\n",
      "           0       0.99      1.00      0.99       440\n",
      "           1       1.00      0.99      0.99       438\n",
      "\n",
      "    accuracy                           0.99       878\n",
      "   macro avg       0.99      0.99      0.99       878\n",
      "weighted avg       0.99      0.99      0.99       878\n",
      "\n"
     ]
    }
   ],
   "source": [
    "print(\"Classification Report\")\n",
    "print(metrics.classification_report(y_test, y_pred))"
   ]
  },
  {
   "cell_type": "markdown",
   "metadata": {},
   "source": [
    "## PCA : perform dimensional reduction on the data"
   ]
  },
  {
   "cell_type": "code",
   "execution_count": 43,
   "metadata": {},
   "outputs": [
    {
     "data": {
      "text/plain": [
       "PCA(n_components=152)"
      ]
     },
     "execution_count": 43,
     "metadata": {},
     "output_type": "execute_result"
    }
   ],
   "source": [
    "# train PCA model\n",
    "pca = PCA(n_components=152)\n",
    "pca.fit(X_std)"
   ]
  },
  {
   "cell_type": "code",
   "execution_count": 44,
   "metadata": {},
   "outputs": [
    {
     "data": {
      "image/png": "[encoded data removed]",
      "text/plain": [
       "<Figure size 432x288 with 1 Axes>"
      ]
     },
     "metadata": {
      "needs_background": "light"
     },
     "output_type": "display_data"
    }
   ],
   "source": [
    "# Plot variation graph for different n_components\n",
    "\n",
    "plt.bar(list(range(1,153)),pca.explained_variance_ratio_,alpha=0.5, align='center')\n",
    "plt.ylabel('Variation explained')\n",
    "plt.xlabel('eigen Value')\n",
    "plt.show()"
   ]
  },
  {
   "cell_type": "code",
   "execution_count": 45,
   "metadata": {},
   "outputs": [
    {
     "data": {
      "image/png": "[encoded data removed]",
      "text/plain": [
       "<Figure size 432x288 with 1 Axes>"
      ]
     },
     "metadata": {
      "needs_background": "light"
     },
     "output_type": "display_data"
    }
   ],
   "source": [
    "plt.step(list(range(1,153)),np.cumsum(pca.explained_variance_ratio_), where='mid')\n",
    "plt.ylabel('Cum of variation explained')\n",
    "plt.xlabel('eigen Value')\n",
    "plt.show()"
   ]
  },
  {
   "cell_type": "markdown",
   "metadata": {},
   "source": [
    "As per above graph, 110 dimensions seems very reasonable. With 1103 variables we can explain over 90% of the variation in the original data!"
   ]
  },
  {
   "cell_type": "code",
   "execution_count": 46,
   "metadata": {
    "scrolled": true
   },
   "outputs": [
    {
     "name": "stdout",
     "output_type": "stream",
     "text": [
      "[[-0.0498048   0.00582876  0.03226198 ...  0.06775329  0.01540531\n",
      "   0.05286103]\n",
      " [-0.01024815  0.05135308  0.02353164 ...  0.1398445   0.00030307\n",
      "   0.03248491]\n",
      " [-0.00077593 -0.00316033 -0.00061208 ...  0.01426376  0.03346328\n",
      "   0.01284342]\n",
      " ...\n",
      " [ 0.00307641  0.02381418  0.27760904 ...  0.00254667  0.02371801\n",
      "  -0.12718944]\n",
      " [ 0.00697042 -0.0473992  -0.07770445 ... -0.18835476 -0.01502305\n",
      "   0.10375408]\n",
      " [-0.04561078  0.09007454  0.05031162 ... -0.19930032  0.03947475\n",
      "   0.15725988]]\n",
      "[0.04866707 0.03250494 0.02860302 0.02548421 0.02232569 0.02189148\n",
      " 0.02016716 0.01913106 0.01846244 0.01817607 0.01702231 0.0161831\n",
      " 0.01526118 0.01486779 0.01455755 0.01410049 0.01338847 0.01295292\n",
      " 0.01234278 0.01215617 0.01204369 0.01161817 0.01151905 0.01117983\n",
      " 0.01106422 0.01058208 0.01053878 0.01014459 0.00987958 0.00980346\n",
      " 0.00962728 0.00936057 0.0091976  0.00913495 0.00885063 0.00879882\n",
      " 0.00864645 0.0083113  0.00825044 0.00814144 0.00803706 0.00798598\n",
      " 0.00776144 0.00761658 0.00759617 0.00751294 0.00737838 0.00728436\n",
      " 0.00723923 0.00708327 0.00686555 0.00678449 0.00673368 0.00666798\n",
      " 0.00653526 0.00652626 0.00649154 0.00626799 0.00626346 0.00620171\n",
      " 0.00604586 0.00597786 0.00591803 0.00579403 0.00576889 0.00559377\n",
      " 0.00554196 0.00548845 0.00542353 0.00534074 0.00528307 0.00521116\n",
      " 0.00515321 0.00499025 0.00489194 0.00482941 0.00477348 0.00465085\n",
      " 0.00451247 0.00449058 0.00443387 0.00439595 0.00433443 0.00416455\n",
      " 0.00410368 0.00406517 0.00401858 0.00397123 0.00393226 0.00385572\n",
      " 0.00375216 0.00366327 0.00358133 0.00353926 0.00350275 0.00344736\n",
      " 0.00329487 0.00322334 0.00316051 0.00313759 0.00310947 0.0030831\n",
      " 0.00292938 0.00289369 0.0027979  0.00273765 0.00265769 0.00260021\n",
      " 0.00254034 0.00252474]\n"
     ]
    }
   ],
   "source": [
    "#Apply PCA with 110 Dimensions\n",
    "\n",
    "pca110 = PCA(n_components=110)\n",
    "pca110.fit(X_std)\n",
    "print(pca110.components_)\n",
    "print(pca110.explained_variance_ratio_)\n",
    "Xpca110 = pca110.transform(X_std)"
   ]
  },
  {
   "cell_type": "code",
   "execution_count": 47,
   "metadata": {},
   "outputs": [],
   "source": [
    "# Perform train-test split\n",
    "x_train, x_test, y_train, y_test = train_test_split(Xpca110, y, test_size=0.3, random_state=6)"
   ]
  },
  {
   "cell_type": "markdown",
   "metadata": {},
   "source": [
    "### Random Forest Classifier after dimensional reduction using PCA"
   ]
  },
  {
   "cell_type": "code",
   "execution_count": 48,
   "metadata": {
    "scrolled": true
   },
   "outputs": [
    {
     "name": "stdout",
     "output_type": "stream",
     "text": [
      "Confusion Matrix\n"
     ]
    },
    {
     "data": {
      "text/plain": [
       "<AxesSubplot:>"
      ]
     },
     "execution_count": 48,
     "metadata": {},
     "output_type": "execute_result"
    },
    {
     "data": {
      "image/png": "[encoded data removed]",
      "text/plain": [
       "<Figure size 504x360 with 2 Axes>"
      ]
     },
     "metadata": {
      "needs_background": "light"
     },
     "output_type": "display_data"
    }
   ],
   "source": [
    "# Train Random Forest Model using PCA\n",
    "from sklearn.ensemble import RandomForestClassifier\n",
    "rfcl = RandomForestClassifier(n_estimators = 50)\n",
    "rfcl = rfcl.fit(x_train, y_train)\n",
    "\n",
    "y_pred = rfcl.predict(x_test)\n",
    "\n",
    "\n",
    "print(\"Confusion Matrix\")\n",
    "cm=metrics.confusion_matrix(y_test, y_pred)\n",
    "\n",
    "df_cm = pd.DataFrame(cm, index = [i for i in [\"1\",\"0\"]],\n",
    "                  columns = [i for i in [\"Predict 1\",\"Predict 0\"]])\n",
    "plt.figure(figsize = (7,5))\n",
    "sns.heatmap(df_cm, annot=True)"
   ]
  },
  {
   "cell_type": "code",
   "execution_count": 49,
   "metadata": {},
   "outputs": [
    {
     "name": "stdout",
     "output_type": "stream",
     "text": [
      "Classification Report\n",
      "              precision    recall  f1-score   support\n",
      "\n",
      "           0       0.98      0.99      0.99       440\n",
      "           1       0.99      0.98      0.99       438\n",
      "\n",
      "    accuracy                           0.99       878\n",
      "   macro avg       0.99      0.99      0.99       878\n",
      "weighted avg       0.99      0.99      0.99       878\n",
      "\n"
     ]
    }
   ],
   "source": [
    "print(\"Classification Report\")\n",
    "print(metrics.classification_report(y_test, y_pred))"
   ]
  },
  {
   "cell_type": "code",
   "execution_count": 50,
   "metadata": {},
   "outputs": [
    {
     "name": "stdout",
     "output_type": "stream",
     "text": [
      "Best Score for Random Forest Classifier : 0.995903 using {'min_samples_split': 9, 'min_samples_leaf': 3, 'max_features': 3, 'max_depth': None, 'criterion': 'entropy', 'bootstrap': False}\n"
     ]
    }
   ],
   "source": [
    "# run randomized search on Random Forest Model\n",
    "\n",
    "# specify parameters and distributions to sample from\n",
    "param_dist = {\"max_depth\": [3, None],\n",
    "              \"max_features\": range(1, 11),\n",
    "              \"min_samples_split\": range(2, 11),\n",
    "              \"min_samples_leaf\": range(1, 11),\n",
    "              \"bootstrap\": [True, False],\n",
    "              \"criterion\": [\"gini\", \"entropy\"]}\n",
    "\n",
    "\n",
    "samples = 10  # number of random samples \n",
    "randomCV = RandomizedSearchCV(rfcl, param_distributions=param_dist, n_iter=samples) #default cv = 3\n",
    "\n",
    "randomCV_result = randomCV.fit(Xpca110, y)\n",
    "\n",
    "# summarize results\n",
    "print(\"Best Score for Random Forest Classifier : %f using %s\" % (randomCV_result.best_score_, randomCV_result.best_params_))\n"
   ]
  },
  {
   "cell_type": "code",
   "execution_count": 51,
   "metadata": {
    "scrolled": false
   },
   "outputs": [
    {
     "name": "stdout",
     "output_type": "stream",
     "text": [
      "Confusion Matrix\n"
     ]
    },
    {
     "data": {
      "text/plain": [
       "<AxesSubplot:>"
      ]
     },
     "execution_count": 51,
     "metadata": {},
     "output_type": "execute_result"
    },
    {
     "data": {
      "image/png": "[encoded data removed]",
      "text/plain": [
       "<Figure size 504x360 with 2 Axes>"
      ]
     },
     "metadata": {
      "needs_background": "light"
     },
     "output_type": "display_data"
    }
   ],
   "source": [
    "from sklearn.ensemble import RandomForestClassifier\n",
    "rfcl = RandomForestClassifier(n_estimators = 50,min_samples_split = 9, min_samples_leaf = 1, max_features = 3, max_depth = None, criterion = 'gini', bootstrap = True)\n",
    "rfcl = rfcl.fit(x_train, y_train)\n",
    "\n",
    "y_pred = rfcl.predict(x_test)\n",
    "\n",
    "\n",
    "print(\"Confusion Matrix\")\n",
    "cm=metrics.confusion_matrix(y_test, y_pred)\n",
    "\n",
    "df_cm = pd.DataFrame(cm, index = [i for i in [\"1\",\"0\"]],\n",
    "                  columns = [i for i in [\"Predict 1\",\"Predict 0\"]])\n",
    "plt.figure(figsize = (7,5))\n",
    "sns.heatmap(df_cm, annot=True)"
   ]
  },
  {
   "cell_type": "markdown",
   "metadata": {},
   "source": [
    "### Logistic Regression after dimensional reduction using PCA"
   ]
  },
  {
   "cell_type": "code",
   "execution_count": 52,
   "metadata": {},
   "outputs": [
    {
     "name": "stdout",
     "output_type": "stream",
     "text": [
      "Confusion Matrix\n"
     ]
    },
    {
     "data": {
      "text/plain": [
       "<AxesSubplot:>"
      ]
     },
     "execution_count": 52,
     "metadata": {},
     "output_type": "execute_result"
    },
    {
     "data": {
      "image/png": "[encoded data removed]",
      "text/plain": [
       "<Figure size 504x360 with 2 Axes>"
      ]
     },
     "metadata": {
      "needs_background": "light"
     },
     "output_type": "display_data"
    }
   ],
   "source": [
    "# Fit the model on train\n",
    "LogReg = LogisticRegression(solver=\"liblinear\")\n",
    "LogReg.fit(x_train, y_train)\n",
    "\n",
    "#predict on test\n",
    "y_pred = LogReg.predict(x_test)\n",
    "\n",
    "\n",
    "print(\"Confusion Matrix\")\n",
    "cm=metrics.confusion_matrix(y_test, y_pred)\n",
    "\n",
    "df_cm = pd.DataFrame(cm, index = [i for i in [\"1\",\"0\"]],\n",
    "                  columns = [i for i in [\"Predict 1\",\"Predict 0\"]])\n",
    "plt.figure(figsize = (7,5))\n",
    "sns.heatmap(df_cm, annot=True)"
   ]
  },
  {
   "cell_type": "code",
   "execution_count": 53,
   "metadata": {},
   "outputs": [
    {
     "name": "stdout",
     "output_type": "stream",
     "text": [
      "Classification Report\n",
      "              precision    recall  f1-score   support\n",
      "\n",
      "           0       0.86      0.79      0.82       440\n",
      "           1       0.80      0.88      0.84       438\n",
      "\n",
      "    accuracy                           0.83       878\n",
      "   macro avg       0.83      0.83      0.83       878\n",
      "weighted avg       0.83      0.83      0.83       878\n",
      "\n"
     ]
    }
   ],
   "source": [
    "print(\"Classification Report\")\n",
    "print(metrics.classification_report(y_test, y_pred))"
   ]
  },
  {
   "cell_type": "markdown",
   "metadata": {},
   "source": [
    "### SVM Model after dimensional reduction using PCA"
   ]
  },
  {
   "cell_type": "code",
   "execution_count": 54,
   "metadata": {},
   "outputs": [
    {
     "name": "stdout",
     "output_type": "stream",
     "text": [
      "Confusion Matrix\n"
     ]
    },
    {
     "data": {
      "text/plain": [
       "<AxesSubplot:>"
      ]
     },
     "execution_count": 54,
     "metadata": {},
     "output_type": "execute_result"
    },
    {
     "data": {
      "image/png": "[encoded data removed]",
      "text/plain": [
       "<Figure size 504x360 with 2 Axes>"
      ]
     },
     "metadata": {
      "needs_background": "light"
     },
     "output_type": "display_data"
    }
   ],
   "source": [
    "clf = svm.SVC(gamma=0.025, C=3)    \n",
    "clf.fit(x_train , y_train)\n",
    "\n",
    "y_pred = clf.predict(x_test)\n",
    "\n",
    "print(\"Confusion Matrix\")\n",
    "cm=metrics.confusion_matrix(y_test, y_pred)\n",
    "\n",
    "df_cm = pd.DataFrame(cm, index = [i for i in [\"1\",\"0\"]],\n",
    "                  columns = [i for i in [\"Predict 1\",\"Predict 0\"]])\n",
    "plt.figure(figsize = (7,5))\n",
    "sns.heatmap(df_cm, annot=True)"
   ]
  },
  {
   "cell_type": "code",
   "execution_count": 55,
   "metadata": {},
   "outputs": [
    {
     "name": "stdout",
     "output_type": "stream",
     "text": [
      "Accuracy Score :\n",
      "Avearge:  0.9955584646313526\n",
      "Standard deviation:  0.004839384777407311\n"
     ]
    }
   ],
   "source": [
    "# Apply K-Fold Validation with SVM\n",
    "results = cross_val_score(clf,Xpca110, y, cv=kfold)\n",
    "print('Accuracy Score :')\n",
    "print('Avearge: ', results.mean())\n",
    "print('Standard deviation: ', results.std())"
   ]
  },
  {
   "cell_type": "code",
   "execution_count": 56,
   "metadata": {},
   "outputs": [
    {
     "name": "stdout",
     "output_type": "stream",
     "text": [
      "Best Score for SVM : 0.996582 using {'C': 10, 'gamma': 0.025, 'kernel': 'rbf'}\n"
     ]
    }
   ],
   "source": [
    "clf = svm.SVC() \n",
    "\n",
    "param_grid = {'C': [0.1,1, 10, 100], 'gamma': [1,0.1,0.025,0.01],'kernel': ['rbf', 'poly', 'sigmoid']}\n",
    "\n",
    "grid_search = GridSearchCV(estimator=clf, param_grid=param_grid, n_jobs=-1, cv=kfold, scoring='accuracy',error_score=0)\n",
    "grid_result = grid_search.fit(X_std, y)\n",
    "\n",
    "# summarize results\n",
    "print(\"Best Score for SVM : %f using %s\" % (grid_result.best_score_, grid_result.best_params_))"
   ]
  },
  {
   "cell_type": "code",
   "execution_count": 57,
   "metadata": {},
   "outputs": [
    {
     "name": "stdout",
     "output_type": "stream",
     "text": [
      "Confusion Matrix\n"
     ]
    },
    {
     "data": {
      "text/plain": [
       "<AxesSubplot:>"
      ]
     },
     "execution_count": 57,
     "metadata": {},
     "output_type": "execute_result"
    },
    {
     "data": {
      "image/png": "[encoded data removed]",
      "text/plain": [
       "<Figure size 504x360 with 2 Axes>"
      ]
     },
     "metadata": {
      "needs_background": "light"
     },
     "output_type": "display_data"
    }
   ],
   "source": [
    "clf = svm.SVC(gamma=0.025, C=10, kernel='rbf')    \n",
    "clf.fit(x_train , y_train)\n",
    "\n",
    "y_pred = clf.predict(x_test)\n",
    "\n",
    "print(\"Confusion Matrix\")\n",
    "cm=metrics.confusion_matrix(y_test, y_pred)\n",
    "\n",
    "df_cm = pd.DataFrame(cm, index = [i for i in [\"1\",\"0\"]],\n",
    "                  columns = [i for i in [\"Predict 1\",\"Predict 0\"]])\n",
    "plt.figure(figsize = (7,5))\n",
    "sns.heatmap(df_cm, annot=True)"
   ]
  },
  {
   "cell_type": "code",
   "execution_count": 58,
   "metadata": {},
   "outputs": [
    {
     "name": "stdout",
     "output_type": "stream",
     "text": [
      "Classification Report\n",
      "              precision    recall  f1-score   support\n",
      "\n",
      "           0       0.99      1.00      0.99       440\n",
      "           1       1.00      0.99      0.99       438\n",
      "\n",
      "    accuracy                           0.99       878\n",
      "   macro avg       0.99      0.99      0.99       878\n",
      "weighted avg       0.99      0.99      0.99       878\n",
      "\n"
     ]
    }
   ],
   "source": [
    "print(\"Classification Report\")\n",
    "print(metrics.classification_report(y_test, y_pred))"
   ]
  },
  {
   "cell_type": "markdown",
   "metadata": {},
   "source": [
    "As Per all above detailed analysis SVM Model Provides the best result on both Train & Test Data, So we are using SVM Model as Best Fit Model. It's provide highest Accuracy Score\n"
   ]
  },
  {
   "cell_type": "code",
   "execution_count": 59,
   "metadata": {},
   "outputs": [
    {
     "data": {
      "text/plain": [
       "SVC(C=10, gamma=0.025)"
      ]
     },
     "execution_count": 59,
     "metadata": {},
     "output_type": "execute_result"
    }
   ],
   "source": [
    "#Final Best SVM Model\n",
    "\n",
    "clf = svm.SVC(gamma=0.025, C=10, kernel='rbf')    \n",
    "clf.fit(x_train , y_train)"
   ]
  },
  {
   "cell_type": "code",
   "execution_count": 60,
   "metadata": {},
   "outputs": [
    {
     "name": "stdout",
     "output_type": "stream",
     "text": [
      "0.9931662870159453\n"
     ]
    }
   ],
   "source": [
    "# Pickle the selected model for future use\n",
    "\n",
    "from sklearn import model_selection\n",
    "import pickle\n",
    "\n",
    "# save the model to disk\n",
    "filename = 'finalized_model.sav'\n",
    "pickle.dump(clf, open(filename, 'wb'))\n",
    "\n",
    "# load the model from disk\n",
    "loaded_model = pickle.load(open(filename, 'rb'))\n",
    "result = loaded_model.score(x_test, y_test)\n",
    "print(result)"
   ]
  },
  {
   "cell_type": "code",
   "execution_count": 61,
   "metadata": {},
   "outputs": [
    {
     "data": {
      "text/html": [
       "<div>\n",
       "<style scoped>\n",
       "    .dataframe tbody tr th:only-of-type {\n",
       "        vertical-align: middle;\n",
       "    }\n",
       "\n",
       "    .dataframe tbody tr th {\n",
       "        vertical-align: top;\n",
       "    }\n",
       "\n",
       "    .dataframe thead th {\n",
       "        text-align: right;\n",
       "    }\n",
       "</style>\n",
       "<table border=\"1\" class=\"dataframe\">\n",
       "  <thead>\n",
       "    <tr style=\"text-align: right;\">\n",
       "      <th></th>\n",
       "      <th>Time</th>\n",
       "      <th>0</th>\n",
       "      <th>1</th>\n",
       "      <th>2</th>\n",
       "      <th>3</th>\n",
       "      <th>4</th>\n",
       "      <th>5</th>\n",
       "      <th>6</th>\n",
       "      <th>7</th>\n",
       "      <th>8</th>\n",
       "      <th>...</th>\n",
       "      <th>580</th>\n",
       "      <th>581</th>\n",
       "      <th>582</th>\n",
       "      <th>583</th>\n",
       "      <th>584</th>\n",
       "      <th>585</th>\n",
       "      <th>586</th>\n",
       "      <th>587</th>\n",
       "      <th>588</th>\n",
       "      <th>589</th>\n",
       "    </tr>\n",
       "  </thead>\n",
       "  <tbody>\n",
       "    <tr>\n",
       "      <th>0</th>\n",
       "      <td>2008-07-19 11:55:00</td>\n",
       "      <td>3030.93</td>\n",
       "      <td>2564.00</td>\n",
       "      <td>2187.7333</td>\n",
       "      <td>1411.1265</td>\n",
       "      <td>1.3602</td>\n",
       "      <td>100</td>\n",
       "      <td>97.6133</td>\n",
       "      <td>0.1242</td>\n",
       "      <td>1.5005</td>\n",
       "      <td>...</td>\n",
       "      <td>NaN</td>\n",
       "      <td>NaN</td>\n",
       "      <td>0.5005</td>\n",
       "      <td>0.0118</td>\n",
       "      <td>0.0035</td>\n",
       "      <td>2.3630</td>\n",
       "      <td>NaN</td>\n",
       "      <td>NaN</td>\n",
       "      <td>NaN</td>\n",
       "      <td>NaN</td>\n",
       "    </tr>\n",
       "    <tr>\n",
       "      <th>1</th>\n",
       "      <td>2008-07-19 12:32:00</td>\n",
       "      <td>3095.78</td>\n",
       "      <td>2465.14</td>\n",
       "      <td>2230.4222</td>\n",
       "      <td>1463.6606</td>\n",
       "      <td>0.8294</td>\n",
       "      <td>100</td>\n",
       "      <td>102.3433</td>\n",
       "      <td>0.1247</td>\n",
       "      <td>1.4966</td>\n",
       "      <td>...</td>\n",
       "      <td>0.0060</td>\n",
       "      <td>208.2045</td>\n",
       "      <td>0.5019</td>\n",
       "      <td>0.0223</td>\n",
       "      <td>0.0055</td>\n",
       "      <td>4.4447</td>\n",
       "      <td>0.0096</td>\n",
       "      <td>0.0201</td>\n",
       "      <td>0.0060</td>\n",
       "      <td>208.2045</td>\n",
       "    </tr>\n",
       "    <tr>\n",
       "      <th>2</th>\n",
       "      <td>2008-07-19 13:17:00</td>\n",
       "      <td>2932.61</td>\n",
       "      <td>2559.94</td>\n",
       "      <td>2186.4111</td>\n",
       "      <td>1698.0172</td>\n",
       "      <td>1.5102</td>\n",
       "      <td>100</td>\n",
       "      <td>95.4878</td>\n",
       "      <td>0.1241</td>\n",
       "      <td>1.4436</td>\n",
       "      <td>...</td>\n",
       "      <td>0.0148</td>\n",
       "      <td>82.8602</td>\n",
       "      <td>0.4958</td>\n",
       "      <td>0.0157</td>\n",
       "      <td>0.0039</td>\n",
       "      <td>3.1745</td>\n",
       "      <td>0.0584</td>\n",
       "      <td>0.0484</td>\n",
       "      <td>0.0148</td>\n",
       "      <td>82.8602</td>\n",
       "    </tr>\n",
       "    <tr>\n",
       "      <th>3</th>\n",
       "      <td>2008-07-19 14:43:00</td>\n",
       "      <td>2988.72</td>\n",
       "      <td>2479.90</td>\n",
       "      <td>2199.0333</td>\n",
       "      <td>909.7926</td>\n",
       "      <td>1.3204</td>\n",
       "      <td>100</td>\n",
       "      <td>104.2367</td>\n",
       "      <td>0.1217</td>\n",
       "      <td>1.4882</td>\n",
       "      <td>...</td>\n",
       "      <td>0.0044</td>\n",
       "      <td>73.8432</td>\n",
       "      <td>0.4990</td>\n",
       "      <td>0.0103</td>\n",
       "      <td>0.0025</td>\n",
       "      <td>2.0544</td>\n",
       "      <td>0.0202</td>\n",
       "      <td>0.0149</td>\n",
       "      <td>0.0044</td>\n",
       "      <td>73.8432</td>\n",
       "    </tr>\n",
       "    <tr>\n",
       "      <th>4</th>\n",
       "      <td>2008-07-19 15:22:00</td>\n",
       "      <td>3032.24</td>\n",
       "      <td>2502.87</td>\n",
       "      <td>2233.3667</td>\n",
       "      <td>1326.5200</td>\n",
       "      <td>1.5334</td>\n",
       "      <td>100</td>\n",
       "      <td>100.3967</td>\n",
       "      <td>0.1235</td>\n",
       "      <td>1.5031</td>\n",
       "      <td>...</td>\n",
       "      <td>NaN</td>\n",
       "      <td>NaN</td>\n",
       "      <td>0.4800</td>\n",
       "      <td>0.4766</td>\n",
       "      <td>0.1045</td>\n",
       "      <td>99.3032</td>\n",
       "      <td>0.0202</td>\n",
       "      <td>0.0149</td>\n",
       "      <td>0.0044</td>\n",
       "      <td>73.8432</td>\n",
       "    </tr>\n",
       "    <tr>\n",
       "      <th>5</th>\n",
       "      <td>2008-07-19 17:53:00</td>\n",
       "      <td>2946.25</td>\n",
       "      <td>2432.84</td>\n",
       "      <td>2233.3667</td>\n",
       "      <td>1326.5200</td>\n",
       "      <td>1.5334</td>\n",
       "      <td>100</td>\n",
       "      <td>100.3967</td>\n",
       "      <td>0.1235</td>\n",
       "      <td>1.5287</td>\n",
       "      <td>...</td>\n",
       "      <td>0.0052</td>\n",
       "      <td>44.0077</td>\n",
       "      <td>0.4949</td>\n",
       "      <td>0.0189</td>\n",
       "      <td>0.0044</td>\n",
       "      <td>3.8276</td>\n",
       "      <td>0.0342</td>\n",
       "      <td>0.0151</td>\n",
       "      <td>0.0052</td>\n",
       "      <td>44.0077</td>\n",
       "    </tr>\n",
       "    <tr>\n",
       "      <th>6</th>\n",
       "      <td>2008-07-19 19:44:00</td>\n",
       "      <td>3030.27</td>\n",
       "      <td>2430.12</td>\n",
       "      <td>2230.4222</td>\n",
       "      <td>1463.6606</td>\n",
       "      <td>0.8294</td>\n",
       "      <td>100</td>\n",
       "      <td>102.3433</td>\n",
       "      <td>0.1247</td>\n",
       "      <td>1.5816</td>\n",
       "      <td>...</td>\n",
       "      <td>NaN</td>\n",
       "      <td>NaN</td>\n",
       "      <td>0.5010</td>\n",
       "      <td>0.0143</td>\n",
       "      <td>0.0042</td>\n",
       "      <td>2.8515</td>\n",
       "      <td>0.0342</td>\n",
       "      <td>0.0151</td>\n",
       "      <td>0.0052</td>\n",
       "      <td>44.0077</td>\n",
       "    </tr>\n",
       "    <tr>\n",
       "      <th>7</th>\n",
       "      <td>2008-07-19 19:45:00</td>\n",
       "      <td>3058.88</td>\n",
       "      <td>2690.15</td>\n",
       "      <td>2248.9000</td>\n",
       "      <td>1004.4692</td>\n",
       "      <td>0.7884</td>\n",
       "      <td>100</td>\n",
       "      <td>106.2400</td>\n",
       "      <td>0.1185</td>\n",
       "      <td>1.5153</td>\n",
       "      <td>...</td>\n",
       "      <td>0.0063</td>\n",
       "      <td>95.0310</td>\n",
       "      <td>0.4984</td>\n",
       "      <td>0.0106</td>\n",
       "      <td>0.0034</td>\n",
       "      <td>2.1261</td>\n",
       "      <td>0.0204</td>\n",
       "      <td>0.0194</td>\n",
       "      <td>0.0063</td>\n",
       "      <td>95.0310</td>\n",
       "    </tr>\n",
       "    <tr>\n",
       "      <th>8</th>\n",
       "      <td>2008-07-19 20:24:00</td>\n",
       "      <td>2967.68</td>\n",
       "      <td>2600.47</td>\n",
       "      <td>2248.9000</td>\n",
       "      <td>1004.4692</td>\n",
       "      <td>0.7884</td>\n",
       "      <td>100</td>\n",
       "      <td>106.2400</td>\n",
       "      <td>0.1185</td>\n",
       "      <td>1.5358</td>\n",
       "      <td>...</td>\n",
       "      <td>0.0045</td>\n",
       "      <td>111.6525</td>\n",
       "      <td>0.4993</td>\n",
       "      <td>0.0172</td>\n",
       "      <td>0.0046</td>\n",
       "      <td>3.4456</td>\n",
       "      <td>0.0111</td>\n",
       "      <td>0.0124</td>\n",
       "      <td>0.0045</td>\n",
       "      <td>111.6525</td>\n",
       "    </tr>\n",
       "    <tr>\n",
       "      <th>9</th>\n",
       "      <td>2008-07-19 21:35:00</td>\n",
       "      <td>3016.11</td>\n",
       "      <td>2428.37</td>\n",
       "      <td>2248.9000</td>\n",
       "      <td>1004.4692</td>\n",
       "      <td>0.7884</td>\n",
       "      <td>100</td>\n",
       "      <td>106.2400</td>\n",
       "      <td>0.1185</td>\n",
       "      <td>1.5381</td>\n",
       "      <td>...</td>\n",
       "      <td>0.0073</td>\n",
       "      <td>90.2294</td>\n",
       "      <td>0.4967</td>\n",
       "      <td>0.0152</td>\n",
       "      <td>0.0038</td>\n",
       "      <td>3.0687</td>\n",
       "      <td>0.0212</td>\n",
       "      <td>0.0191</td>\n",
       "      <td>0.0073</td>\n",
       "      <td>90.2294</td>\n",
       "    </tr>\n",
       "    <tr>\n",
       "      <th>10</th>\n",
       "      <td>2008-07-19 21:57:00</td>\n",
       "      <td>2994.05</td>\n",
       "      <td>2548.21</td>\n",
       "      <td>2195.1222</td>\n",
       "      <td>1046.1468</td>\n",
       "      <td>1.3204</td>\n",
       "      <td>100</td>\n",
       "      <td>103.3400</td>\n",
       "      <td>0.1223</td>\n",
       "      <td>1.5144</td>\n",
       "      <td>...</td>\n",
       "      <td>0.0071</td>\n",
       "      <td>57.8122</td>\n",
       "      <td>0.4925</td>\n",
       "      <td>0.0158</td>\n",
       "      <td>0.0041</td>\n",
       "      <td>3.2115</td>\n",
       "      <td>0.0355</td>\n",
       "      <td>0.0205</td>\n",
       "      <td>0.0071</td>\n",
       "      <td>57.8122</td>\n",
       "    </tr>\n",
       "    <tr>\n",
       "      <th>11</th>\n",
       "      <td>2008-07-19 22:52:00</td>\n",
       "      <td>2928.84</td>\n",
       "      <td>2479.40</td>\n",
       "      <td>2196.2111</td>\n",
       "      <td>1605.7578</td>\n",
       "      <td>0.9959</td>\n",
       "      <td>100</td>\n",
       "      <td>97.9156</td>\n",
       "      <td>0.1257</td>\n",
       "      <td>1.4690</td>\n",
       "      <td>...</td>\n",
       "      <td>0.0081</td>\n",
       "      <td>75.5077</td>\n",
       "      <td>0.4987</td>\n",
       "      <td>0.0427</td>\n",
       "      <td>0.0092</td>\n",
       "      <td>8.5646</td>\n",
       "      <td>0.0370</td>\n",
       "      <td>0.0279</td>\n",
       "      <td>0.0081</td>\n",
       "      <td>75.5077</td>\n",
       "    </tr>\n",
       "    <tr>\n",
       "      <th>12</th>\n",
       "      <td>2008-07-20 03:35:00</td>\n",
       "      <td>2920.07</td>\n",
       "      <td>2507.40</td>\n",
       "      <td>2195.1222</td>\n",
       "      <td>1046.1468</td>\n",
       "      <td>1.3204</td>\n",
       "      <td>100</td>\n",
       "      <td>103.3400</td>\n",
       "      <td>0.1223</td>\n",
       "      <td>1.5310</td>\n",
       "      <td>...</td>\n",
       "      <td>0.0034</td>\n",
       "      <td>52.2039</td>\n",
       "      <td>0.4950</td>\n",
       "      <td>0.0153</td>\n",
       "      <td>0.0041</td>\n",
       "      <td>3.0926</td>\n",
       "      <td>0.0188</td>\n",
       "      <td>0.0098</td>\n",
       "      <td>0.0034</td>\n",
       "      <td>52.2039</td>\n",
       "    </tr>\n",
       "    <tr>\n",
       "      <th>13</th>\n",
       "      <td>2008-07-21 08:21:00</td>\n",
       "      <td>3051.44</td>\n",
       "      <td>2529.27</td>\n",
       "      <td>2184.4333</td>\n",
       "      <td>877.6266</td>\n",
       "      <td>1.4668</td>\n",
       "      <td>100</td>\n",
       "      <td>107.8711</td>\n",
       "      <td>0.1240</td>\n",
       "      <td>1.5236</td>\n",
       "      <td>...</td>\n",
       "      <td>NaN</td>\n",
       "      <td>NaN</td>\n",
       "      <td>0.5034</td>\n",
       "      <td>0.0151</td>\n",
       "      <td>0.0038</td>\n",
       "      <td>3.0063</td>\n",
       "      <td>0.0188</td>\n",
       "      <td>0.0098</td>\n",
       "      <td>0.0034</td>\n",
       "      <td>52.2039</td>\n",
       "    </tr>\n",
       "    <tr>\n",
       "      <th>14</th>\n",
       "      <td>2008-07-21 11:53:00</td>\n",
       "      <td>2963.97</td>\n",
       "      <td>2629.48</td>\n",
       "      <td>2224.6222</td>\n",
       "      <td>947.7739</td>\n",
       "      <td>1.2924</td>\n",
       "      <td>100</td>\n",
       "      <td>104.8489</td>\n",
       "      <td>0.1197</td>\n",
       "      <td>1.4474</td>\n",
       "      <td>...</td>\n",
       "      <td>0.0084</td>\n",
       "      <td>142.9080</td>\n",
       "      <td>0.5077</td>\n",
       "      <td>0.0094</td>\n",
       "      <td>0.0026</td>\n",
       "      <td>1.8483</td>\n",
       "      <td>0.0202</td>\n",
       "      <td>0.0289</td>\n",
       "      <td>0.0084</td>\n",
       "      <td>142.9080</td>\n",
       "    </tr>\n",
       "    <tr>\n",
       "      <th>15</th>\n",
       "      <td>2008-07-22 00:03:00</td>\n",
       "      <td>2988.31</td>\n",
       "      <td>2546.26</td>\n",
       "      <td>2224.6222</td>\n",
       "      <td>947.7739</td>\n",
       "      <td>1.2924</td>\n",
       "      <td>100</td>\n",
       "      <td>104.8489</td>\n",
       "      <td>0.1197</td>\n",
       "      <td>1.5465</td>\n",
       "      <td>...</td>\n",
       "      <td>0.0045</td>\n",
       "      <td>100.2745</td>\n",
       "      <td>0.5058</td>\n",
       "      <td>0.0078</td>\n",
       "      <td>0.0021</td>\n",
       "      <td>1.5352</td>\n",
       "      <td>0.0174</td>\n",
       "      <td>0.0174</td>\n",
       "      <td>0.0045</td>\n",
       "      <td>100.2745</td>\n",
       "    </tr>\n",
       "    <tr>\n",
       "      <th>16</th>\n",
       "      <td>2008-07-22 02:59:00</td>\n",
       "      <td>3028.02</td>\n",
       "      <td>2560.87</td>\n",
       "      <td>2270.2556</td>\n",
       "      <td>1258.4558</td>\n",
       "      <td>1.3950</td>\n",
       "      <td>100</td>\n",
       "      <td>104.8078</td>\n",
       "      <td>0.1207</td>\n",
       "      <td>1.4368</td>\n",
       "      <td>...</td>\n",
       "      <td>0.0042</td>\n",
       "      <td>82.0989</td>\n",
       "      <td>0.5005</td>\n",
       "      <td>0.0108</td>\n",
       "      <td>0.0034</td>\n",
       "      <td>2.1574</td>\n",
       "      <td>0.0184</td>\n",
       "      <td>0.0151</td>\n",
       "      <td>0.0042</td>\n",
       "      <td>82.0989</td>\n",
       "    </tr>\n",
       "    <tr>\n",
       "      <th>17</th>\n",
       "      <td>2008-07-22 08:41:00</td>\n",
       "      <td>3032.73</td>\n",
       "      <td>2517.79</td>\n",
       "      <td>2270.2556</td>\n",
       "      <td>1258.4558</td>\n",
       "      <td>1.3950</td>\n",
       "      <td>100</td>\n",
       "      <td>104.8078</td>\n",
       "      <td>0.1207</td>\n",
       "      <td>1.5537</td>\n",
       "      <td>...</td>\n",
       "      <td>NaN</td>\n",
       "      <td>NaN</td>\n",
       "      <td>0.5015</td>\n",
       "      <td>0.0105</td>\n",
       "      <td>0.0027</td>\n",
       "      <td>2.0979</td>\n",
       "      <td>0.0184</td>\n",
       "      <td>0.0151</td>\n",
       "      <td>0.0042</td>\n",
       "      <td>82.0989</td>\n",
       "    </tr>\n",
       "  </tbody>\n",
       "</table>\n",
       "<p>18 rows × 591 columns</p>\n",
       "</div>"
      ],
      "text/plain": [
       "                  Time        0        1          2          3       4    5  \\\n",
       "0  2008-07-19 11:55:00  3030.93  2564.00  2187.7333  1411.1265  1.3602  100   \n",
       "1  2008-07-19 12:32:00  3095.78  2465.14  2230.4222  1463.6606  0.8294  100   \n",
       "2  2008-07-19 13:17:00  2932.61  2559.94  2186.4111  1698.0172  1.5102  100   \n",
       "3  2008-07-19 14:43:00  2988.72  2479.90  2199.0333   909.7926  1.3204  100   \n",
       "4  2008-07-19 15:22:00  3032.24  2502.87  2233.3667  1326.5200  1.5334  100   \n",
       "5  2008-07-19 17:53:00  2946.25  2432.84  2233.3667  1326.5200  1.5334  100   \n",
       "6  2008-07-19 19:44:00  3030.27  2430.12  2230.4222  1463.6606  0.8294  100   \n",
       "7  2008-07-19 19:45:00  3058.88  2690.15  2248.9000  1004.4692  0.7884  100   \n",
       "8  2008-07-19 20:24:00  2967.68  2600.47  2248.9000  1004.4692  0.7884  100   \n",
       "9  2008-07-19 21:35:00  3016.11  2428.37  2248.9000  1004.4692  0.7884  100   \n",
       "10 2008-07-19 21:57:00  2994.05  2548.21  2195.1222  1046.1468  1.3204  100   \n",
       "11 2008-07-19 22:52:00  2928.84  2479.40  2196.2111  1605.7578  0.9959  100   \n",
       "12 2008-07-20 03:35:00  2920.07  2507.40  2195.1222  1046.1468  1.3204  100   \n",
       "13 2008-07-21 08:21:00  3051.44  2529.27  2184.4333   877.6266  1.4668  100   \n",
       "14 2008-07-21 11:53:00  2963.97  2629.48  2224.6222   947.7739  1.2924  100   \n",
       "15 2008-07-22 00:03:00  2988.31  2546.26  2224.6222   947.7739  1.2924  100   \n",
       "16 2008-07-22 02:59:00  3028.02  2560.87  2270.2556  1258.4558  1.3950  100   \n",
       "17 2008-07-22 08:41:00  3032.73  2517.79  2270.2556  1258.4558  1.3950  100   \n",
       "\n",
       "           6       7       8  ...     580       581     582     583     584  \\\n",
       "0    97.6133  0.1242  1.5005  ...     NaN       NaN  0.5005  0.0118  0.0035   \n",
       "1   102.3433  0.1247  1.4966  ...  0.0060  208.2045  0.5019  0.0223  0.0055   \n",
       "2    95.4878  0.1241  1.4436  ...  0.0148   82.8602  0.4958  0.0157  0.0039   \n",
       "3   104.2367  0.1217  1.4882  ...  0.0044   73.8432  0.4990  0.0103  0.0025   \n",
       "4   100.3967  0.1235  1.5031  ...     NaN       NaN  0.4800  0.4766  0.1045   \n",
       "5   100.3967  0.1235  1.5287  ...  0.0052   44.0077  0.4949  0.0189  0.0044   \n",
       "6   102.3433  0.1247  1.5816  ...     NaN       NaN  0.5010  0.0143  0.0042   \n",
       "7   106.2400  0.1185  1.5153  ...  0.0063   95.0310  0.4984  0.0106  0.0034   \n",
       "8   106.2400  0.1185  1.5358  ...  0.0045  111.6525  0.4993  0.0172  0.0046   \n",
       "9   106.2400  0.1185  1.5381  ...  0.0073   90.2294  0.4967  0.0152  0.0038   \n",
       "10  103.3400  0.1223  1.5144  ...  0.0071   57.8122  0.4925  0.0158  0.0041   \n",
       "11   97.9156  0.1257  1.4690  ...  0.0081   75.5077  0.4987  0.0427  0.0092   \n",
       "12  103.3400  0.1223  1.5310  ...  0.0034   52.2039  0.4950  0.0153  0.0041   \n",
       "13  107.8711  0.1240  1.5236  ...     NaN       NaN  0.5034  0.0151  0.0038   \n",
       "14  104.8489  0.1197  1.4474  ...  0.0084  142.9080  0.5077  0.0094  0.0026   \n",
       "15  104.8489  0.1197  1.5465  ...  0.0045  100.2745  0.5058  0.0078  0.0021   \n",
       "16  104.8078  0.1207  1.4368  ...  0.0042   82.0989  0.5005  0.0108  0.0034   \n",
       "17  104.8078  0.1207  1.5537  ...     NaN       NaN  0.5015  0.0105  0.0027   \n",
       "\n",
       "        585     586     587     588       589  \n",
       "0    2.3630     NaN     NaN     NaN       NaN  \n",
       "1    4.4447  0.0096  0.0201  0.0060  208.2045  \n",
       "2    3.1745  0.0584  0.0484  0.0148   82.8602  \n",
       "3    2.0544  0.0202  0.0149  0.0044   73.8432  \n",
       "4   99.3032  0.0202  0.0149  0.0044   73.8432  \n",
       "5    3.8276  0.0342  0.0151  0.0052   44.0077  \n",
       "6    2.8515  0.0342  0.0151  0.0052   44.0077  \n",
       "7    2.1261  0.0204  0.0194  0.0063   95.0310  \n",
       "8    3.4456  0.0111  0.0124  0.0045  111.6525  \n",
       "9    3.0687  0.0212  0.0191  0.0073   90.2294  \n",
       "10   3.2115  0.0355  0.0205  0.0071   57.8122  \n",
       "11   8.5646  0.0370  0.0279  0.0081   75.5077  \n",
       "12   3.0926  0.0188  0.0098  0.0034   52.2039  \n",
       "13   3.0063  0.0188  0.0098  0.0034   52.2039  \n",
       "14   1.8483  0.0202  0.0289  0.0084  142.9080  \n",
       "15   1.5352  0.0174  0.0174  0.0045  100.2745  \n",
       "16   2.1574  0.0184  0.0151  0.0042   82.0989  \n",
       "17   2.0979  0.0184  0.0151  0.0042   82.0989  \n",
       "\n",
       "[18 rows x 591 columns]"
      ]
     },
     "execution_count": 61,
     "metadata": {},
     "output_type": "execute_result"
    }
   ],
   "source": [
    "# Import the future data file.\n",
    "futuredata = pd.read_excel('Future_predictions.xlsx')\n",
    "\n",
    "futuredata.head(18)"
   ]
  },
  {
   "cell_type": "markdown",
   "metadata": {},
   "source": [
    "Initially we try to use PCA on Future data with 110 componets, so we got below Error.\n",
    "\n",
    "n_components=110 must be between 0 and min(n_samples, n_features)=18 with svd_solver='full'\n",
    "\n",
    "To avoid this Error, we mearge old data with future data & Apply PCA with 110 components & then split the future data from dataset"
   ]
  },
  {
   "cell_type": "code",
   "execution_count": 62,
   "metadata": {
    "scrolled": true
   },
   "outputs": [],
   "source": [
    "# Merge all datasets into one\n",
    "New_data = pd.concat([futuredata,data],axis=0,sort=False)"
   ]
  },
  {
   "cell_type": "code",
   "execution_count": 63,
   "metadata": {
    "scrolled": true
   },
   "outputs": [
    {
     "name": "stdout",
     "output_type": "stream",
     "text": [
      "1873470 (1585, 1182)\n"
     ]
    }
   ],
   "source": [
    "print(New_data.size,New_data.shape)"
   ]
  },
  {
   "cell_type": "code",
   "execution_count": 64,
   "metadata": {},
   "outputs": [
    {
     "data": {
      "text/html": [
       "<div>\n",
       "<style scoped>\n",
       "    .dataframe tbody tr th:only-of-type {\n",
       "        vertical-align: middle;\n",
       "    }\n",
       "\n",
       "    .dataframe tbody tr th {\n",
       "        vertical-align: top;\n",
       "    }\n",
       "\n",
       "    .dataframe thead th {\n",
       "        text-align: right;\n",
       "    }\n",
       "</style>\n",
       "<table border=\"1\" class=\"dataframe\">\n",
       "  <thead>\n",
       "    <tr style=\"text-align: right;\">\n",
       "      <th></th>\n",
       "      <th>Time</th>\n",
       "      <th>0</th>\n",
       "      <th>1</th>\n",
       "      <th>2</th>\n",
       "      <th>3</th>\n",
       "      <th>4</th>\n",
       "      <th>5</th>\n",
       "      <th>6</th>\n",
       "      <th>7</th>\n",
       "      <th>8</th>\n",
       "      <th>...</th>\n",
       "      <th>581</th>\n",
       "      <th>582</th>\n",
       "      <th>583</th>\n",
       "      <th>584</th>\n",
       "      <th>585</th>\n",
       "      <th>586</th>\n",
       "      <th>587</th>\n",
       "      <th>588</th>\n",
       "      <th>589</th>\n",
       "      <th>Pass/Fail</th>\n",
       "    </tr>\n",
       "  </thead>\n",
       "  <tbody>\n",
       "    <tr>\n",
       "      <th>0</th>\n",
       "      <td>2008-07-19 11:55:00</td>\n",
       "      <td>3030.93</td>\n",
       "      <td>2564.00</td>\n",
       "      <td>2187.7333</td>\n",
       "      <td>1411.1265</td>\n",
       "      <td>1.3602</td>\n",
       "      <td>100.0</td>\n",
       "      <td>97.6133</td>\n",
       "      <td>0.1242</td>\n",
       "      <td>1.5005</td>\n",
       "      <td>...</td>\n",
       "      <td>NaN</td>\n",
       "      <td>NaN</td>\n",
       "      <td>NaN</td>\n",
       "      <td>NaN</td>\n",
       "      <td>NaN</td>\n",
       "      <td>NaN</td>\n",
       "      <td>NaN</td>\n",
       "      <td>NaN</td>\n",
       "      <td>NaN</td>\n",
       "      <td>NaN</td>\n",
       "    </tr>\n",
       "    <tr>\n",
       "      <th>1</th>\n",
       "      <td>2008-07-19 12:32:00</td>\n",
       "      <td>3095.78</td>\n",
       "      <td>2465.14</td>\n",
       "      <td>2230.4222</td>\n",
       "      <td>1463.6606</td>\n",
       "      <td>0.8294</td>\n",
       "      <td>100.0</td>\n",
       "      <td>102.3433</td>\n",
       "      <td>0.1247</td>\n",
       "      <td>1.4966</td>\n",
       "      <td>...</td>\n",
       "      <td>NaN</td>\n",
       "      <td>NaN</td>\n",
       "      <td>NaN</td>\n",
       "      <td>NaN</td>\n",
       "      <td>NaN</td>\n",
       "      <td>NaN</td>\n",
       "      <td>NaN</td>\n",
       "      <td>NaN</td>\n",
       "      <td>NaN</td>\n",
       "      <td>NaN</td>\n",
       "    </tr>\n",
       "    <tr>\n",
       "      <th>2</th>\n",
       "      <td>2008-07-19 13:17:00</td>\n",
       "      <td>2932.61</td>\n",
       "      <td>2559.94</td>\n",
       "      <td>2186.4111</td>\n",
       "      <td>1698.0172</td>\n",
       "      <td>1.5102</td>\n",
       "      <td>100.0</td>\n",
       "      <td>95.4878</td>\n",
       "      <td>0.1241</td>\n",
       "      <td>1.4436</td>\n",
       "      <td>...</td>\n",
       "      <td>NaN</td>\n",
       "      <td>NaN</td>\n",
       "      <td>NaN</td>\n",
       "      <td>NaN</td>\n",
       "      <td>NaN</td>\n",
       "      <td>NaN</td>\n",
       "      <td>NaN</td>\n",
       "      <td>NaN</td>\n",
       "      <td>NaN</td>\n",
       "      <td>NaN</td>\n",
       "    </tr>\n",
       "    <tr>\n",
       "      <th>3</th>\n",
       "      <td>2008-07-19 14:43:00</td>\n",
       "      <td>2988.72</td>\n",
       "      <td>2479.90</td>\n",
       "      <td>2199.0333</td>\n",
       "      <td>909.7926</td>\n",
       "      <td>1.3204</td>\n",
       "      <td>100.0</td>\n",
       "      <td>104.2367</td>\n",
       "      <td>0.1217</td>\n",
       "      <td>1.4882</td>\n",
       "      <td>...</td>\n",
       "      <td>NaN</td>\n",
       "      <td>NaN</td>\n",
       "      <td>NaN</td>\n",
       "      <td>NaN</td>\n",
       "      <td>NaN</td>\n",
       "      <td>NaN</td>\n",
       "      <td>NaN</td>\n",
       "      <td>NaN</td>\n",
       "      <td>NaN</td>\n",
       "      <td>NaN</td>\n",
       "    </tr>\n",
       "    <tr>\n",
       "      <th>4</th>\n",
       "      <td>2008-07-19 15:22:00</td>\n",
       "      <td>3032.24</td>\n",
       "      <td>2502.87</td>\n",
       "      <td>2233.3667</td>\n",
       "      <td>1326.5200</td>\n",
       "      <td>1.5334</td>\n",
       "      <td>100.0</td>\n",
       "      <td>100.3967</td>\n",
       "      <td>0.1235</td>\n",
       "      <td>1.5031</td>\n",
       "      <td>...</td>\n",
       "      <td>NaN</td>\n",
       "      <td>NaN</td>\n",
       "      <td>NaN</td>\n",
       "      <td>NaN</td>\n",
       "      <td>NaN</td>\n",
       "      <td>NaN</td>\n",
       "      <td>NaN</td>\n",
       "      <td>NaN</td>\n",
       "      <td>NaN</td>\n",
       "      <td>NaN</td>\n",
       "    </tr>\n",
       "    <tr>\n",
       "      <th>5</th>\n",
       "      <td>2008-07-19 17:53:00</td>\n",
       "      <td>2946.25</td>\n",
       "      <td>2432.84</td>\n",
       "      <td>2233.3667</td>\n",
       "      <td>1326.5200</td>\n",
       "      <td>1.5334</td>\n",
       "      <td>100.0</td>\n",
       "      <td>100.3967</td>\n",
       "      <td>0.1235</td>\n",
       "      <td>1.5287</td>\n",
       "      <td>...</td>\n",
       "      <td>NaN</td>\n",
       "      <td>NaN</td>\n",
       "      <td>NaN</td>\n",
       "      <td>NaN</td>\n",
       "      <td>NaN</td>\n",
       "      <td>NaN</td>\n",
       "      <td>NaN</td>\n",
       "      <td>NaN</td>\n",
       "      <td>NaN</td>\n",
       "      <td>NaN</td>\n",
       "    </tr>\n",
       "    <tr>\n",
       "      <th>6</th>\n",
       "      <td>2008-07-19 19:44:00</td>\n",
       "      <td>3030.27</td>\n",
       "      <td>2430.12</td>\n",
       "      <td>2230.4222</td>\n",
       "      <td>1463.6606</td>\n",
       "      <td>0.8294</td>\n",
       "      <td>100.0</td>\n",
       "      <td>102.3433</td>\n",
       "      <td>0.1247</td>\n",
       "      <td>1.5816</td>\n",
       "      <td>...</td>\n",
       "      <td>NaN</td>\n",
       "      <td>NaN</td>\n",
       "      <td>NaN</td>\n",
       "      <td>NaN</td>\n",
       "      <td>NaN</td>\n",
       "      <td>NaN</td>\n",
       "      <td>NaN</td>\n",
       "      <td>NaN</td>\n",
       "      <td>NaN</td>\n",
       "      <td>NaN</td>\n",
       "    </tr>\n",
       "    <tr>\n",
       "      <th>7</th>\n",
       "      <td>2008-07-19 19:45:00</td>\n",
       "      <td>3058.88</td>\n",
       "      <td>2690.15</td>\n",
       "      <td>2248.9000</td>\n",
       "      <td>1004.4692</td>\n",
       "      <td>0.7884</td>\n",
       "      <td>100.0</td>\n",
       "      <td>106.2400</td>\n",
       "      <td>0.1185</td>\n",
       "      <td>1.5153</td>\n",
       "      <td>...</td>\n",
       "      <td>NaN</td>\n",
       "      <td>NaN</td>\n",
       "      <td>NaN</td>\n",
       "      <td>NaN</td>\n",
       "      <td>NaN</td>\n",
       "      <td>NaN</td>\n",
       "      <td>NaN</td>\n",
       "      <td>NaN</td>\n",
       "      <td>NaN</td>\n",
       "      <td>NaN</td>\n",
       "    </tr>\n",
       "    <tr>\n",
       "      <th>8</th>\n",
       "      <td>2008-07-19 20:24:00</td>\n",
       "      <td>2967.68</td>\n",
       "      <td>2600.47</td>\n",
       "      <td>2248.9000</td>\n",
       "      <td>1004.4692</td>\n",
       "      <td>0.7884</td>\n",
       "      <td>100.0</td>\n",
       "      <td>106.2400</td>\n",
       "      <td>0.1185</td>\n",
       "      <td>1.5358</td>\n",
       "      <td>...</td>\n",
       "      <td>NaN</td>\n",
       "      <td>NaN</td>\n",
       "      <td>NaN</td>\n",
       "      <td>NaN</td>\n",
       "      <td>NaN</td>\n",
       "      <td>NaN</td>\n",
       "      <td>NaN</td>\n",
       "      <td>NaN</td>\n",
       "      <td>NaN</td>\n",
       "      <td>NaN</td>\n",
       "    </tr>\n",
       "    <tr>\n",
       "      <th>9</th>\n",
       "      <td>2008-07-19 21:35:00</td>\n",
       "      <td>3016.11</td>\n",
       "      <td>2428.37</td>\n",
       "      <td>2248.9000</td>\n",
       "      <td>1004.4692</td>\n",
       "      <td>0.7884</td>\n",
       "      <td>100.0</td>\n",
       "      <td>106.2400</td>\n",
       "      <td>0.1185</td>\n",
       "      <td>1.5381</td>\n",
       "      <td>...</td>\n",
       "      <td>NaN</td>\n",
       "      <td>NaN</td>\n",
       "      <td>NaN</td>\n",
       "      <td>NaN</td>\n",
       "      <td>NaN</td>\n",
       "      <td>NaN</td>\n",
       "      <td>NaN</td>\n",
       "      <td>NaN</td>\n",
       "      <td>NaN</td>\n",
       "      <td>NaN</td>\n",
       "    </tr>\n",
       "    <tr>\n",
       "      <th>10</th>\n",
       "      <td>2008-07-19 21:57:00</td>\n",
       "      <td>2994.05</td>\n",
       "      <td>2548.21</td>\n",
       "      <td>2195.1222</td>\n",
       "      <td>1046.1468</td>\n",
       "      <td>1.3204</td>\n",
       "      <td>100.0</td>\n",
       "      <td>103.3400</td>\n",
       "      <td>0.1223</td>\n",
       "      <td>1.5144</td>\n",
       "      <td>...</td>\n",
       "      <td>NaN</td>\n",
       "      <td>NaN</td>\n",
       "      <td>NaN</td>\n",
       "      <td>NaN</td>\n",
       "      <td>NaN</td>\n",
       "      <td>NaN</td>\n",
       "      <td>NaN</td>\n",
       "      <td>NaN</td>\n",
       "      <td>NaN</td>\n",
       "      <td>NaN</td>\n",
       "    </tr>\n",
       "    <tr>\n",
       "      <th>11</th>\n",
       "      <td>2008-07-19 22:52:00</td>\n",
       "      <td>2928.84</td>\n",
       "      <td>2479.40</td>\n",
       "      <td>2196.2111</td>\n",
       "      <td>1605.7578</td>\n",
       "      <td>0.9959</td>\n",
       "      <td>100.0</td>\n",
       "      <td>97.9156</td>\n",
       "      <td>0.1257</td>\n",
       "      <td>1.4690</td>\n",
       "      <td>...</td>\n",
       "      <td>NaN</td>\n",
       "      <td>NaN</td>\n",
       "      <td>NaN</td>\n",
       "      <td>NaN</td>\n",
       "      <td>NaN</td>\n",
       "      <td>NaN</td>\n",
       "      <td>NaN</td>\n",
       "      <td>NaN</td>\n",
       "      <td>NaN</td>\n",
       "      <td>NaN</td>\n",
       "    </tr>\n",
       "    <tr>\n",
       "      <th>12</th>\n",
       "      <td>2008-07-20 03:35:00</td>\n",
       "      <td>2920.07</td>\n",
       "      <td>2507.40</td>\n",
       "      <td>2195.1222</td>\n",
       "      <td>1046.1468</td>\n",
       "      <td>1.3204</td>\n",
       "      <td>100.0</td>\n",
       "      <td>103.3400</td>\n",
       "      <td>0.1223</td>\n",
       "      <td>1.5310</td>\n",
       "      <td>...</td>\n",
       "      <td>NaN</td>\n",
       "      <td>NaN</td>\n",
       "      <td>NaN</td>\n",
       "      <td>NaN</td>\n",
       "      <td>NaN</td>\n",
       "      <td>NaN</td>\n",
       "      <td>NaN</td>\n",
       "      <td>NaN</td>\n",
       "      <td>NaN</td>\n",
       "      <td>NaN</td>\n",
       "    </tr>\n",
       "    <tr>\n",
       "      <th>13</th>\n",
       "      <td>2008-07-21 08:21:00</td>\n",
       "      <td>3051.44</td>\n",
       "      <td>2529.27</td>\n",
       "      <td>2184.4333</td>\n",
       "      <td>877.6266</td>\n",
       "      <td>1.4668</td>\n",
       "      <td>100.0</td>\n",
       "      <td>107.8711</td>\n",
       "      <td>0.1240</td>\n",
       "      <td>1.5236</td>\n",
       "      <td>...</td>\n",
       "      <td>NaN</td>\n",
       "      <td>NaN</td>\n",
       "      <td>NaN</td>\n",
       "      <td>NaN</td>\n",
       "      <td>NaN</td>\n",
       "      <td>NaN</td>\n",
       "      <td>NaN</td>\n",
       "      <td>NaN</td>\n",
       "      <td>NaN</td>\n",
       "      <td>NaN</td>\n",
       "    </tr>\n",
       "    <tr>\n",
       "      <th>14</th>\n",
       "      <td>2008-07-21 11:53:00</td>\n",
       "      <td>2963.97</td>\n",
       "      <td>2629.48</td>\n",
       "      <td>2224.6222</td>\n",
       "      <td>947.7739</td>\n",
       "      <td>1.2924</td>\n",
       "      <td>100.0</td>\n",
       "      <td>104.8489</td>\n",
       "      <td>0.1197</td>\n",
       "      <td>1.4474</td>\n",
       "      <td>...</td>\n",
       "      <td>NaN</td>\n",
       "      <td>NaN</td>\n",
       "      <td>NaN</td>\n",
       "      <td>NaN</td>\n",
       "      <td>NaN</td>\n",
       "      <td>NaN</td>\n",
       "      <td>NaN</td>\n",
       "      <td>NaN</td>\n",
       "      <td>NaN</td>\n",
       "      <td>NaN</td>\n",
       "    </tr>\n",
       "    <tr>\n",
       "      <th>15</th>\n",
       "      <td>2008-07-22 00:03:00</td>\n",
       "      <td>2988.31</td>\n",
       "      <td>2546.26</td>\n",
       "      <td>2224.6222</td>\n",
       "      <td>947.7739</td>\n",
       "      <td>1.2924</td>\n",
       "      <td>100.0</td>\n",
       "      <td>104.8489</td>\n",
       "      <td>0.1197</td>\n",
       "      <td>1.5465</td>\n",
       "      <td>...</td>\n",
       "      <td>NaN</td>\n",
       "      <td>NaN</td>\n",
       "      <td>NaN</td>\n",
       "      <td>NaN</td>\n",
       "      <td>NaN</td>\n",
       "      <td>NaN</td>\n",
       "      <td>NaN</td>\n",
       "      <td>NaN</td>\n",
       "      <td>NaN</td>\n",
       "      <td>NaN</td>\n",
       "    </tr>\n",
       "    <tr>\n",
       "      <th>16</th>\n",
       "      <td>2008-07-22 02:59:00</td>\n",
       "      <td>3028.02</td>\n",
       "      <td>2560.87</td>\n",
       "      <td>2270.2556</td>\n",
       "      <td>1258.4558</td>\n",
       "      <td>1.3950</td>\n",
       "      <td>100.0</td>\n",
       "      <td>104.8078</td>\n",
       "      <td>0.1207</td>\n",
       "      <td>1.4368</td>\n",
       "      <td>...</td>\n",
       "      <td>NaN</td>\n",
       "      <td>NaN</td>\n",
       "      <td>NaN</td>\n",
       "      <td>NaN</td>\n",
       "      <td>NaN</td>\n",
       "      <td>NaN</td>\n",
       "      <td>NaN</td>\n",
       "      <td>NaN</td>\n",
       "      <td>NaN</td>\n",
       "      <td>NaN</td>\n",
       "    </tr>\n",
       "    <tr>\n",
       "      <th>17</th>\n",
       "      <td>2008-07-22 08:41:00</td>\n",
       "      <td>3032.73</td>\n",
       "      <td>2517.79</td>\n",
       "      <td>2270.2556</td>\n",
       "      <td>1258.4558</td>\n",
       "      <td>1.3950</td>\n",
       "      <td>100.0</td>\n",
       "      <td>104.8078</td>\n",
       "      <td>0.1207</td>\n",
       "      <td>1.5537</td>\n",
       "      <td>...</td>\n",
       "      <td>NaN</td>\n",
       "      <td>NaN</td>\n",
       "      <td>NaN</td>\n",
       "      <td>NaN</td>\n",
       "      <td>NaN</td>\n",
       "      <td>NaN</td>\n",
       "      <td>NaN</td>\n",
       "      <td>NaN</td>\n",
       "      <td>NaN</td>\n",
       "      <td>NaN</td>\n",
       "    </tr>\n",
       "    <tr>\n",
       "      <th>0</th>\n",
       "      <td>2008-07-19 11:55:00</td>\n",
       "      <td>NaN</td>\n",
       "      <td>NaN</td>\n",
       "      <td>NaN</td>\n",
       "      <td>NaN</td>\n",
       "      <td>NaN</td>\n",
       "      <td>NaN</td>\n",
       "      <td>NaN</td>\n",
       "      <td>NaN</td>\n",
       "      <td>NaN</td>\n",
       "      <td>...</td>\n",
       "      <td>0.0000</td>\n",
       "      <td>0.5005</td>\n",
       "      <td>0.0118</td>\n",
       "      <td>0.0035</td>\n",
       "      <td>2.3630</td>\n",
       "      <td>0.0000</td>\n",
       "      <td>0.0000</td>\n",
       "      <td>0.000</td>\n",
       "      <td>0.0000</td>\n",
       "      <td>-1.0</td>\n",
       "    </tr>\n",
       "    <tr>\n",
       "      <th>1</th>\n",
       "      <td>2008-07-19 12:32:00</td>\n",
       "      <td>NaN</td>\n",
       "      <td>NaN</td>\n",
       "      <td>NaN</td>\n",
       "      <td>NaN</td>\n",
       "      <td>NaN</td>\n",
       "      <td>NaN</td>\n",
       "      <td>NaN</td>\n",
       "      <td>NaN</td>\n",
       "      <td>NaN</td>\n",
       "      <td>...</td>\n",
       "      <td>208.2045</td>\n",
       "      <td>0.5019</td>\n",
       "      <td>0.0223</td>\n",
       "      <td>0.0055</td>\n",
       "      <td>4.4447</td>\n",
       "      <td>0.0096</td>\n",
       "      <td>0.0201</td>\n",
       "      <td>0.006</td>\n",
       "      <td>208.2045</td>\n",
       "      <td>-1.0</td>\n",
       "    </tr>\n",
       "  </tbody>\n",
       "</table>\n",
       "<p>20 rows × 1182 columns</p>\n",
       "</div>"
      ],
      "text/plain": [
       "                   Time        0        1          2          3       4  \\\n",
       "0   2008-07-19 11:55:00  3030.93  2564.00  2187.7333  1411.1265  1.3602   \n",
       "1   2008-07-19 12:32:00  3095.78  2465.14  2230.4222  1463.6606  0.8294   \n",
       "2   2008-07-19 13:17:00  2932.61  2559.94  2186.4111  1698.0172  1.5102   \n",
       "3   2008-07-19 14:43:00  2988.72  2479.90  2199.0333   909.7926  1.3204   \n",
       "4   2008-07-19 15:22:00  3032.24  2502.87  2233.3667  1326.5200  1.5334   \n",
       "5   2008-07-19 17:53:00  2946.25  2432.84  2233.3667  1326.5200  1.5334   \n",
       "6   2008-07-19 19:44:00  3030.27  2430.12  2230.4222  1463.6606  0.8294   \n",
       "7   2008-07-19 19:45:00  3058.88  2690.15  2248.9000  1004.4692  0.7884   \n",
       "8   2008-07-19 20:24:00  2967.68  2600.47  2248.9000  1004.4692  0.7884   \n",
       "9   2008-07-19 21:35:00  3016.11  2428.37  2248.9000  1004.4692  0.7884   \n",
       "10  2008-07-19 21:57:00  2994.05  2548.21  2195.1222  1046.1468  1.3204   \n",
       "11  2008-07-19 22:52:00  2928.84  2479.40  2196.2111  1605.7578  0.9959   \n",
       "12  2008-07-20 03:35:00  2920.07  2507.40  2195.1222  1046.1468  1.3204   \n",
       "13  2008-07-21 08:21:00  3051.44  2529.27  2184.4333   877.6266  1.4668   \n",
       "14  2008-07-21 11:53:00  2963.97  2629.48  2224.6222   947.7739  1.2924   \n",
       "15  2008-07-22 00:03:00  2988.31  2546.26  2224.6222   947.7739  1.2924   \n",
       "16  2008-07-22 02:59:00  3028.02  2560.87  2270.2556  1258.4558  1.3950   \n",
       "17  2008-07-22 08:41:00  3032.73  2517.79  2270.2556  1258.4558  1.3950   \n",
       "0   2008-07-19 11:55:00      NaN      NaN        NaN        NaN     NaN   \n",
       "1   2008-07-19 12:32:00      NaN      NaN        NaN        NaN     NaN   \n",
       "\n",
       "        5         6       7       8  ...       581     582     583     584  \\\n",
       "0   100.0   97.6133  0.1242  1.5005  ...       NaN     NaN     NaN     NaN   \n",
       "1   100.0  102.3433  0.1247  1.4966  ...       NaN     NaN     NaN     NaN   \n",
       "2   100.0   95.4878  0.1241  1.4436  ...       NaN     NaN     NaN     NaN   \n",
       "3   100.0  104.2367  0.1217  1.4882  ...       NaN     NaN     NaN     NaN   \n",
       "4   100.0  100.3967  0.1235  1.5031  ...       NaN     NaN     NaN     NaN   \n",
       "5   100.0  100.3967  0.1235  1.5287  ...       NaN     NaN     NaN     NaN   \n",
       "6   100.0  102.3433  0.1247  1.5816  ...       NaN     NaN     NaN     NaN   \n",
       "7   100.0  106.2400  0.1185  1.5153  ...       NaN     NaN     NaN     NaN   \n",
       "8   100.0  106.2400  0.1185  1.5358  ...       NaN     NaN     NaN     NaN   \n",
       "9   100.0  106.2400  0.1185  1.5381  ...       NaN     NaN     NaN     NaN   \n",
       "10  100.0  103.3400  0.1223  1.5144  ...       NaN     NaN     NaN     NaN   \n",
       "11  100.0   97.9156  0.1257  1.4690  ...       NaN     NaN     NaN     NaN   \n",
       "12  100.0  103.3400  0.1223  1.5310  ...       NaN     NaN     NaN     NaN   \n",
       "13  100.0  107.8711  0.1240  1.5236  ...       NaN     NaN     NaN     NaN   \n",
       "14  100.0  104.8489  0.1197  1.4474  ...       NaN     NaN     NaN     NaN   \n",
       "15  100.0  104.8489  0.1197  1.5465  ...       NaN     NaN     NaN     NaN   \n",
       "16  100.0  104.8078  0.1207  1.4368  ...       NaN     NaN     NaN     NaN   \n",
       "17  100.0  104.8078  0.1207  1.5537  ...       NaN     NaN     NaN     NaN   \n",
       "0     NaN       NaN     NaN     NaN  ...    0.0000  0.5005  0.0118  0.0035   \n",
       "1     NaN       NaN     NaN     NaN  ...  208.2045  0.5019  0.0223  0.0055   \n",
       "\n",
       "       585     586     587    588       589  Pass/Fail  \n",
       "0      NaN     NaN     NaN    NaN       NaN        NaN  \n",
       "1      NaN     NaN     NaN    NaN       NaN        NaN  \n",
       "2      NaN     NaN     NaN    NaN       NaN        NaN  \n",
       "3      NaN     NaN     NaN    NaN       NaN        NaN  \n",
       "4      NaN     NaN     NaN    NaN       NaN        NaN  \n",
       "5      NaN     NaN     NaN    NaN       NaN        NaN  \n",
       "6      NaN     NaN     NaN    NaN       NaN        NaN  \n",
       "7      NaN     NaN     NaN    NaN       NaN        NaN  \n",
       "8      NaN     NaN     NaN    NaN       NaN        NaN  \n",
       "9      NaN     NaN     NaN    NaN       NaN        NaN  \n",
       "10     NaN     NaN     NaN    NaN       NaN        NaN  \n",
       "11     NaN     NaN     NaN    NaN       NaN        NaN  \n",
       "12     NaN     NaN     NaN    NaN       NaN        NaN  \n",
       "13     NaN     NaN     NaN    NaN       NaN        NaN  \n",
       "14     NaN     NaN     NaN    NaN       NaN        NaN  \n",
       "15     NaN     NaN     NaN    NaN       NaN        NaN  \n",
       "16     NaN     NaN     NaN    NaN       NaN        NaN  \n",
       "17     NaN     NaN     NaN    NaN       NaN        NaN  \n",
       "0   2.3630  0.0000  0.0000  0.000    0.0000       -1.0  \n",
       "1   4.4447  0.0096  0.0201  0.006  208.2045       -1.0  \n",
       "\n",
       "[20 rows x 1182 columns]"
      ]
     },
     "execution_count": 64,
     "metadata": {},
     "output_type": "execute_result"
    }
   ],
   "source": [
    "New_data.head(20)"
   ]
  },
  {
   "cell_type": "code",
   "execution_count": 65,
   "metadata": {
    "scrolled": true
   },
   "outputs": [],
   "source": [
    "# Transform data into features and target\n",
    "x = New_data.drop('Pass/Fail',axis=1) \n",
    "y = New_data['Pass/Fail']"
   ]
  },
  {
   "cell_type": "code",
   "execution_count": 66,
   "metadata": {},
   "outputs": [
    {
     "data": {
      "text/plain": [
       "False"
      ]
     },
     "execution_count": 66,
     "metadata": {},
     "output_type": "execute_result"
    }
   ],
   "source": [
    "# Replace Null values with 0\n",
    "x = x.replace(np.NaN, 0)\n",
    "\n",
    "# Explore for null values\n",
    "x.isnull().any().any()"
   ]
  },
  {
   "cell_type": "code",
   "execution_count": 67,
   "metadata": {},
   "outputs": [],
   "source": [
    "#Drop columns with very low standard deviation thresholds \n",
    "threshold = 0.1\n",
    "x=x.drop(x.std()[x.std() < threshold].index.values, axis=1)"
   ]
  },
  {
   "cell_type": "code",
   "execution_count": 68,
   "metadata": {},
   "outputs": [
    {
     "data": {
      "text/html": [
       "<div>\n",
       "<style scoped>\n",
       "    .dataframe tbody tr th:only-of-type {\n",
       "        vertical-align: middle;\n",
       "    }\n",
       "\n",
       "    .dataframe tbody tr th {\n",
       "        vertical-align: top;\n",
       "    }\n",
       "\n",
       "    .dataframe thead th {\n",
       "        text-align: right;\n",
       "    }\n",
       "</style>\n",
       "<table border=\"1\" class=\"dataframe\">\n",
       "  <thead>\n",
       "    <tr style=\"text-align: right;\">\n",
       "      <th></th>\n",
       "      <th>0</th>\n",
       "      <th>21</th>\n",
       "      <th>24</th>\n",
       "      <th>59</th>\n",
       "      <th>72</th>\n",
       "      <th>155</th>\n",
       "      <th>195</th>\n",
       "      <th>419</th>\n",
       "      <th>468</th>\n",
       "      <th>484</th>\n",
       "      <th>...</th>\n",
       "      <th>551</th>\n",
       "      <th>559</th>\n",
       "      <th>562</th>\n",
       "      <th>564</th>\n",
       "      <th>569</th>\n",
       "      <th>571</th>\n",
       "      <th>572</th>\n",
       "      <th>581</th>\n",
       "      <th>585</th>\n",
       "      <th>589</th>\n",
       "    </tr>\n",
       "  </thead>\n",
       "  <tbody>\n",
       "    <tr>\n",
       "      <th>0</th>\n",
       "      <td>3030.93</td>\n",
       "      <td>-5419.00</td>\n",
       "      <td>751.00</td>\n",
       "      <td>-1.7264</td>\n",
       "      <td>0.0000</td>\n",
       "      <td>0.41</td>\n",
       "      <td>0.292</td>\n",
       "      <td>0.0000</td>\n",
       "      <td>311.6377</td>\n",
       "      <td>494.6996</td>\n",
       "      <td>...</td>\n",
       "      <td>0.0</td>\n",
       "      <td>0.0</td>\n",
       "      <td>0.0</td>\n",
       "      <td>0.0</td>\n",
       "      <td>0.0</td>\n",
       "      <td>0.0</td>\n",
       "      <td>0.0</td>\n",
       "      <td>0.0</td>\n",
       "      <td>0.0</td>\n",
       "      <td>0.0</td>\n",
       "    </tr>\n",
       "    <tr>\n",
       "      <th>1</th>\n",
       "      <td>3095.78</td>\n",
       "      <td>-5441.50</td>\n",
       "      <td>-1640.25</td>\n",
       "      <td>0.8073</td>\n",
       "      <td>0.0000</td>\n",
       "      <td>0.35</td>\n",
       "      <td>0.222</td>\n",
       "      <td>368.9713</td>\n",
       "      <td>463.2883</td>\n",
       "      <td>0.0000</td>\n",
       "      <td>...</td>\n",
       "      <td>0.0</td>\n",
       "      <td>0.0</td>\n",
       "      <td>0.0</td>\n",
       "      <td>0.0</td>\n",
       "      <td>0.0</td>\n",
       "      <td>0.0</td>\n",
       "      <td>0.0</td>\n",
       "      <td>0.0</td>\n",
       "      <td>0.0</td>\n",
       "      <td>0.0</td>\n",
       "    </tr>\n",
       "    <tr>\n",
       "      <th>2</th>\n",
       "      <td>2932.61</td>\n",
       "      <td>-5447.75</td>\n",
       "      <td>-1916.50</td>\n",
       "      <td>23.8245</td>\n",
       "      <td>140.6972</td>\n",
       "      <td>0.47</td>\n",
       "      <td>0.139</td>\n",
       "      <td>0.0000</td>\n",
       "      <td>21.3645</td>\n",
       "      <td>0.0000</td>\n",
       "      <td>...</td>\n",
       "      <td>0.0</td>\n",
       "      <td>0.0</td>\n",
       "      <td>0.0</td>\n",
       "      <td>0.0</td>\n",
       "      <td>0.0</td>\n",
       "      <td>0.0</td>\n",
       "      <td>0.0</td>\n",
       "      <td>0.0</td>\n",
       "      <td>0.0</td>\n",
       "      <td>0.0</td>\n",
       "    </tr>\n",
       "    <tr>\n",
       "      <th>3</th>\n",
       "      <td>2988.72</td>\n",
       "      <td>-5468.25</td>\n",
       "      <td>-1657.25</td>\n",
       "      <td>24.3791</td>\n",
       "      <td>160.3210</td>\n",
       "      <td>0.35</td>\n",
       "      <td>0.139</td>\n",
       "      <td>0.0000</td>\n",
       "      <td>24.2831</td>\n",
       "      <td>305.7500</td>\n",
       "      <td>...</td>\n",
       "      <td>0.0</td>\n",
       "      <td>0.0</td>\n",
       "      <td>0.0</td>\n",
       "      <td>0.0</td>\n",
       "      <td>0.0</td>\n",
       "      <td>0.0</td>\n",
       "      <td>0.0</td>\n",
       "      <td>0.0</td>\n",
       "      <td>0.0</td>\n",
       "      <td>0.0</td>\n",
       "    </tr>\n",
       "    <tr>\n",
       "      <th>4</th>\n",
       "      <td>3032.24</td>\n",
       "      <td>-5476.25</td>\n",
       "      <td>117.00</td>\n",
       "      <td>-12.2945</td>\n",
       "      <td>0.0000</td>\n",
       "      <td>0.43</td>\n",
       "      <td>0.250</td>\n",
       "      <td>866.0295</td>\n",
       "      <td>44.8980</td>\n",
       "      <td>461.8619</td>\n",
       "      <td>...</td>\n",
       "      <td>0.0</td>\n",
       "      <td>0.0</td>\n",
       "      <td>0.0</td>\n",
       "      <td>0.0</td>\n",
       "      <td>0.0</td>\n",
       "      <td>0.0</td>\n",
       "      <td>0.0</td>\n",
       "      <td>0.0</td>\n",
       "      <td>0.0</td>\n",
       "      <td>0.0</td>\n",
       "    </tr>\n",
       "  </tbody>\n",
       "</table>\n",
       "<p>5 rows × 146 columns</p>\n",
       "</div>"
      ],
      "text/plain": [
       "         0       21       24       59        72   155    195       419  \\\n",
       "0  3030.93 -5419.00   751.00  -1.7264    0.0000  0.41  0.292    0.0000   \n",
       "1  3095.78 -5441.50 -1640.25   0.8073    0.0000  0.35  0.222  368.9713   \n",
       "2  2932.61 -5447.75 -1916.50  23.8245  140.6972  0.47  0.139    0.0000   \n",
       "3  2988.72 -5468.25 -1657.25  24.3791  160.3210  0.35  0.139    0.0000   \n",
       "4  3032.24 -5476.25   117.00 -12.2945    0.0000  0.43  0.250  866.0295   \n",
       "\n",
       "        468       484  ...  551  559  562  564  569  571  572  581  585  589  \n",
       "0  311.6377  494.6996  ...  0.0  0.0  0.0  0.0  0.0  0.0  0.0  0.0  0.0  0.0  \n",
       "1  463.2883    0.0000  ...  0.0  0.0  0.0  0.0  0.0  0.0  0.0  0.0  0.0  0.0  \n",
       "2   21.3645    0.0000  ...  0.0  0.0  0.0  0.0  0.0  0.0  0.0  0.0  0.0  0.0  \n",
       "3   24.2831  305.7500  ...  0.0  0.0  0.0  0.0  0.0  0.0  0.0  0.0  0.0  0.0  \n",
       "4   44.8980  461.8619  ...  0.0  0.0  0.0  0.0  0.0  0.0  0.0  0.0  0.0  0.0  \n",
       "\n",
       "[5 rows x 146 columns]"
      ]
     },
     "execution_count": 68,
     "metadata": {},
     "output_type": "execute_result"
    }
   ],
   "source": [
    "x = correlation(x,0.75)\n",
    "\n",
    "# Drop Time column as it's not important for prediction\n",
    "x.drop(columns='Time',axis=1, inplace=True)\n",
    "\n",
    "x.head()"
   ]
  },
  {
   "cell_type": "code",
   "execution_count": 69,
   "metadata": {},
   "outputs": [],
   "source": [
    "# Perform normalisation\n",
    "from sklearn import preprocessing\n",
    "from sklearn.preprocessing import StandardScaler\n",
    "\n",
    "X_std = pd.DataFrame(StandardScaler().fit_transform(x))"
   ]
  },
  {
   "cell_type": "code",
   "execution_count": 70,
   "metadata": {},
   "outputs": [
    {
     "name": "stdout",
     "output_type": "stream",
     "text": [
      "[[ 0.2391732  -0.23136255 -0.05366945 ... -0.01296144 -0.02270402\n",
      "  -0.02843155]\n",
      " [-0.00252942  0.00244584  0.00059197 ... -0.01640365  0.01211507\n",
      "   0.02169596]\n",
      " [ 0.02843823 -0.02743331 -0.00701227 ...  0.00353978  0.00351542\n",
      "   0.02861998]\n",
      " ...\n",
      " [-0.04312746  0.05716021 -0.0454439  ...  0.04638216 -0.04791196\n",
      "  -0.09269641]\n",
      " [ 0.0013761   0.00204488 -0.00906541 ... -0.1644962   0.02969353\n",
      "   0.07768011]\n",
      " [ 0.03170375 -0.03235103  0.01002782 ... -0.07701233  0.0341693\n",
      "   0.12187898]]\n",
      "[0.11433965 0.04058272 0.02591244 0.02137719 0.01868959 0.01842085\n",
      " 0.01661647 0.01516801 0.01412177 0.01378693 0.01351134 0.01308172\n",
      " 0.01277194 0.0127325  0.0125783  0.01229295 0.0120184  0.0114359\n",
      " 0.01122287 0.01091629 0.01065202 0.01042998 0.01029114 0.01011629\n",
      " 0.01007435 0.00997845 0.00997302 0.00945608 0.0091529  0.00904573\n",
      " 0.00883982 0.00872123 0.00850695 0.00844872 0.0082314  0.00820223\n",
      " 0.00805033 0.00791226 0.00776348 0.00775666 0.00768603 0.00752916\n",
      " 0.00751491 0.00744661 0.00733083 0.00727285 0.00718581 0.00713043\n",
      " 0.00698469 0.00690234 0.00677623 0.00671966 0.00667204 0.0065932\n",
      " 0.00648159 0.00644449 0.0063715  0.00631811 0.00622773 0.00618166\n",
      " 0.00610452 0.00595516 0.00592488 0.00585434 0.00580944 0.00577587\n",
      " 0.00563029 0.00559983 0.00545522 0.00540252 0.00528113 0.0052504\n",
      " 0.00517644 0.00509991 0.00504643 0.00495116 0.00492147 0.00491016\n",
      " 0.00488845 0.00485529 0.00469841 0.00459879 0.0044993  0.0044389\n",
      " 0.00436991 0.00431641 0.00424516 0.00414716 0.00408119 0.0039893\n",
      " 0.00393444 0.0038412  0.00382815 0.00374418 0.00364299 0.00353065\n",
      " 0.0034775  0.00345679 0.00336988 0.00321012 0.00317279 0.00313293\n",
      " 0.00301554 0.00296766 0.00289401 0.00279702 0.00258039 0.00256461\n",
      " 0.00246342 0.00244134]\n"
     ]
    }
   ],
   "source": [
    "#Apply PCA with 110 Dimensions\n",
    "\n",
    "pca110 = PCA(n_components=110)\n",
    "pca110.fit(X_std)\n",
    "print(pca110.components_)\n",
    "print(pca110.explained_variance_ratio_)\n",
    "Xpca110 = pca110.transform(X_std)"
   ]
  },
  {
   "cell_type": "code",
   "execution_count": 71,
   "metadata": {},
   "outputs": [
    {
     "name": "stdout",
     "output_type": "stream",
     "text": [
      "174350 (1585, 110)\n"
     ]
    }
   ],
   "source": [
    "print(Xpca110.size,Xpca110.shape)"
   ]
  },
  {
   "cell_type": "code",
   "execution_count": 72,
   "metadata": {},
   "outputs": [],
   "source": [
    "future_data=pd.DataFrame(Xpca110)"
   ]
  },
  {
   "cell_type": "code",
   "execution_count": 73,
   "metadata": {},
   "outputs": [],
   "source": [
    "future_data=future_data[:18]"
   ]
  },
  {
   "cell_type": "code",
   "execution_count": 74,
   "metadata": {},
   "outputs": [
    {
     "data": {
      "text/html": [
       "<div>\n",
       "<style scoped>\n",
       "    .dataframe tbody tr th:only-of-type {\n",
       "        vertical-align: middle;\n",
       "    }\n",
       "\n",
       "    .dataframe tbody tr th {\n",
       "        vertical-align: top;\n",
       "    }\n",
       "\n",
       "    .dataframe thead th {\n",
       "        text-align: right;\n",
       "    }\n",
       "</style>\n",
       "<table border=\"1\" class=\"dataframe\">\n",
       "  <thead>\n",
       "    <tr style=\"text-align: right;\">\n",
       "      <th></th>\n",
       "      <th>0</th>\n",
       "      <th>1</th>\n",
       "      <th>2</th>\n",
       "      <th>3</th>\n",
       "      <th>4</th>\n",
       "      <th>5</th>\n",
       "      <th>6</th>\n",
       "      <th>7</th>\n",
       "      <th>8</th>\n",
       "      <th>9</th>\n",
       "      <th>...</th>\n",
       "      <th>100</th>\n",
       "      <th>101</th>\n",
       "      <th>102</th>\n",
       "      <th>103</th>\n",
       "      <th>104</th>\n",
       "      <th>105</th>\n",
       "      <th>106</th>\n",
       "      <th>107</th>\n",
       "      <th>108</th>\n",
       "      <th>109</th>\n",
       "    </tr>\n",
       "  </thead>\n",
       "  <tbody>\n",
       "    <tr>\n",
       "      <th>0</th>\n",
       "      <td>35.570109</td>\n",
       "      <td>-0.120765</td>\n",
       "      <td>0.769271</td>\n",
       "      <td>0.263358</td>\n",
       "      <td>0.063360</td>\n",
       "      <td>0.009141</td>\n",
       "      <td>0.268532</td>\n",
       "      <td>0.058913</td>\n",
       "      <td>-0.016425</td>\n",
       "      <td>0.000155</td>\n",
       "      <td>...</td>\n",
       "      <td>-1.858673</td>\n",
       "      <td>-0.090237</td>\n",
       "      <td>3.152250</td>\n",
       "      <td>-1.153675</td>\n",
       "      <td>4.166764</td>\n",
       "      <td>1.491916</td>\n",
       "      <td>0.778739</td>\n",
       "      <td>-1.116061</td>\n",
       "      <td>-0.037024</td>\n",
       "      <td>0.461281</td>\n",
       "    </tr>\n",
       "    <tr>\n",
       "      <th>1</th>\n",
       "      <td>34.785656</td>\n",
       "      <td>-0.110758</td>\n",
       "      <td>0.638909</td>\n",
       "      <td>0.199133</td>\n",
       "      <td>0.042587</td>\n",
       "      <td>0.006024</td>\n",
       "      <td>0.146664</td>\n",
       "      <td>0.017662</td>\n",
       "      <td>-0.057492</td>\n",
       "      <td>0.000125</td>\n",
       "      <td>...</td>\n",
       "      <td>1.782538</td>\n",
       "      <td>0.033128</td>\n",
       "      <td>-1.830237</td>\n",
       "      <td>0.678991</td>\n",
       "      <td>-1.611492</td>\n",
       "      <td>-0.169796</td>\n",
       "      <td>-0.089517</td>\n",
       "      <td>-0.731571</td>\n",
       "      <td>-0.690225</td>\n",
       "      <td>-0.227102</td>\n",
       "    </tr>\n",
       "    <tr>\n",
       "      <th>2</th>\n",
       "      <td>37.240279</td>\n",
       "      <td>-0.139624</td>\n",
       "      <td>1.005795</td>\n",
       "      <td>0.384457</td>\n",
       "      <td>0.106575</td>\n",
       "      <td>0.015741</td>\n",
       "      <td>0.584349</td>\n",
       "      <td>0.222400</td>\n",
       "      <td>0.451579</td>\n",
       "      <td>-0.000619</td>\n",
       "      <td>...</td>\n",
       "      <td>0.050339</td>\n",
       "      <td>0.116312</td>\n",
       "      <td>0.100397</td>\n",
       "      <td>-0.402701</td>\n",
       "      <td>1.280655</td>\n",
       "      <td>0.532372</td>\n",
       "      <td>1.338165</td>\n",
       "      <td>-0.594471</td>\n",
       "      <td>0.964639</td>\n",
       "      <td>1.481959</td>\n",
       "    </tr>\n",
       "    <tr>\n",
       "      <th>3</th>\n",
       "      <td>42.039032</td>\n",
       "      <td>-0.195891</td>\n",
       "      <td>1.707063</td>\n",
       "      <td>0.729658</td>\n",
       "      <td>0.221477</td>\n",
       "      <td>0.032983</td>\n",
       "      <td>1.324031</td>\n",
       "      <td>0.538014</td>\n",
       "      <td>1.132531</td>\n",
       "      <td>-0.001694</td>\n",
       "      <td>...</td>\n",
       "      <td>-0.821389</td>\n",
       "      <td>-0.048995</td>\n",
       "      <td>0.722318</td>\n",
       "      <td>-0.096756</td>\n",
       "      <td>0.032884</td>\n",
       "      <td>-0.193147</td>\n",
       "      <td>-0.563614</td>\n",
       "      <td>0.522127</td>\n",
       "      <td>-0.073331</td>\n",
       "      <td>-0.514558</td>\n",
       "    </tr>\n",
       "    <tr>\n",
       "      <th>4</th>\n",
       "      <td>36.650459</td>\n",
       "      <td>-0.130782</td>\n",
       "      <td>0.857652</td>\n",
       "      <td>0.293518</td>\n",
       "      <td>0.068869</td>\n",
       "      <td>0.009888</td>\n",
       "      <td>0.266354</td>\n",
       "      <td>0.038643</td>\n",
       "      <td>-0.114979</td>\n",
       "      <td>0.000342</td>\n",
       "      <td>...</td>\n",
       "      <td>0.162644</td>\n",
       "      <td>0.038494</td>\n",
       "      <td>-0.664177</td>\n",
       "      <td>0.134328</td>\n",
       "      <td>-0.819852</td>\n",
       "      <td>-0.385050</td>\n",
       "      <td>0.108242</td>\n",
       "      <td>0.429243</td>\n",
       "      <td>0.448464</td>\n",
       "      <td>0.312810</td>\n",
       "    </tr>\n",
       "  </tbody>\n",
       "</table>\n",
       "<p>5 rows × 110 columns</p>\n",
       "</div>"
      ],
      "text/plain": [
       "         0         1         2         3         4         5         6    \\\n",
       "0  35.570109 -0.120765  0.769271  0.263358  0.063360  0.009141  0.268532   \n",
       "1  34.785656 -0.110758  0.638909  0.199133  0.042587  0.006024  0.146664   \n",
       "2  37.240279 -0.139624  1.005795  0.384457  0.106575  0.015741  0.584349   \n",
       "3  42.039032 -0.195891  1.707063  0.729658  0.221477  0.032983  1.324031   \n",
       "4  36.650459 -0.130782  0.857652  0.293518  0.068869  0.009888  0.266354   \n",
       "\n",
       "        7         8         9    ...       100       101       102       103  \\\n",
       "0  0.058913 -0.016425  0.000155  ... -1.858673 -0.090237  3.152250 -1.153675   \n",
       "1  0.017662 -0.057492  0.000125  ...  1.782538  0.033128 -1.830237  0.678991   \n",
       "2  0.222400  0.451579 -0.000619  ...  0.050339  0.116312  0.100397 -0.402701   \n",
       "3  0.538014  1.132531 -0.001694  ... -0.821389 -0.048995  0.722318 -0.096756   \n",
       "4  0.038643 -0.114979  0.000342  ...  0.162644  0.038494 -0.664177  0.134328   \n",
       "\n",
       "        104       105       106       107       108       109  \n",
       "0  4.166764  1.491916  0.778739 -1.116061 -0.037024  0.461281  \n",
       "1 -1.611492 -0.169796 -0.089517 -0.731571 -0.690225 -0.227102  \n",
       "2  1.280655  0.532372  1.338165 -0.594471  0.964639  1.481959  \n",
       "3  0.032884 -0.193147 -0.563614  0.522127 -0.073331 -0.514558  \n",
       "4 -0.819852 -0.385050  0.108242  0.429243  0.448464  0.312810  \n",
       "\n",
       "[5 rows x 110 columns]"
      ]
     },
     "execution_count": 74,
     "metadata": {},
     "output_type": "execute_result"
    }
   ],
   "source": [
    "future_data.head()"
   ]
  },
  {
   "cell_type": "code",
   "execution_count": 75,
   "metadata": {},
   "outputs": [],
   "source": [
    "Prediction = loaded_model.predict(future_data)"
   ]
  },
  {
   "cell_type": "code",
   "execution_count": 76,
   "metadata": {},
   "outputs": [],
   "source": [
    "futuredata['Passs/Fail']=Prediction"
   ]
  },
  {
   "cell_type": "code",
   "execution_count": 77,
   "metadata": {},
   "outputs": [
    {
     "data": {
      "text/html": [
       "<div>\n",
       "<style scoped>\n",
       "    .dataframe tbody tr th:only-of-type {\n",
       "        vertical-align: middle;\n",
       "    }\n",
       "\n",
       "    .dataframe tbody tr th {\n",
       "        vertical-align: top;\n",
       "    }\n",
       "\n",
       "    .dataframe thead th {\n",
       "        text-align: right;\n",
       "    }\n",
       "</style>\n",
       "<table border=\"1\" class=\"dataframe\">\n",
       "  <thead>\n",
       "    <tr style=\"text-align: right;\">\n",
       "      <th></th>\n",
       "      <th>Time</th>\n",
       "      <th>0</th>\n",
       "      <th>1</th>\n",
       "      <th>2</th>\n",
       "      <th>3</th>\n",
       "      <th>4</th>\n",
       "      <th>5</th>\n",
       "      <th>6</th>\n",
       "      <th>7</th>\n",
       "      <th>8</th>\n",
       "      <th>...</th>\n",
       "      <th>581</th>\n",
       "      <th>582</th>\n",
       "      <th>583</th>\n",
       "      <th>584</th>\n",
       "      <th>585</th>\n",
       "      <th>586</th>\n",
       "      <th>587</th>\n",
       "      <th>588</th>\n",
       "      <th>589</th>\n",
       "      <th>Passs/Fail</th>\n",
       "    </tr>\n",
       "  </thead>\n",
       "  <tbody>\n",
       "    <tr>\n",
       "      <th>0</th>\n",
       "      <td>2008-07-19 11:55:00</td>\n",
       "      <td>3030.93</td>\n",
       "      <td>2564.00</td>\n",
       "      <td>2187.7333</td>\n",
       "      <td>1411.1265</td>\n",
       "      <td>1.3602</td>\n",
       "      <td>100</td>\n",
       "      <td>97.6133</td>\n",
       "      <td>0.1242</td>\n",
       "      <td>1.5005</td>\n",
       "      <td>...</td>\n",
       "      <td>NaN</td>\n",
       "      <td>0.5005</td>\n",
       "      <td>0.0118</td>\n",
       "      <td>0.0035</td>\n",
       "      <td>2.3630</td>\n",
       "      <td>NaN</td>\n",
       "      <td>NaN</td>\n",
       "      <td>NaN</td>\n",
       "      <td>NaN</td>\n",
       "      <td>0</td>\n",
       "    </tr>\n",
       "    <tr>\n",
       "      <th>1</th>\n",
       "      <td>2008-07-19 12:32:00</td>\n",
       "      <td>3095.78</td>\n",
       "      <td>2465.14</td>\n",
       "      <td>2230.4222</td>\n",
       "      <td>1463.6606</td>\n",
       "      <td>0.8294</td>\n",
       "      <td>100</td>\n",
       "      <td>102.3433</td>\n",
       "      <td>0.1247</td>\n",
       "      <td>1.4966</td>\n",
       "      <td>...</td>\n",
       "      <td>208.2045</td>\n",
       "      <td>0.5019</td>\n",
       "      <td>0.0223</td>\n",
       "      <td>0.0055</td>\n",
       "      <td>4.4447</td>\n",
       "      <td>0.0096</td>\n",
       "      <td>0.0201</td>\n",
       "      <td>0.0060</td>\n",
       "      <td>208.2045</td>\n",
       "      <td>0</td>\n",
       "    </tr>\n",
       "    <tr>\n",
       "      <th>2</th>\n",
       "      <td>2008-07-19 13:17:00</td>\n",
       "      <td>2932.61</td>\n",
       "      <td>2559.94</td>\n",
       "      <td>2186.4111</td>\n",
       "      <td>1698.0172</td>\n",
       "      <td>1.5102</td>\n",
       "      <td>100</td>\n",
       "      <td>95.4878</td>\n",
       "      <td>0.1241</td>\n",
       "      <td>1.4436</td>\n",
       "      <td>...</td>\n",
       "      <td>82.8602</td>\n",
       "      <td>0.4958</td>\n",
       "      <td>0.0157</td>\n",
       "      <td>0.0039</td>\n",
       "      <td>3.1745</td>\n",
       "      <td>0.0584</td>\n",
       "      <td>0.0484</td>\n",
       "      <td>0.0148</td>\n",
       "      <td>82.8602</td>\n",
       "      <td>0</td>\n",
       "    </tr>\n",
       "    <tr>\n",
       "      <th>3</th>\n",
       "      <td>2008-07-19 14:43:00</td>\n",
       "      <td>2988.72</td>\n",
       "      <td>2479.90</td>\n",
       "      <td>2199.0333</td>\n",
       "      <td>909.7926</td>\n",
       "      <td>1.3204</td>\n",
       "      <td>100</td>\n",
       "      <td>104.2367</td>\n",
       "      <td>0.1217</td>\n",
       "      <td>1.4882</td>\n",
       "      <td>...</td>\n",
       "      <td>73.8432</td>\n",
       "      <td>0.4990</td>\n",
       "      <td>0.0103</td>\n",
       "      <td>0.0025</td>\n",
       "      <td>2.0544</td>\n",
       "      <td>0.0202</td>\n",
       "      <td>0.0149</td>\n",
       "      <td>0.0044</td>\n",
       "      <td>73.8432</td>\n",
       "      <td>0</td>\n",
       "    </tr>\n",
       "    <tr>\n",
       "      <th>4</th>\n",
       "      <td>2008-07-19 15:22:00</td>\n",
       "      <td>3032.24</td>\n",
       "      <td>2502.87</td>\n",
       "      <td>2233.3667</td>\n",
       "      <td>1326.5200</td>\n",
       "      <td>1.5334</td>\n",
       "      <td>100</td>\n",
       "      <td>100.3967</td>\n",
       "      <td>0.1235</td>\n",
       "      <td>1.5031</td>\n",
       "      <td>...</td>\n",
       "      <td>NaN</td>\n",
       "      <td>0.4800</td>\n",
       "      <td>0.4766</td>\n",
       "      <td>0.1045</td>\n",
       "      <td>99.3032</td>\n",
       "      <td>0.0202</td>\n",
       "      <td>0.0149</td>\n",
       "      <td>0.0044</td>\n",
       "      <td>73.8432</td>\n",
       "      <td>0</td>\n",
       "    </tr>\n",
       "    <tr>\n",
       "      <th>5</th>\n",
       "      <td>2008-07-19 17:53:00</td>\n",
       "      <td>2946.25</td>\n",
       "      <td>2432.84</td>\n",
       "      <td>2233.3667</td>\n",
       "      <td>1326.5200</td>\n",
       "      <td>1.5334</td>\n",
       "      <td>100</td>\n",
       "      <td>100.3967</td>\n",
       "      <td>0.1235</td>\n",
       "      <td>1.5287</td>\n",
       "      <td>...</td>\n",
       "      <td>44.0077</td>\n",
       "      <td>0.4949</td>\n",
       "      <td>0.0189</td>\n",
       "      <td>0.0044</td>\n",
       "      <td>3.8276</td>\n",
       "      <td>0.0342</td>\n",
       "      <td>0.0151</td>\n",
       "      <td>0.0052</td>\n",
       "      <td>44.0077</td>\n",
       "      <td>0</td>\n",
       "    </tr>\n",
       "    <tr>\n",
       "      <th>6</th>\n",
       "      <td>2008-07-19 19:44:00</td>\n",
       "      <td>3030.27</td>\n",
       "      <td>2430.12</td>\n",
       "      <td>2230.4222</td>\n",
       "      <td>1463.6606</td>\n",
       "      <td>0.8294</td>\n",
       "      <td>100</td>\n",
       "      <td>102.3433</td>\n",
       "      <td>0.1247</td>\n",
       "      <td>1.5816</td>\n",
       "      <td>...</td>\n",
       "      <td>NaN</td>\n",
       "      <td>0.5010</td>\n",
       "      <td>0.0143</td>\n",
       "      <td>0.0042</td>\n",
       "      <td>2.8515</td>\n",
       "      <td>0.0342</td>\n",
       "      <td>0.0151</td>\n",
       "      <td>0.0052</td>\n",
       "      <td>44.0077</td>\n",
       "      <td>0</td>\n",
       "    </tr>\n",
       "    <tr>\n",
       "      <th>7</th>\n",
       "      <td>2008-07-19 19:45:00</td>\n",
       "      <td>3058.88</td>\n",
       "      <td>2690.15</td>\n",
       "      <td>2248.9000</td>\n",
       "      <td>1004.4692</td>\n",
       "      <td>0.7884</td>\n",
       "      <td>100</td>\n",
       "      <td>106.2400</td>\n",
       "      <td>0.1185</td>\n",
       "      <td>1.5153</td>\n",
       "      <td>...</td>\n",
       "      <td>95.0310</td>\n",
       "      <td>0.4984</td>\n",
       "      <td>0.0106</td>\n",
       "      <td>0.0034</td>\n",
       "      <td>2.1261</td>\n",
       "      <td>0.0204</td>\n",
       "      <td>0.0194</td>\n",
       "      <td>0.0063</td>\n",
       "      <td>95.0310</td>\n",
       "      <td>0</td>\n",
       "    </tr>\n",
       "    <tr>\n",
       "      <th>8</th>\n",
       "      <td>2008-07-19 20:24:00</td>\n",
       "      <td>2967.68</td>\n",
       "      <td>2600.47</td>\n",
       "      <td>2248.9000</td>\n",
       "      <td>1004.4692</td>\n",
       "      <td>0.7884</td>\n",
       "      <td>100</td>\n",
       "      <td>106.2400</td>\n",
       "      <td>0.1185</td>\n",
       "      <td>1.5358</td>\n",
       "      <td>...</td>\n",
       "      <td>111.6525</td>\n",
       "      <td>0.4993</td>\n",
       "      <td>0.0172</td>\n",
       "      <td>0.0046</td>\n",
       "      <td>3.4456</td>\n",
       "      <td>0.0111</td>\n",
       "      <td>0.0124</td>\n",
       "      <td>0.0045</td>\n",
       "      <td>111.6525</td>\n",
       "      <td>0</td>\n",
       "    </tr>\n",
       "    <tr>\n",
       "      <th>9</th>\n",
       "      <td>2008-07-19 21:35:00</td>\n",
       "      <td>3016.11</td>\n",
       "      <td>2428.37</td>\n",
       "      <td>2248.9000</td>\n",
       "      <td>1004.4692</td>\n",
       "      <td>0.7884</td>\n",
       "      <td>100</td>\n",
       "      <td>106.2400</td>\n",
       "      <td>0.1185</td>\n",
       "      <td>1.5381</td>\n",
       "      <td>...</td>\n",
       "      <td>90.2294</td>\n",
       "      <td>0.4967</td>\n",
       "      <td>0.0152</td>\n",
       "      <td>0.0038</td>\n",
       "      <td>3.0687</td>\n",
       "      <td>0.0212</td>\n",
       "      <td>0.0191</td>\n",
       "      <td>0.0073</td>\n",
       "      <td>90.2294</td>\n",
       "      <td>0</td>\n",
       "    </tr>\n",
       "    <tr>\n",
       "      <th>10</th>\n",
       "      <td>2008-07-19 21:57:00</td>\n",
       "      <td>2994.05</td>\n",
       "      <td>2548.21</td>\n",
       "      <td>2195.1222</td>\n",
       "      <td>1046.1468</td>\n",
       "      <td>1.3204</td>\n",
       "      <td>100</td>\n",
       "      <td>103.3400</td>\n",
       "      <td>0.1223</td>\n",
       "      <td>1.5144</td>\n",
       "      <td>...</td>\n",
       "      <td>57.8122</td>\n",
       "      <td>0.4925</td>\n",
       "      <td>0.0158</td>\n",
       "      <td>0.0041</td>\n",
       "      <td>3.2115</td>\n",
       "      <td>0.0355</td>\n",
       "      <td>0.0205</td>\n",
       "      <td>0.0071</td>\n",
       "      <td>57.8122</td>\n",
       "      <td>0</td>\n",
       "    </tr>\n",
       "    <tr>\n",
       "      <th>11</th>\n",
       "      <td>2008-07-19 22:52:00</td>\n",
       "      <td>2928.84</td>\n",
       "      <td>2479.40</td>\n",
       "      <td>2196.2111</td>\n",
       "      <td>1605.7578</td>\n",
       "      <td>0.9959</td>\n",
       "      <td>100</td>\n",
       "      <td>97.9156</td>\n",
       "      <td>0.1257</td>\n",
       "      <td>1.4690</td>\n",
       "      <td>...</td>\n",
       "      <td>75.5077</td>\n",
       "      <td>0.4987</td>\n",
       "      <td>0.0427</td>\n",
       "      <td>0.0092</td>\n",
       "      <td>8.5646</td>\n",
       "      <td>0.0370</td>\n",
       "      <td>0.0279</td>\n",
       "      <td>0.0081</td>\n",
       "      <td>75.5077</td>\n",
       "      <td>0</td>\n",
       "    </tr>\n",
       "    <tr>\n",
       "      <th>12</th>\n",
       "      <td>2008-07-20 03:35:00</td>\n",
       "      <td>2920.07</td>\n",
       "      <td>2507.40</td>\n",
       "      <td>2195.1222</td>\n",
       "      <td>1046.1468</td>\n",
       "      <td>1.3204</td>\n",
       "      <td>100</td>\n",
       "      <td>103.3400</td>\n",
       "      <td>0.1223</td>\n",
       "      <td>1.5310</td>\n",
       "      <td>...</td>\n",
       "      <td>52.2039</td>\n",
       "      <td>0.4950</td>\n",
       "      <td>0.0153</td>\n",
       "      <td>0.0041</td>\n",
       "      <td>3.0926</td>\n",
       "      <td>0.0188</td>\n",
       "      <td>0.0098</td>\n",
       "      <td>0.0034</td>\n",
       "      <td>52.2039</td>\n",
       "      <td>0</td>\n",
       "    </tr>\n",
       "    <tr>\n",
       "      <th>13</th>\n",
       "      <td>2008-07-21 08:21:00</td>\n",
       "      <td>3051.44</td>\n",
       "      <td>2529.27</td>\n",
       "      <td>2184.4333</td>\n",
       "      <td>877.6266</td>\n",
       "      <td>1.4668</td>\n",
       "      <td>100</td>\n",
       "      <td>107.8711</td>\n",
       "      <td>0.1240</td>\n",
       "      <td>1.5236</td>\n",
       "      <td>...</td>\n",
       "      <td>NaN</td>\n",
       "      <td>0.5034</td>\n",
       "      <td>0.0151</td>\n",
       "      <td>0.0038</td>\n",
       "      <td>3.0063</td>\n",
       "      <td>0.0188</td>\n",
       "      <td>0.0098</td>\n",
       "      <td>0.0034</td>\n",
       "      <td>52.2039</td>\n",
       "      <td>0</td>\n",
       "    </tr>\n",
       "    <tr>\n",
       "      <th>14</th>\n",
       "      <td>2008-07-21 11:53:00</td>\n",
       "      <td>2963.97</td>\n",
       "      <td>2629.48</td>\n",
       "      <td>2224.6222</td>\n",
       "      <td>947.7739</td>\n",
       "      <td>1.2924</td>\n",
       "      <td>100</td>\n",
       "      <td>104.8489</td>\n",
       "      <td>0.1197</td>\n",
       "      <td>1.4474</td>\n",
       "      <td>...</td>\n",
       "      <td>142.9080</td>\n",
       "      <td>0.5077</td>\n",
       "      <td>0.0094</td>\n",
       "      <td>0.0026</td>\n",
       "      <td>1.8483</td>\n",
       "      <td>0.0202</td>\n",
       "      <td>0.0289</td>\n",
       "      <td>0.0084</td>\n",
       "      <td>142.9080</td>\n",
       "      <td>0</td>\n",
       "    </tr>\n",
       "    <tr>\n",
       "      <th>15</th>\n",
       "      <td>2008-07-22 00:03:00</td>\n",
       "      <td>2988.31</td>\n",
       "      <td>2546.26</td>\n",
       "      <td>2224.6222</td>\n",
       "      <td>947.7739</td>\n",
       "      <td>1.2924</td>\n",
       "      <td>100</td>\n",
       "      <td>104.8489</td>\n",
       "      <td>0.1197</td>\n",
       "      <td>1.5465</td>\n",
       "      <td>...</td>\n",
       "      <td>100.2745</td>\n",
       "      <td>0.5058</td>\n",
       "      <td>0.0078</td>\n",
       "      <td>0.0021</td>\n",
       "      <td>1.5352</td>\n",
       "      <td>0.0174</td>\n",
       "      <td>0.0174</td>\n",
       "      <td>0.0045</td>\n",
       "      <td>100.2745</td>\n",
       "      <td>0</td>\n",
       "    </tr>\n",
       "    <tr>\n",
       "      <th>16</th>\n",
       "      <td>2008-07-22 02:59:00</td>\n",
       "      <td>3028.02</td>\n",
       "      <td>2560.87</td>\n",
       "      <td>2270.2556</td>\n",
       "      <td>1258.4558</td>\n",
       "      <td>1.3950</td>\n",
       "      <td>100</td>\n",
       "      <td>104.8078</td>\n",
       "      <td>0.1207</td>\n",
       "      <td>1.4368</td>\n",
       "      <td>...</td>\n",
       "      <td>82.0989</td>\n",
       "      <td>0.5005</td>\n",
       "      <td>0.0108</td>\n",
       "      <td>0.0034</td>\n",
       "      <td>2.1574</td>\n",
       "      <td>0.0184</td>\n",
       "      <td>0.0151</td>\n",
       "      <td>0.0042</td>\n",
       "      <td>82.0989</td>\n",
       "      <td>0</td>\n",
       "    </tr>\n",
       "    <tr>\n",
       "      <th>17</th>\n",
       "      <td>2008-07-22 08:41:00</td>\n",
       "      <td>3032.73</td>\n",
       "      <td>2517.79</td>\n",
       "      <td>2270.2556</td>\n",
       "      <td>1258.4558</td>\n",
       "      <td>1.3950</td>\n",
       "      <td>100</td>\n",
       "      <td>104.8078</td>\n",
       "      <td>0.1207</td>\n",
       "      <td>1.5537</td>\n",
       "      <td>...</td>\n",
       "      <td>NaN</td>\n",
       "      <td>0.5015</td>\n",
       "      <td>0.0105</td>\n",
       "      <td>0.0027</td>\n",
       "      <td>2.0979</td>\n",
       "      <td>0.0184</td>\n",
       "      <td>0.0151</td>\n",
       "      <td>0.0042</td>\n",
       "      <td>82.0989</td>\n",
       "      <td>0</td>\n",
       "    </tr>\n",
       "  </tbody>\n",
       "</table>\n",
       "<p>18 rows × 592 columns</p>\n",
       "</div>"
      ],
      "text/plain": [
       "                  Time        0        1          2          3       4    5  \\\n",
       "0  2008-07-19 11:55:00  3030.93  2564.00  2187.7333  1411.1265  1.3602  100   \n",
       "1  2008-07-19 12:32:00  3095.78  2465.14  2230.4222  1463.6606  0.8294  100   \n",
       "2  2008-07-19 13:17:00  2932.61  2559.94  2186.4111  1698.0172  1.5102  100   \n",
       "3  2008-07-19 14:43:00  2988.72  2479.90  2199.0333   909.7926  1.3204  100   \n",
       "4  2008-07-19 15:22:00  3032.24  2502.87  2233.3667  1326.5200  1.5334  100   \n",
       "5  2008-07-19 17:53:00  2946.25  2432.84  2233.3667  1326.5200  1.5334  100   \n",
       "6  2008-07-19 19:44:00  3030.27  2430.12  2230.4222  1463.6606  0.8294  100   \n",
       "7  2008-07-19 19:45:00  3058.88  2690.15  2248.9000  1004.4692  0.7884  100   \n",
       "8  2008-07-19 20:24:00  2967.68  2600.47  2248.9000  1004.4692  0.7884  100   \n",
       "9  2008-07-19 21:35:00  3016.11  2428.37  2248.9000  1004.4692  0.7884  100   \n",
       "10 2008-07-19 21:57:00  2994.05  2548.21  2195.1222  1046.1468  1.3204  100   \n",
       "11 2008-07-19 22:52:00  2928.84  2479.40  2196.2111  1605.7578  0.9959  100   \n",
       "12 2008-07-20 03:35:00  2920.07  2507.40  2195.1222  1046.1468  1.3204  100   \n",
       "13 2008-07-21 08:21:00  3051.44  2529.27  2184.4333   877.6266  1.4668  100   \n",
       "14 2008-07-21 11:53:00  2963.97  2629.48  2224.6222   947.7739  1.2924  100   \n",
       "15 2008-07-22 00:03:00  2988.31  2546.26  2224.6222   947.7739  1.2924  100   \n",
       "16 2008-07-22 02:59:00  3028.02  2560.87  2270.2556  1258.4558  1.3950  100   \n",
       "17 2008-07-22 08:41:00  3032.73  2517.79  2270.2556  1258.4558  1.3950  100   \n",
       "\n",
       "           6       7       8  ...       581     582     583     584      585  \\\n",
       "0    97.6133  0.1242  1.5005  ...       NaN  0.5005  0.0118  0.0035   2.3630   \n",
       "1   102.3433  0.1247  1.4966  ...  208.2045  0.5019  0.0223  0.0055   4.4447   \n",
       "2    95.4878  0.1241  1.4436  ...   82.8602  0.4958  0.0157  0.0039   3.1745   \n",
       "3   104.2367  0.1217  1.4882  ...   73.8432  0.4990  0.0103  0.0025   2.0544   \n",
       "4   100.3967  0.1235  1.5031  ...       NaN  0.4800  0.4766  0.1045  99.3032   \n",
       "5   100.3967  0.1235  1.5287  ...   44.0077  0.4949  0.0189  0.0044   3.8276   \n",
       "6   102.3433  0.1247  1.5816  ...       NaN  0.5010  0.0143  0.0042   2.8515   \n",
       "7   106.2400  0.1185  1.5153  ...   95.0310  0.4984  0.0106  0.0034   2.1261   \n",
       "8   106.2400  0.1185  1.5358  ...  111.6525  0.4993  0.0172  0.0046   3.4456   \n",
       "9   106.2400  0.1185  1.5381  ...   90.2294  0.4967  0.0152  0.0038   3.0687   \n",
       "10  103.3400  0.1223  1.5144  ...   57.8122  0.4925  0.0158  0.0041   3.2115   \n",
       "11   97.9156  0.1257  1.4690  ...   75.5077  0.4987  0.0427  0.0092   8.5646   \n",
       "12  103.3400  0.1223  1.5310  ...   52.2039  0.4950  0.0153  0.0041   3.0926   \n",
       "13  107.8711  0.1240  1.5236  ...       NaN  0.5034  0.0151  0.0038   3.0063   \n",
       "14  104.8489  0.1197  1.4474  ...  142.9080  0.5077  0.0094  0.0026   1.8483   \n",
       "15  104.8489  0.1197  1.5465  ...  100.2745  0.5058  0.0078  0.0021   1.5352   \n",
       "16  104.8078  0.1207  1.4368  ...   82.0989  0.5005  0.0108  0.0034   2.1574   \n",
       "17  104.8078  0.1207  1.5537  ...       NaN  0.5015  0.0105  0.0027   2.0979   \n",
       "\n",
       "       586     587     588       589  Passs/Fail  \n",
       "0      NaN     NaN     NaN       NaN           0  \n",
       "1   0.0096  0.0201  0.0060  208.2045           0  \n",
       "2   0.0584  0.0484  0.0148   82.8602           0  \n",
       "3   0.0202  0.0149  0.0044   73.8432           0  \n",
       "4   0.0202  0.0149  0.0044   73.8432           0  \n",
       "5   0.0342  0.0151  0.0052   44.0077           0  \n",
       "6   0.0342  0.0151  0.0052   44.0077           0  \n",
       "7   0.0204  0.0194  0.0063   95.0310           0  \n",
       "8   0.0111  0.0124  0.0045  111.6525           0  \n",
       "9   0.0212  0.0191  0.0073   90.2294           0  \n",
       "10  0.0355  0.0205  0.0071   57.8122           0  \n",
       "11  0.0370  0.0279  0.0081   75.5077           0  \n",
       "12  0.0188  0.0098  0.0034   52.2039           0  \n",
       "13  0.0188  0.0098  0.0034   52.2039           0  \n",
       "14  0.0202  0.0289  0.0084  142.9080           0  \n",
       "15  0.0174  0.0174  0.0045  100.2745           0  \n",
       "16  0.0184  0.0151  0.0042   82.0989           0  \n",
       "17  0.0184  0.0151  0.0042   82.0989           0  \n",
       "\n",
       "[18 rows x 592 columns]"
      ]
     },
     "execution_count": 77,
     "metadata": {},
     "output_type": "execute_result"
    }
   ],
   "source": [
    "futuredata.head(20)"
   ]
  },
  {
   "cell_type": "markdown",
   "metadata": {},
   "source": [
    "## 6. Conclusion and improvisation:"
   ]
  },
  {
   "cell_type": "markdown",
   "metadata": {},
   "source": [
    "As Per the Observation, SVM model provides the best Accuracy on both Training & Test data set, So it should be the best Model."
   ]
  },
  {
   "cell_type": "markdown",
   "metadata": {},
   "source": [
    "# Thanks You"
   ]
  }
 ],
 "metadata": {
  "kernelspec": {
   "display_name": "Python 3",
   "language": "python",
   "name": "python3"
  },
  "language_info": {
   "codemirror_mode": {
    "name": "ipython",
    "version": 3
   },
   "file_extension": ".py",
   "mimetype": "text/x-python",
   "name": "python",
   "nbconvert_exporter": "python",
   "pygments_lexer": "ipython3",
   "version": "3.8.5"
  }
 },
 "nbformat": 4,
 "nbformat_minor": 4
}
