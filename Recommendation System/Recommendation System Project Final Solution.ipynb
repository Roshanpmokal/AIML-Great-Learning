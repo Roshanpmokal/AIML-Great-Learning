{
 "cells": [
  {
   "cell_type": "markdown",
   "metadata": {},
   "source": [
    "# DOMAIN: Smartphone, Electronics"
   ]
  },
  {
   "cell_type": "markdown",
   "metadata": {},
   "source": [
    "## CONTEXT: \n",
    "India is the second largest market globally for smartphones after China. About 134 million smartphones were sold across India\n",
    "in the year 2017 and is estimated to increase to about 442 million in 2022. India ranked second in the average time spent on mobile web by\n",
    "smartphone users across Asia Pacific. The combination of very high sales volumes and the average smartphone consumer behaviour has\n",
    "made India a very attractive market for foreign vendors. As per Consumer behaviour, 97% of consumers turn to a search engine when they\n",
    "are buying a product vs. 15% who turn to social media. If a seller succeeds to publish smartphones based on user’s behaviour/choice at the\n",
    "right place, there are 90% chances that user will enquire for the same. This Case Study is targeted to build a recommendation system\n",
    "based on individual consumer’s behaviour or choice."
   ]
  },
  {
   "cell_type": "markdown",
   "metadata": {},
   "source": [
    "## DATA DESCRIPTION:\n",
    "\n",
    "    • author : name of the person who gave the rating\n",
    "    • country : country the person who gave the rating belongs to\n",
    "    • data : date of the rating\n",
    "    • domain: website from which the rating was taken from\n",
    "    • extract: rating content\n",
    "    • language: language in which the rating was given\n",
    "    • product: name of the product/mobile phone for which the rating was given\n",
    "    • score: average rating for the phone\n",
    "    • score_max: highest rating given for the phone\n",
    "    • source: source from where the rating was taken"
   ]
  },
  {
   "cell_type": "markdown",
   "metadata": {},
   "source": [
    "## PROJECT OBJECTIVE: \n",
    "We will build a recommendation system using popularity based and collaborative filtering methods to recommend\n",
    "mobile phones to a user which are most popular and personalised respectively."
   ]
  },
  {
   "cell_type": "markdown",
   "metadata": {},
   "source": [
    "### 1. Import the necessary libraries and read the provided CSVs as a data frame and perform the below steps."
   ]
  },
  {
   "cell_type": "code",
   "execution_count": null,
   "metadata": {
    "scrolled": false
   },
   "outputs": [],
   "source": [
    "# Importing libraries\n",
    "import pandas as pd\n",
    "import numpy as np\n",
    "import matplotlib.pyplot as plt\n",
    "%matplotlib inline \n",
    "import os\n",
    "import glob\n",
    "import seaborn as sns\n",
    "from sklearn.preprocessing import LabelEncoder\n",
    "from zipfile import ZipFile\n",
    "from sklearn.model_selection import train_test_split\n",
    "\n",
    "from sklearn.feature_extraction.text import TfidfVectorizer, CountVectorizer\n",
    "from sklearn.metrics.pairwise import linear_kernel, cosine_similarity\n",
    "\n",
    "# Importing Data files\n",
    "data1 = pd.read_csv('phone_user_review_file_1.csv', encoding='latin-1')\n",
    "data2 = pd.read_csv('phone_user_review_file_2.csv', encoding='latin-1')\n",
    "data3 = pd.read_csv('phone_user_review_file_3.csv', encoding='latin-1')\n",
    "data4 = pd.read_csv('phone_user_review_file_4.csv', encoding='latin-1')\n",
    "data5 = pd.read_csv('phone_user_review_file_5.csv', encoding='latin-1')\n",
    "data6 = pd.read_csv('phone_user_review_file_5.csv', encoding='latin-1')"
   ]
  },
  {
   "cell_type": "code",
   "execution_count": 2,
   "metadata": {},
   "outputs": [],
   "source": [
    "# Merge all datasets\n",
    "phone_Data=pd.concat([data1,data2,data3,data4,data5,data6],axis=0,sort=False)"
   ]
  },
  {
   "cell_type": "code",
   "execution_count": 3,
   "metadata": {},
   "outputs": [],
   "source": [
    "# make a copy of the original dataframe to \n",
    "phone_DataOG = phone_Data.copy()"
   ]
  },
  {
   "cell_type": "code",
   "execution_count": 4,
   "metadata": {},
   "outputs": [
    {
     "data": {
      "text/html": [
       "<div>\n",
       "<style scoped>\n",
       "    .dataframe tbody tr th:only-of-type {\n",
       "        vertical-align: middle;\n",
       "    }\n",
       "\n",
       "    .dataframe tbody tr th {\n",
       "        vertical-align: top;\n",
       "    }\n",
       "\n",
       "    .dataframe thead th {\n",
       "        text-align: right;\n",
       "    }\n",
       "</style>\n",
       "<table border=\"1\" class=\"dataframe\">\n",
       "  <thead>\n",
       "    <tr style=\"text-align: right;\">\n",
       "      <th></th>\n",
       "      <th>phone_url</th>\n",
       "      <th>date</th>\n",
       "      <th>lang</th>\n",
       "      <th>country</th>\n",
       "      <th>source</th>\n",
       "      <th>domain</th>\n",
       "      <th>score</th>\n",
       "      <th>score_max</th>\n",
       "      <th>extract</th>\n",
       "      <th>author</th>\n",
       "      <th>product</th>\n",
       "    </tr>\n",
       "  </thead>\n",
       "  <tbody>\n",
       "    <tr>\n",
       "      <th>0</th>\n",
       "      <td>/cellphones/samsung-galaxy-s8/</td>\n",
       "      <td>5/2/2017</td>\n",
       "      <td>en</td>\n",
       "      <td>us</td>\n",
       "      <td>Verizon Wireless</td>\n",
       "      <td>verizonwireless.com</td>\n",
       "      <td>10.0</td>\n",
       "      <td>10.0</td>\n",
       "      <td>As a diehard Samsung fan who has had every Sam...</td>\n",
       "      <td>CarolAnn35</td>\n",
       "      <td>Samsung Galaxy S8</td>\n",
       "    </tr>\n",
       "    <tr>\n",
       "      <th>1</th>\n",
       "      <td>/cellphones/samsung-galaxy-s8/</td>\n",
       "      <td>4/28/2017</td>\n",
       "      <td>en</td>\n",
       "      <td>us</td>\n",
       "      <td>Phone Arena</td>\n",
       "      <td>phonearena.com</td>\n",
       "      <td>10.0</td>\n",
       "      <td>10.0</td>\n",
       "      <td>Love the phone. the phone is sleek and smooth ...</td>\n",
       "      <td>james0923</td>\n",
       "      <td>Samsung Galaxy S8</td>\n",
       "    </tr>\n",
       "    <tr>\n",
       "      <th>2</th>\n",
       "      <td>/cellphones/samsung-galaxy-s8/</td>\n",
       "      <td>5/4/2017</td>\n",
       "      <td>en</td>\n",
       "      <td>us</td>\n",
       "      <td>Amazon</td>\n",
       "      <td>amazon.com</td>\n",
       "      <td>6.0</td>\n",
       "      <td>10.0</td>\n",
       "      <td>Adequate feel. Nice heft. Processor's still sl...</td>\n",
       "      <td>R. Craig</td>\n",
       "      <td>Samsung Galaxy S8 (64GB) G950U 5.8\" 4G LTE Unl...</td>\n",
       "    </tr>\n",
       "    <tr>\n",
       "      <th>3</th>\n",
       "      <td>/cellphones/samsung-galaxy-s8/</td>\n",
       "      <td>5/2/2017</td>\n",
       "      <td>en</td>\n",
       "      <td>us</td>\n",
       "      <td>Samsung</td>\n",
       "      <td>samsung.com</td>\n",
       "      <td>9.2</td>\n",
       "      <td>10.0</td>\n",
       "      <td>Never disappointed. One of the reasons I've be...</td>\n",
       "      <td>Buster2020</td>\n",
       "      <td>Samsung Galaxy S8 64GB (AT&amp;T)</td>\n",
       "    </tr>\n",
       "    <tr>\n",
       "      <th>4</th>\n",
       "      <td>/cellphones/samsung-galaxy-s8/</td>\n",
       "      <td>5/11/2017</td>\n",
       "      <td>en</td>\n",
       "      <td>us</td>\n",
       "      <td>Verizon Wireless</td>\n",
       "      <td>verizonwireless.com</td>\n",
       "      <td>4.0</td>\n",
       "      <td>10.0</td>\n",
       "      <td>I've now found that i'm in a group of people t...</td>\n",
       "      <td>S Ate Mine</td>\n",
       "      <td>Samsung Galaxy S8</td>\n",
       "    </tr>\n",
       "  </tbody>\n",
       "</table>\n",
       "</div>"
      ],
      "text/plain": [
       "                        phone_url       date lang country            source  \\\n",
       "0  /cellphones/samsung-galaxy-s8/   5/2/2017   en      us  Verizon Wireless   \n",
       "1  /cellphones/samsung-galaxy-s8/  4/28/2017   en      us       Phone Arena   \n",
       "2  /cellphones/samsung-galaxy-s8/   5/4/2017   en      us            Amazon   \n",
       "3  /cellphones/samsung-galaxy-s8/   5/2/2017   en      us           Samsung   \n",
       "4  /cellphones/samsung-galaxy-s8/  5/11/2017   en      us  Verizon Wireless   \n",
       "\n",
       "                domain  score  score_max  \\\n",
       "0  verizonwireless.com   10.0       10.0   \n",
       "1       phonearena.com   10.0       10.0   \n",
       "2           amazon.com    6.0       10.0   \n",
       "3          samsung.com    9.2       10.0   \n",
       "4  verizonwireless.com    4.0       10.0   \n",
       "\n",
       "                                             extract       author  \\\n",
       "0  As a diehard Samsung fan who has had every Sam...   CarolAnn35   \n",
       "1  Love the phone. the phone is sleek and smooth ...    james0923   \n",
       "2  Adequate feel. Nice heft. Processor's still sl...     R. Craig   \n",
       "3  Never disappointed. One of the reasons I've be...  Buster2020    \n",
       "4  I've now found that i'm in a group of people t...   S Ate Mine   \n",
       "\n",
       "                                             product  \n",
       "0                                  Samsung Galaxy S8  \n",
       "1                                  Samsung Galaxy S8  \n",
       "2  Samsung Galaxy S8 (64GB) G950U 5.8\" 4G LTE Unl...  \n",
       "3                      Samsung Galaxy S8 64GB (AT&T)  \n",
       "4                                  Samsung Galaxy S8  "
      ]
     },
     "execution_count": 4,
     "metadata": {},
     "output_type": "execute_result"
    }
   ],
   "source": [
    "phone_Data.head()"
   ]
  },
  {
   "cell_type": "code",
   "execution_count": 5,
   "metadata": {},
   "outputs": [
    {
     "name": "stdout",
     "output_type": "stream",
     "text": [
      "(1601512, 11) 17616632\n"
     ]
    }
   ],
   "source": [
    "# Check Size & Shape of data\n",
    "print(phone_Data.shape,phone_Data.size)"
   ]
  },
  {
   "cell_type": "code",
   "execution_count": 6,
   "metadata": {},
   "outputs": [
    {
     "name": "stdout",
     "output_type": "stream",
     "text": [
      "Index(['phone_url', 'date', 'lang', 'country', 'source', 'domain', 'score',\n",
      "       'score_max', 'extract', 'author', 'product'],\n",
      "      dtype='object')\n"
     ]
    }
   ],
   "source": [
    "print(phone_Data.columns)"
   ]
  },
  {
   "cell_type": "code",
   "execution_count": 7,
   "metadata": {},
   "outputs": [
    {
     "data": {
      "text/plain": [
       "phone_url     object\n",
       "date          object\n",
       "lang          object\n",
       "country       object\n",
       "source        object\n",
       "domain        object\n",
       "score        float64\n",
       "score_max    float64\n",
       "extract       object\n",
       "author        object\n",
       "product       object\n",
       "dtype: object"
      ]
     },
     "execution_count": 7,
     "metadata": {},
     "output_type": "execute_result"
    }
   ],
   "source": [
    "#Check Data types\n",
    "phone_Data.dtypes"
   ]
  },
  {
   "cell_type": "markdown",
   "metadata": {},
   "source": [
    "Only score & score_max clolumn have float data"
   ]
  },
  {
   "cell_type": "code",
   "execution_count": 8,
   "metadata": {
    "scrolled": true
   },
   "outputs": [
    {
     "data": {
      "text/plain": [
       "705369"
      ]
     },
     "execution_count": 8,
     "metadata": {},
     "output_type": "execute_result"
    }
   ],
   "source": [
    "# Check no fo unique users\n",
    "users = phone_Data['author'].unique()\n",
    "len(users)"
   ]
  },
  {
   "cell_type": "code",
   "execution_count": 9,
   "metadata": {},
   "outputs": [
    {
     "data": {
      "text/plain": [
       "52240"
      ]
     },
     "execution_count": 9,
     "metadata": {},
     "output_type": "execute_result"
    }
   ],
   "source": [
    "# Check no of unique products\n",
    "products = phone_Data['product'].unique()\n",
    "len(products)"
   ]
  },
  {
   "cell_type": "code",
   "execution_count": 10,
   "metadata": {},
   "outputs": [],
   "source": [
    "#Round off scores to the nearest integers.\n",
    "phone_Data.score=phone_Data.score.round()"
   ]
  },
  {
   "cell_type": "code",
   "execution_count": 11,
   "metadata": {},
   "outputs": [
    {
     "data": {
      "text/plain": [
       "phone_url        0\n",
       "date             0\n",
       "lang             0\n",
       "country          0\n",
       "source           0\n",
       "domain           0\n",
       "score        80050\n",
       "score_max    80050\n",
       "extract      24853\n",
       "author       79010\n",
       "product          1\n",
       "dtype: int64"
      ]
     },
     "execution_count": 11,
     "metadata": {},
     "output_type": "execute_result"
    }
   ],
   "source": [
    "# Check for missing values\n",
    "phone_Data.isnull().sum()"
   ]
  },
  {
   "cell_type": "code",
   "execution_count": 12,
   "metadata": {},
   "outputs": [
    {
     "data": {
      "text/plain": [
       "phone_url    0\n",
       "date         0\n",
       "lang         0\n",
       "country      0\n",
       "source       0\n",
       "domain       0\n",
       "score        0\n",
       "score_max    0\n",
       "extract      0\n",
       "author       0\n",
       "product      0\n",
       "dtype: int64"
      ]
     },
     "execution_count": 12,
     "metadata": {},
     "output_type": "execute_result"
    }
   ],
   "source": [
    "#drop null values\n",
    "phone_Data.dropna(inplace=True)\n",
    "\n",
    "# Check for missing values\n",
    "phone_Data.isnull().sum()"
   ]
  },
  {
   "cell_type": "code",
   "execution_count": 13,
   "metadata": {},
   "outputs": [
    {
     "name": "stdout",
     "output_type": "stream",
     "text": [
      "(1427167, 11) 15698837\n"
     ]
    }
   ],
   "source": [
    "# Check Size & Shape of data\n",
    "print(phone_Data.shape,phone_Data.size)"
   ]
  },
  {
   "cell_type": "code",
   "execution_count": 14,
   "metadata": {},
   "outputs": [
    {
     "data": {
      "text/plain": [
       "292674"
      ]
     },
     "execution_count": 14,
     "metadata": {},
     "output_type": "execute_result"
    }
   ],
   "source": [
    "# Check duplicate values\n",
    "phone_Data.duplicated().sum()"
   ]
  },
  {
   "cell_type": "code",
   "execution_count": 15,
   "metadata": {},
   "outputs": [
    {
     "data": {
      "text/plain": [
       "0"
      ]
     },
     "execution_count": 15,
     "metadata": {},
     "output_type": "execute_result"
    }
   ],
   "source": [
    "# Drop duplicate values\n",
    "phone_Data.drop_duplicates(inplace=True)\n",
    "\n",
    "# Check duplicate values\n",
    "phone_Data.duplicated().sum()"
   ]
  },
  {
   "cell_type": "code",
   "execution_count": 16,
   "metadata": {},
   "outputs": [
    {
     "name": "stdout",
     "output_type": "stream",
     "text": [
      "(1134493, 11) 12479423\n"
     ]
    }
   ],
   "source": [
    "# Check Size & Shape of data\n",
    "print(phone_Data.shape,phone_Data.size)"
   ]
  },
  {
   "cell_type": "code",
   "execution_count": 17,
   "metadata": {},
   "outputs": [],
   "source": [
    "# Sample only 1000000 data points from the huge dataset\n",
    "phone_Data1 = phone_Data.sample(n=1000000,random_state=612)"
   ]
  },
  {
   "cell_type": "code",
   "execution_count": 18,
   "metadata": {},
   "outputs": [],
   "source": [
    "#Drop irrelevant features\n",
    "phone_Data1.drop(['phone_url', 'date','lang','country','domain','score_max','extract','source'], axis = 1,inplace=True)"
   ]
  },
  {
   "cell_type": "code",
   "execution_count": 19,
   "metadata": {
    "scrolled": true
   },
   "outputs": [
    {
     "data": {
      "text/html": [
       "<div>\n",
       "<style scoped>\n",
       "    .dataframe tbody tr th:only-of-type {\n",
       "        vertical-align: middle;\n",
       "    }\n",
       "\n",
       "    .dataframe tbody tr th {\n",
       "        vertical-align: top;\n",
       "    }\n",
       "\n",
       "    .dataframe thead th {\n",
       "        text-align: right;\n",
       "    }\n",
       "</style>\n",
       "<table border=\"1\" class=\"dataframe\">\n",
       "  <thead>\n",
       "    <tr style=\"text-align: right;\">\n",
       "      <th></th>\n",
       "      <th>score</th>\n",
       "      <th>author</th>\n",
       "      <th>product</th>\n",
       "    </tr>\n",
       "  </thead>\n",
       "  <tbody>\n",
       "    <tr>\n",
       "      <th>3615</th>\n",
       "      <td>10.0</td>\n",
       "      <td>inffomaster1976@gmail.com</td>\n",
       "      <td>Smartphone Nokia Lumia 630 Dual, 3G TV Digital...</td>\n",
       "    </tr>\n",
       "    <tr>\n",
       "      <th>43477</th>\n",
       "      <td>9.0</td>\n",
       "      <td>PriscillaFleur</td>\n",
       "      <td>Sony Xperia Z3 Compact oranje / 16 GB - Overzicht</td>\n",
       "    </tr>\n",
       "    <tr>\n",
       "      <th>34348</th>\n",
       "      <td>9.0</td>\n",
       "      <td>jos</td>\n",
       "      <td>Samsung Galaxy S7 zwart / 32 GB</td>\n",
       "    </tr>\n",
       "    <tr>\n",
       "      <th>93259</th>\n",
       "      <td>10.0</td>\n",
       "      <td>Amazon Customer</td>\n",
       "      <td>Motorola Nexus 6 Unlocked Smartphone, 32 GB, U...</td>\n",
       "    </tr>\n",
       "    <tr>\n",
       "      <th>205718</th>\n",
       "      <td>10.0</td>\n",
       "      <td>Amazon Customer</td>\n",
       "      <td>LG Electronics Nexus 5X Unlocked Smart Phone, ...</td>\n",
       "    </tr>\n",
       "  </tbody>\n",
       "</table>\n",
       "</div>"
      ],
      "text/plain": [
       "        score                     author  \\\n",
       "3615     10.0  inffomaster1976@gmail.com   \n",
       "43477     9.0             PriscillaFleur   \n",
       "34348     9.0                        jos   \n",
       "93259    10.0            Amazon Customer   \n",
       "205718   10.0            Amazon Customer   \n",
       "\n",
       "                                                  product  \n",
       "3615    Smartphone Nokia Lumia 630 Dual, 3G TV Digital...  \n",
       "43477   Sony Xperia Z3 Compact oranje / 16 GB - Overzicht  \n",
       "34348                     Samsung Galaxy S7 zwart / 32 GB  \n",
       "93259   Motorola Nexus 6 Unlocked Smartphone, 32 GB, U...  \n",
       "205718  LG Electronics Nexus 5X Unlocked Smart Phone, ...  "
      ]
     },
     "execution_count": 19,
     "metadata": {},
     "output_type": "execute_result"
    }
   ],
   "source": [
    "phone_Data1.head()"
   ]
  },
  {
   "cell_type": "code",
   "execution_count": 20,
   "metadata": {},
   "outputs": [
    {
     "name": "stdout",
     "output_type": "stream",
     "text": [
      "(1000000, 3) 3000000\n"
     ]
    }
   ],
   "source": [
    "print(phone_Data1.shape,phone_Data1.size)"
   ]
  },
  {
   "cell_type": "code",
   "execution_count": 21,
   "metadata": {
    "scrolled": true
   },
   "outputs": [
    {
     "name": "stderr",
     "output_type": "stream",
     "text": [
      "C:\\Users\\Roshan\\anaconda3\\lib\\site-packages\\seaborn\\categorical.py:3704: UserWarning: The `factorplot` function has been renamed to `catplot`. The original name will be removed in a future release. Please update your code. Note that the default `kind` in `factorplot` (`'point'`) has changed `'strip'` in `catplot`.\n",
      "  warnings.warn(msg)\n",
      "C:\\Users\\Roshan\\anaconda3\\lib\\site-packages\\seaborn\\_decorators.py:36: FutureWarning: Pass the following variable as a keyword arg: x. From version 0.12, the only valid positional argument will be `data`, and passing other arguments without an explicit keyword will result in an error or misinterpretation.\n",
      "  warnings.warn(\n"
     ]
    },
    {
     "data": {
      "image/png": "[encoded data removed]",
      "text/plain": [
       "<Figure size 720x360 with 1 Axes>"
      ]
     },
     "metadata": {},
     "output_type": "display_data"
    }
   ],
   "source": [
    "# Check the distribution of scores \n",
    "with sns.axes_style('white'):\n",
    "    g = sns.factorplot(\"score\", data=phone_Data1, aspect=2.0,kind='count')\n",
    "    g.set_ylabels(\"Total number of ratings\") "
   ]
  },
  {
   "cell_type": "markdown",
   "metadata": {},
   "source": [
    "### 2. Answer the following questions"
   ]
  },
  {
   "cell_type": "markdown",
   "metadata": {},
   "source": [
    "#### • Identify the most rated features"
   ]
  },
  {
   "cell_type": "code",
   "execution_count": 22,
   "metadata": {
    "scrolled": true
   },
   "outputs": [
    {
     "data": {
      "text/plain": [
       "author\n",
       "!!!!!!!!!!!!!!!!!!!!!!!!!!!!    10.0\n",
       "Forer Renate                    10.0\n",
       "Kiley                           10.0\n",
       "aldÃ­sia                        10.0\n",
       "O. Schelhaas                    10.0\n",
       "                                ... \n",
       "tawaris4                         0.0\n",
       "yodoff                           0.0\n",
       "Ð²Ð¾Ñ                           0.0\n",
       "resler                           0.0\n",
       "Ð¤Ð¸Ð»Ð»                         0.0\n",
       "Name: score, Length: 608588, dtype: float64"
      ]
     },
     "execution_count": 22,
     "metadata": {},
     "output_type": "execute_result"
    }
   ],
   "source": [
    "# Most rated users\n",
    "phone_Data1.groupby('author')['score'].mean().sort_values(ascending=False)"
   ]
  },
  {
   "cell_type": "code",
   "execution_count": 23,
   "metadata": {
    "scrolled": true
   },
   "outputs": [
    {
     "data": {
      "text/plain": [
       "product\n",
       "ÙØ§ÙØ§ÙÙ P9 Ø¨ÙÙØ³ - 64 Ø¬ÙØ¬Ø§Ø¨Ø§ÙØªØ ÙÙØ± Ø¬Ù Ø§Ù ØªÙ Ø§ÙØ ÙØ§Ù ÙØ§ÙØ Ø°ÙØ¨Ù                                  10.0\n",
       "Nokia Lumia 920 Vodafone-Edition ohne Vertrag weiÃ                                                                                     10.0\n",
       "Nokia Lumia 930 - Smartphone libre Windows Phone (pantalla 5\", cÃ¡mara 20 Mp, 32 GB, Quad-Core 2.2 GHz, 2 GB RAM), verde (importado)    10.0\n",
       "Nokia Lumia 930 - Black                                                                                                                 10.0\n",
       "Nokia Lumia 928 32GB Verizon + Unlocked GSM 4G LTE Windows Smartphone - Black                                                           10.0\n",
       "                                                                                                                                        ... \n",
       "Kyocera Hydro Elite (Verizon)                                                                                                            1.0\n",
       "Kyocera Hydro Vibe                                                                                                                       1.0\n",
       "HTC Titan II (AT&T)                                                                                                                      1.0\n",
       "Smartphone LG GW550 3G GSM Desbloqueado                                                                                                  1.0\n",
       "Samsung Convoy 2                                                                                                                         1.0\n",
       "Name: score, Length: 45928, dtype: float64"
      ]
     },
     "execution_count": 23,
     "metadata": {},
     "output_type": "execute_result"
    }
   ],
   "source": [
    "# Most rated products\n",
    "phone_Data1.groupby('product')['score'].mean().sort_values(ascending=False)"
   ]
  },
  {
   "cell_type": "markdown",
   "metadata": {},
   "source": [
    "#### • Identify the users with most number of reviews"
   ]
  },
  {
   "cell_type": "code",
   "execution_count": 24,
   "metadata": {
    "scrolled": false
   },
   "outputs": [
    {
     "data": {
      "text/plain": [
       "author\n",
       "Amazon Customer                 66868\n",
       "Cliente Amazon                  16898\n",
       "e-bit                            7389\n",
       "Client d'Amazon                  6766\n",
       "Amazon Kunde                     4060\n",
       "                                ...  \n",
       "WICASH                              1\n",
       "WICHIANDIA                          1\n",
       "WICHO955                            1\n",
       "WICHT76                             1\n",
       "!!!!!!!!!!!!!!!!!!!!!!!!!!!!        1\n",
       "Name: score, Length: 608588, dtype: int64"
      ]
     },
     "execution_count": 24,
     "metadata": {},
     "output_type": "execute_result"
    }
   ],
   "source": [
    "# User with Most number of reviews\n",
    "phone_Data1.groupby('author')['score'].count().sort_values(ascending=False)"
   ]
  },
  {
   "cell_type": "code",
   "execution_count": 25,
   "metadata": {},
   "outputs": [
    {
     "data": {
      "text/plain": [
       "product\n",
       "Lenovo Vibe K4 Note (White,16GB)                                                                                                                                              4596\n",
       "Lenovo Vibe K4 Note (Black, 16GB)                                                                                                                                             3885\n",
       "OnePlus 3 (Graphite, 64 GB)                                                                                                                                                   3596\n",
       "OnePlus 3 (Soft Gold, 64 GB)                                                                                                                                                  3124\n",
       "Huawei P8lite zwart / 16 GB                                                                                                                                                   2367\n",
       "                                                                                                                                                                              ... \n",
       "Microsoft Mobiltelefoner Lumia 950 XL                                                                                                                                            1\n",
       "Microsoft Mobile Nokia N8 - MÃ³vil libre (pantalla tÃ¡ctil de 3,5\" 640 x 360, 16 GB de capacidad, S.O. Symbian) color negro [importado de Alemania]                              1\n",
       "Microsoft Mobile Nokia Lumia 720 - Smartphone libre (pantalla de 4,3\", cÃ¡mara 6.7 Mp, 8 GB, procesador de 1 GHz, 512 MB de RAM, S.O. Windows Phone 8), Blanco (importado)       1\n",
       "Microsoft Mobile Nokia Lumia 620 - Smartphone (sistema operativo Windows, Bluetooth, Wi-Fi) (importado)                                                                          1\n",
       "'Sony Xperia X (F5122) â White â Dual Sim (Google Android 6.0.1, 5 Display, 2 x CORTEX A72 1.8 GHz + 4 x cortex-a53...                                                       1\n",
       "Name: score, Length: 45928, dtype: int64"
      ]
     },
     "execution_count": 25,
     "metadata": {},
     "output_type": "execute_result"
    }
   ],
   "source": [
    "# products with Most number of reviews\n",
    "phone_Data1.groupby('product')['score'].count().sort_values(ascending=False)"
   ]
  },
  {
   "cell_type": "markdown",
   "metadata": {},
   "source": [
    "#### Select the data with products having more than 50 ratings and users who have given more than 50 ratings. Report the shape of the final dataset"
   ]
  },
  {
   "cell_type": "code",
   "execution_count": 26,
   "metadata": {
    "scrolled": true
   },
   "outputs": [
    {
     "data": {
      "text/plain": [
       "Lenovo Vibe K4 Note (White,16GB)     4596\n",
       "Lenovo Vibe K4 Note (Black, 16GB)    3885\n",
       "OnePlus 3 (Graphite, 64 GB)          3596\n",
       "OnePlus 3 (Soft Gold, 64 GB)         3124\n",
       "Huawei P8lite zwart / 16 GB          2367\n",
       "Name: product, dtype: int64"
      ]
     },
     "execution_count": 26,
     "metadata": {},
     "output_type": "execute_result"
    }
   ],
   "source": [
    "# Count the number of occurance of product\n",
    "usersPerProduct = phone_Data1['product'].value_counts()\n",
    "usersPerProduct.head()"
   ]
  },
  {
   "cell_type": "code",
   "execution_count": 27,
   "metadata": {},
   "outputs": [
    {
     "data": {
      "text/plain": [
       "(45928,)"
      ]
     },
     "execution_count": 27,
     "metadata": {},
     "output_type": "execute_result"
    }
   ],
   "source": [
    "usersPerProduct.shape"
   ]
  },
  {
   "cell_type": "code",
   "execution_count": 28,
   "metadata": {},
   "outputs": [
    {
     "data": {
      "text/plain": [
       "Amazon Customer    66868\n",
       "Cliente Amazon     16898\n",
       "e-bit               7389\n",
       "Client d'Amazon     6766\n",
       "Amazon Kunde        4060\n",
       "Name: author, dtype: int64"
      ]
     },
     "execution_count": 28,
     "metadata": {},
     "output_type": "execute_result"
    }
   ],
   "source": [
    "# Count the number of occurance of users\n",
    "productPerUser = phone_Data1['author'].value_counts()\n",
    "productPerUser.head()"
   ]
  },
  {
   "cell_type": "code",
   "execution_count": 29,
   "metadata": {},
   "outputs": [
    {
     "data": {
      "text/plain": [
       "(608588,)"
      ]
     },
     "execution_count": 29,
     "metadata": {},
     "output_type": "execute_result"
    }
   ],
   "source": [
    "productPerUser.shape"
   ]
  },
  {
   "cell_type": "code",
   "execution_count": 30,
   "metadata": {},
   "outputs": [],
   "source": [
    "# Select the data with products having more than 50 ratings\n",
    "phone_Data1 = phone_Data1[phone_Data1[\"product\"].isin(usersPerProduct[usersPerProduct>50].index)]"
   ]
  },
  {
   "cell_type": "code",
   "execution_count": 31,
   "metadata": {
    "scrolled": false
   },
   "outputs": [],
   "source": [
    "#Select the data with products having more than 50 ratings and users who have given more than 50 ratings\n",
    "phone_Data1 = phone_Data1[phone_Data1[\"author\"].isin(productPerUser[productPerUser>50].index)]"
   ]
  },
  {
   "cell_type": "code",
   "execution_count": 32,
   "metadata": {},
   "outputs": [
    {
     "data": {
      "text/html": [
       "<div>\n",
       "<style scoped>\n",
       "    .dataframe tbody tr th:only-of-type {\n",
       "        vertical-align: middle;\n",
       "    }\n",
       "\n",
       "    .dataframe tbody tr th {\n",
       "        vertical-align: top;\n",
       "    }\n",
       "\n",
       "    .dataframe thead th {\n",
       "        text-align: right;\n",
       "    }\n",
       "</style>\n",
       "<table border=\"1\" class=\"dataframe\">\n",
       "  <thead>\n",
       "    <tr style=\"text-align: right;\">\n",
       "      <th></th>\n",
       "      <th>score</th>\n",
       "      <th>author</th>\n",
       "      <th>product</th>\n",
       "    </tr>\n",
       "  </thead>\n",
       "  <tbody>\n",
       "    <tr>\n",
       "      <th>93259</th>\n",
       "      <td>10.0</td>\n",
       "      <td>Amazon Customer</td>\n",
       "      <td>Motorola Nexus 6 Unlocked Smartphone, 32 GB, U...</td>\n",
       "    </tr>\n",
       "    <tr>\n",
       "      <th>21362</th>\n",
       "      <td>6.0</td>\n",
       "      <td>Amazon Customer</td>\n",
       "      <td>Lenovo Vibe K5 (Grey, VoLTE update)</td>\n",
       "    </tr>\n",
       "    <tr>\n",
       "      <th>53900</th>\n",
       "      <td>2.0</td>\n",
       "      <td>Amazon Customer</td>\n",
       "      <td>Lenovo Vibe K4 Note (White,16GB)</td>\n",
       "    </tr>\n",
       "    <tr>\n",
       "      <th>11426</th>\n",
       "      <td>10.0</td>\n",
       "      <td>Amazon Customer</td>\n",
       "      <td>Samsung GALAXY S7 EDGE G935FD DUAL SIM INTERNA...</td>\n",
       "    </tr>\n",
       "    <tr>\n",
       "      <th>54259</th>\n",
       "      <td>8.0</td>\n",
       "      <td>Amazon Customer</td>\n",
       "      <td>Lenovo Vibe K4 Note (Black, 16GB)</td>\n",
       "    </tr>\n",
       "  </tbody>\n",
       "</table>\n",
       "</div>"
      ],
      "text/plain": [
       "       score           author  \\\n",
       "93259   10.0  Amazon Customer   \n",
       "21362    6.0  Amazon Customer   \n",
       "53900    2.0  Amazon Customer   \n",
       "11426   10.0  Amazon Customer   \n",
       "54259    8.0  Amazon Customer   \n",
       "\n",
       "                                                 product  \n",
       "93259  Motorola Nexus 6 Unlocked Smartphone, 32 GB, U...  \n",
       "21362                Lenovo Vibe K5 (Grey, VoLTE update)  \n",
       "53900                   Lenovo Vibe K4 Note (White,16GB)  \n",
       "11426  Samsung GALAXY S7 EDGE G935FD DUAL SIM INTERNA...  \n",
       "54259                  Lenovo Vibe K4 Note (Black, 16GB)  "
      ]
     },
     "execution_count": 32,
     "metadata": {},
     "output_type": "execute_result"
    }
   ],
   "source": [
    "phone_Data1.head()"
   ]
  },
  {
   "cell_type": "code",
   "execution_count": 33,
   "metadata": {},
   "outputs": [
    {
     "name": "stdout",
     "output_type": "stream",
     "text": [
      "(129810, 3) 389430\n"
     ]
    }
   ],
   "source": [
    "print(phone_Data1.shape,phone_Data1.size)"
   ]
  },
  {
   "cell_type": "markdown",
   "metadata": {},
   "source": [
    "### 3. Build a popularity based model and recommend top 5 mobile phones."
   ]
  },
  {
   "cell_type": "code",
   "execution_count": 34,
   "metadata": {},
   "outputs": [
    {
     "data": {
      "text/html": [
       "<div>\n",
       "<style scoped>\n",
       "    .dataframe tbody tr th:only-of-type {\n",
       "        vertical-align: middle;\n",
       "    }\n",
       "\n",
       "    .dataframe tbody tr th {\n",
       "        vertical-align: top;\n",
       "    }\n",
       "\n",
       "    .dataframe thead th {\n",
       "        text-align: right;\n",
       "    }\n",
       "</style>\n",
       "<table border=\"1\" class=\"dataframe\">\n",
       "  <thead>\n",
       "    <tr style=\"text-align: right;\">\n",
       "      <th></th>\n",
       "      <th>score</th>\n",
       "      <th>author</th>\n",
       "      <th>product</th>\n",
       "    </tr>\n",
       "  </thead>\n",
       "  <tbody>\n",
       "    <tr>\n",
       "      <th>171796</th>\n",
       "      <td>2.0</td>\n",
       "      <td>e-bit</td>\n",
       "      <td>Smartphone Samsung Galaxy S4 Mini GT-I9192</td>\n",
       "    </tr>\n",
       "    <tr>\n",
       "      <th>85543</th>\n",
       "      <td>4.0</td>\n",
       "      <td>Amazon Customer</td>\n",
       "      <td>Microsoft Lumia 650 UK SIM-Free Smartphone - W...</td>\n",
       "    </tr>\n",
       "    <tr>\n",
       "      <th>338067</th>\n",
       "      <td>10.0</td>\n",
       "      <td>Chris</td>\n",
       "      <td>Sony Ericsson C902 Swift Black (UMTS 5MP Cyber...</td>\n",
       "    </tr>\n",
       "    <tr>\n",
       "      <th>18508</th>\n",
       "      <td>8.0</td>\n",
       "      <td>Amazon Customer</td>\n",
       "      <td>Lenovo Vibe K5 (Gold, VoLTE update)</td>\n",
       "    </tr>\n",
       "    <tr>\n",
       "      <th>163921</th>\n",
       "      <td>8.0</td>\n",
       "      <td>Client d'Amazon</td>\n",
       "      <td>Samsung Galaxy A3 2016 Smartphone dÃ©bloquÃ© 4...</td>\n",
       "    </tr>\n",
       "  </tbody>\n",
       "</table>\n",
       "</div>"
      ],
      "text/plain": [
       "        score           author  \\\n",
       "171796    2.0            e-bit   \n",
       "85543     4.0  Amazon Customer   \n",
       "338067   10.0            Chris   \n",
       "18508     8.0  Amazon Customer   \n",
       "163921    8.0  Client d'Amazon   \n",
       "\n",
       "                                                  product  \n",
       "171796         Smartphone Samsung Galaxy S4 Mini GT-I9192  \n",
       "85543   Microsoft Lumia 650 UK SIM-Free Smartphone - W...  \n",
       "338067  Sony Ericsson C902 Swift Black (UMTS 5MP Cyber...  \n",
       "18508                 Lenovo Vibe K5 (Gold, VoLTE update)  \n",
       "163921  Samsung Galaxy A3 2016 Smartphone dÃ©bloquÃ© 4...  "
      ]
     },
     "execution_count": 34,
     "metadata": {},
     "output_type": "execute_result"
    }
   ],
   "source": [
    "#Split the training and test data in the ratio 70:30\n",
    "train_data, test_data = train_test_split(phone_Data1, test_size = 0.3, random_state=0)\n",
    "train_data.head()"
   ]
  },
  {
   "cell_type": "code",
   "execution_count": 35,
   "metadata": {},
   "outputs": [
    {
     "name": "stdout",
     "output_type": "stream",
     "text": [
      "(90867, 3) (38943, 3)\n"
     ]
    }
   ],
   "source": [
    "#print the size & shape of the data\n",
    "print(train_data.shape,test_data.shape)"
   ]
  },
  {
   "cell_type": "code",
   "execution_count": 36,
   "metadata": {},
   "outputs": [
    {
     "data": {
      "text/html": [
       "<div>\n",
       "<style scoped>\n",
       "    .dataframe tbody tr th:only-of-type {\n",
       "        vertical-align: middle;\n",
       "    }\n",
       "\n",
       "    .dataframe tbody tr th {\n",
       "        vertical-align: top;\n",
       "    }\n",
       "\n",
       "    .dataframe thead th {\n",
       "        text-align: right;\n",
       "    }\n",
       "</style>\n",
       "<table border=\"1\" class=\"dataframe\">\n",
       "  <thead>\n",
       "    <tr style=\"text-align: right;\">\n",
       "      <th></th>\n",
       "      <th>product</th>\n",
       "      <th>score</th>\n",
       "    </tr>\n",
       "  </thead>\n",
       "  <tbody>\n",
       "    <tr>\n",
       "      <th>0</th>\n",
       "      <td>3 FILMS PROTECTION ECRAN SAMSUNG Galaxy Ace S5...</td>\n",
       "      <td>2</td>\n",
       "    </tr>\n",
       "    <tr>\n",
       "      <th>1</th>\n",
       "      <td>5.5-Inch Unlocked Lenovo A850 3G Smartphone-(9...</td>\n",
       "      <td>5</td>\n",
       "    </tr>\n",
       "    <tr>\n",
       "      <th>2</th>\n",
       "      <td>AICEK Coque ASUS ZenFone 2 ZE550ML/ZE551ML, AI...</td>\n",
       "      <td>19</td>\n",
       "    </tr>\n",
       "    <tr>\n",
       "      <th>3</th>\n",
       "      <td>AICEK Coque ASUS ZenFone 3 Max ZC520TL, AICEK ...</td>\n",
       "      <td>16</td>\n",
       "    </tr>\n",
       "    <tr>\n",
       "      <th>4</th>\n",
       "      <td>AICEK Coque ASUS ZenFone 3 ZE520KL, AICEK Etui...</td>\n",
       "      <td>21</td>\n",
       "    </tr>\n",
       "  </tbody>\n",
       "</table>\n",
       "</div>"
      ],
      "text/plain": [
       "                                             product  score\n",
       "0  3 FILMS PROTECTION ECRAN SAMSUNG Galaxy Ace S5...      2\n",
       "1  5.5-Inch Unlocked Lenovo A850 3G Smartphone-(9...      5\n",
       "2  AICEK Coque ASUS ZenFone 2 ZE550ML/ZE551ML, AI...     19\n",
       "3  AICEK Coque ASUS ZenFone 3 Max ZC520TL, AICEK ...     16\n",
       "4  AICEK Coque ASUS ZenFone 3 ZE520KL, AICEK Etui...     21"
      ]
     },
     "execution_count": 36,
     "metadata": {},
     "output_type": "execute_result"
    }
   ],
   "source": [
    "#Count of user_id for each unique product as recommendation score \n",
    "train_data_grouped = train_data.groupby('product').agg({'author': 'count'}).reset_index()\n",
    "train_data_grouped.rename(columns = {'author': 'score'},inplace=True)\n",
    "train_data_grouped.head()"
   ]
  },
  {
   "cell_type": "code",
   "execution_count": 37,
   "metadata": {},
   "outputs": [
    {
     "data": {
      "text/html": [
       "<div>\n",
       "<style scoped>\n",
       "    .dataframe tbody tr th:only-of-type {\n",
       "        vertical-align: middle;\n",
       "    }\n",
       "\n",
       "    .dataframe tbody tr th {\n",
       "        vertical-align: top;\n",
       "    }\n",
       "\n",
       "    .dataframe thead th {\n",
       "        text-align: right;\n",
       "    }\n",
       "</style>\n",
       "<table border=\"1\" class=\"dataframe\">\n",
       "  <thead>\n",
       "    <tr style=\"text-align: right;\">\n",
       "      <th></th>\n",
       "      <th>product</th>\n",
       "      <th>score</th>\n",
       "      <th>Rank</th>\n",
       "    </tr>\n",
       "  </thead>\n",
       "  <tbody>\n",
       "    <tr>\n",
       "      <th>1743</th>\n",
       "      <td>Lenovo Vibe K4 Note (White,16GB)</td>\n",
       "      <td>1928</td>\n",
       "      <td>1.0</td>\n",
       "    </tr>\n",
       "    <tr>\n",
       "      <th>1742</th>\n",
       "      <td>Lenovo Vibe K4 Note (Black, 16GB)</td>\n",
       "      <td>1566</td>\n",
       "      <td>2.0</td>\n",
       "    </tr>\n",
       "    <tr>\n",
       "      <th>2514</th>\n",
       "      <td>OnePlus 3 (Graphite, 64 GB)</td>\n",
       "      <td>1150</td>\n",
       "      <td>3.0</td>\n",
       "    </tr>\n",
       "    <tr>\n",
       "      <th>2515</th>\n",
       "      <td>OnePlus 3 (Soft Gold, 64 GB)</td>\n",
       "      <td>1102</td>\n",
       "      <td>4.0</td>\n",
       "    </tr>\n",
       "    <tr>\n",
       "      <th>1744</th>\n",
       "      <td>Lenovo Vibe K5 (Gold, VoLTE update)</td>\n",
       "      <td>961</td>\n",
       "      <td>5.0</td>\n",
       "    </tr>\n",
       "  </tbody>\n",
       "</table>\n",
       "</div>"
      ],
      "text/plain": [
       "                                  product  score  Rank\n",
       "1743     Lenovo Vibe K4 Note (White,16GB)   1928   1.0\n",
       "1742    Lenovo Vibe K4 Note (Black, 16GB)   1566   2.0\n",
       "2514          OnePlus 3 (Graphite, 64 GB)   1150   3.0\n",
       "2515         OnePlus 3 (Soft Gold, 64 GB)   1102   4.0\n",
       "1744  Lenovo Vibe K5 (Gold, VoLTE update)    961   5.0"
      ]
     },
     "execution_count": 37,
     "metadata": {},
     "output_type": "execute_result"
    }
   ],
   "source": [
    "#Sort the products on recommendation score \n",
    "train_data_sort = train_data_grouped.sort_values(['score', 'product'], ascending = [0,1]) \n",
    "      \n",
    "#Generate a recommendation rank based upon score \n",
    "train_data_sort['Rank'] = train_data_sort['score'].rank(ascending=0, method='first') \n",
    "          \n",
    "#Get the top 5 recommendations \n",
    "popularity_recommendations = train_data_sort.head(5) \n",
    "popularity_recommendations"
   ]
  },
  {
   "cell_type": "code",
   "execution_count": 38,
   "metadata": {},
   "outputs": [],
   "source": [
    "# Use popularity based recommender model to make predictions\n",
    "def recommend(author):     \n",
    "    user_recommendations = popularity_recommendations \n",
    "          \n",
    "    #Add user_id column for which the recommendations are being generated \n",
    "    user_recommendations['author'] = author \n",
    "      \n",
    "    #Bring author column to the front \n",
    "    cols = user_recommendations.columns.tolist() \n",
    "    cols = cols[-1:] + cols[:-1] \n",
    "    user_recommendations = user_recommendations[cols] \n",
    "          \n",
    "    return user_recommendations "
   ]
  },
  {
   "cell_type": "code",
   "execution_count": 39,
   "metadata": {},
   "outputs": [
    {
     "name": "stdout",
     "output_type": "stream",
     "text": [
      "Here is the recommendation for the userId: 15\n",
      "\n",
      "      author                              product  score  Rank\n",
      "1743      15     Lenovo Vibe K4 Note (White,16GB)   1928   1.0\n",
      "1742      15    Lenovo Vibe K4 Note (Black, 16GB)   1566   2.0\n",
      "2514      15          OnePlus 3 (Graphite, 64 GB)   1150   3.0\n",
      "2515      15         OnePlus 3 (Soft Gold, 64 GB)   1102   4.0\n",
      "1744      15  Lenovo Vibe K5 (Gold, VoLTE update)    961   5.0\n",
      "\n",
      "\n",
      "Here is the recommendation for the userId: 121\n",
      "\n",
      "      author                              product  score  Rank\n",
      "1743     121     Lenovo Vibe K4 Note (White,16GB)   1928   1.0\n",
      "1742     121    Lenovo Vibe K4 Note (Black, 16GB)   1566   2.0\n",
      "2514     121          OnePlus 3 (Graphite, 64 GB)   1150   3.0\n",
      "2515     121         OnePlus 3 (Soft Gold, 64 GB)   1102   4.0\n",
      "1744     121  Lenovo Vibe K5 (Gold, VoLTE update)    961   5.0\n",
      "\n",
      "\n",
      "Here is the recommendation for the userId: 53\n",
      "\n",
      "      author                              product  score  Rank\n",
      "1743      53     Lenovo Vibe K4 Note (White,16GB)   1928   1.0\n",
      "1742      53    Lenovo Vibe K4 Note (Black, 16GB)   1566   2.0\n",
      "2514      53          OnePlus 3 (Graphite, 64 GB)   1150   3.0\n",
      "2515      53         OnePlus 3 (Soft Gold, 64 GB)   1102   4.0\n",
      "1744      53  Lenovo Vibe K5 (Gold, VoLTE update)    961   5.0\n",
      "\n",
      "\n"
     ]
    },
    {
     "name": "stderr",
     "output_type": "stream",
     "text": [
      "<ipython-input-38-19ced13b59b8>:6: SettingWithCopyWarning: \n",
      "A value is trying to be set on a copy of a slice from a DataFrame.\n",
      "Try using .loc[row_indexer,col_indexer] = value instead\n",
      "\n",
      "See the caveats in the documentation: https://pandas.pydata.org/pandas-docs/stable/user_guide/indexing.html#returning-a-view-versus-a-copy\n",
      "  user_recommendations['author'] = author\n",
      "<ipython-input-38-19ced13b59b8>:6: SettingWithCopyWarning: \n",
      "A value is trying to be set on a copy of a slice from a DataFrame.\n",
      "Try using .loc[row_indexer,col_indexer] = value instead\n",
      "\n",
      "See the caveats in the documentation: https://pandas.pydata.org/pandas-docs/stable/user_guide/indexing.html#returning-a-view-versus-a-copy\n",
      "  user_recommendations['author'] = author\n",
      "<ipython-input-38-19ced13b59b8>:6: SettingWithCopyWarning: \n",
      "A value is trying to be set on a copy of a slice from a DataFrame.\n",
      "Try using .loc[row_indexer,col_indexer] = value instead\n",
      "\n",
      "See the caveats in the documentation: https://pandas.pydata.org/pandas-docs/stable/user_guide/indexing.html#returning-a-view-versus-a-copy\n",
      "  user_recommendations['author'] = author\n"
     ]
    }
   ],
   "source": [
    "find_recom = [15,121,53]   # This list is user choice.\n",
    "for i in find_recom:\n",
    "    print(\"Here is the recommendation for the userId: %d\\n\" %(i))\n",
    "    print(recommend(i))    \n",
    "    print(\"\\n\") "
   ]
  },
  {
   "cell_type": "markdown",
   "metadata": {},
   "source": [
    "Since this is a popularity-based recommender model, recommendations remain the same for all users\n",
    "\n",
    "We predict the products based on the popularity. It is not personalized to particular user"
   ]
  },
  {
   "cell_type": "markdown",
   "metadata": {},
   "source": [
    "### 4. Build a collaborative filtering model using SVD. \n",
    "You can use SVD from surprise or build it from scratch(Note: Incase you’re building it from scratch you can limit your data points to 5000 samples if you face memory issues). Build a collaborative filtering model using kNNWithMeans from surprise. You can try both user-based and item-based model."
   ]
  },
  {
   "cell_type": "code",
   "execution_count": 40,
   "metadata": {},
   "outputs": [],
   "source": [
    "from surprise import Dataset,Reader\n",
    "from surprise import SVD, KNNWithMeans\n",
    "from surprise import accuracy\n",
    "\n",
    "reader = Reader(rating_scale=(1, 10))\n",
    "data = Dataset.load_from_df(phone_Data1[['author', 'product', 'score']], reader)"
   ]
  },
  {
   "cell_type": "code",
   "execution_count": 41,
   "metadata": {},
   "outputs": [],
   "source": [
    "# Split data to train and test\n",
    "from surprise.model_selection import train_test_split\n",
    "trainset, testset = train_test_split(data, test_size=.25,random_state=123)\n",
    "\n",
    "# to build on full data\n",
    "#trainset = data.build_full_trainset()"
   ]
  },
  {
   "cell_type": "code",
   "execution_count": 42,
   "metadata": {},
   "outputs": [
    {
     "data": {
      "text/plain": [
       "<generator object Trainset.all_ratings at 0x000001F94AB572E0>"
      ]
     },
     "execution_count": 42,
     "metadata": {},
     "output_type": "execute_result"
    }
   ],
   "source": [
    "trainset.all_ratings()"
   ]
  },
  {
   "cell_type": "code",
   "execution_count": 43,
   "metadata": {},
   "outputs": [
    {
     "data": {
      "text/plain": [
       "<surprise.prediction_algorithms.matrix_factorization.SVD at 0x1f93a746340>"
      ]
     },
     "execution_count": 43,
     "metadata": {},
     "output_type": "execute_result"
    }
   ],
   "source": [
    "svd_model = SVD(n_factors=5,biased=False)\n",
    "svd_model.fit(trainset)"
   ]
  },
  {
   "cell_type": "markdown",
   "metadata": {},
   "source": [
    "### 5. Evaluate the collaborative model. Print RMSE value."
   ]
  },
  {
   "cell_type": "code",
   "execution_count": 44,
   "metadata": {},
   "outputs": [],
   "source": [
    "test_predSVD = svd_model.test(testset)"
   ]
  },
  {
   "cell_type": "code",
   "execution_count": 45,
   "metadata": {
    "scrolled": false
   },
   "outputs": [
    {
     "name": "stdout",
     "output_type": "stream",
     "text": [
      "RMSE: 2.7884\n"
     ]
    },
    {
     "data": {
      "text/plain": [
       "2.788416584192061"
      ]
     },
     "execution_count": 45,
     "metadata": {},
     "output_type": "execute_result"
    }
   ],
   "source": [
    "# compute RMSE\n",
    "accuracy.rmse(test_predSVD)"
   ]
  },
  {
   "cell_type": "markdown",
   "metadata": {},
   "source": [
    "### KNNWithMeans Item-Item based"
   ]
  },
  {
   "cell_type": "code",
   "execution_count": 46,
   "metadata": {},
   "outputs": [
    {
     "name": "stdout",
     "output_type": "stream",
     "text": [
      "Computing the msd similarity matrix...\n",
      "Done computing similarity matrix.\n"
     ]
    },
    {
     "data": {
      "text/plain": [
       "<surprise.prediction_algorithms.knns.KNNWithMeans at 0x1f93a73c2b0>"
      ]
     },
     "execution_count": 46,
     "metadata": {},
     "output_type": "execute_result"
    }
   ],
   "source": [
    "from surprise import KNNWithMeans\n",
    "from surprise import accuracy\n",
    "\n",
    "algo_i = KNNWithMeans(k=10, sim_options={ 'user_based': False})\n",
    "\n",
    "algo_i.fit(trainset)"
   ]
  },
  {
   "cell_type": "code",
   "execution_count": 47,
   "metadata": {},
   "outputs": [
    {
     "name": "stdout",
     "output_type": "stream",
     "text": [
      "RMSE: 2.8444\n",
      "2.8443825400181733\n"
     ]
    }
   ],
   "source": [
    "test_predKNN1=algo_i.test(testset)\n",
    "print(accuracy.rmse(test_predKNN1))"
   ]
  },
  {
   "cell_type": "markdown",
   "metadata": {},
   "source": [
    "### KNNWithMeans user based"
   ]
  },
  {
   "cell_type": "code",
   "execution_count": 48,
   "metadata": {
    "scrolled": true
   },
   "outputs": [
    {
     "name": "stdout",
     "output_type": "stream",
     "text": [
      "Computing the msd similarity matrix...\n",
      "Done computing similarity matrix.\n"
     ]
    },
    {
     "data": {
      "text/plain": [
       "<surprise.prediction_algorithms.knns.KNNWithMeans at 0x1f93a73cac0>"
      ]
     },
     "execution_count": 48,
     "metadata": {},
     "output_type": "execute_result"
    }
   ],
   "source": [
    "algo_i = KNNWithMeans(k=10, sim_options={ 'user_based': True})\n",
    "\n",
    "algo_i.fit(trainset)"
   ]
  },
  {
   "cell_type": "code",
   "execution_count": 49,
   "metadata": {},
   "outputs": [
    {
     "name": "stdout",
     "output_type": "stream",
     "text": [
      "RMSE: 2.8394\n",
      "2.8394044101313307\n"
     ]
    }
   ],
   "source": [
    "test_predKNN2=algo_i.test(testset)\n",
    "print(accuracy.rmse(test_predKNN2))"
   ]
  },
  {
   "cell_type": "code",
   "execution_count": 50,
   "metadata": {},
   "outputs": [
    {
     "name": "stdout",
     "output_type": "stream",
     "text": [
      "user: 11676      item: 074323748X r_ui = 0.00   est = 7.81   {'was_impossible': True, 'reason': 'User and/or item is unknown.'}\n"
     ]
    }
   ],
   "source": [
    "uid = str(11676)  # raw user id (as in the ratings file). They are **strings**!\n",
    "iid = \"074323748X\"  # raw item id (as in the ratings file). They are **strings**!\n",
    "\n",
    "# get a prediction for specific users and items.\n",
    "pred = algo_i.predict(uid, iid, r_ui=0.0, verbose=True)"
   ]
  },
  {
   "cell_type": "markdown",
   "metadata": {},
   "source": [
    "### 6. Predict score (average rating) for test users."
   ]
  },
  {
   "cell_type": "code",
   "execution_count": 51,
   "metadata": {},
   "outputs": [
    {
     "data": {
      "text/plain": [
       "uid\n",
       "federico         10.000000\n",
       "Jeremy           10.000000\n",
       "narn3049         10.000000\n",
       "gabberino93      10.000000\n",
       "Roland           10.000000\n",
       "                   ...    \n",
       "Heather           5.142857\n",
       "Laurent           4.500000\n",
       "Julio             3.500000\n",
       "Gast              2.500000\n",
       "Puneet Sharma     2.000000\n",
       "Name: r_ui, Length: 663, dtype: float64"
      ]
     },
     "execution_count": 51,
     "metadata": {},
     "output_type": "execute_result"
    }
   ],
   "source": [
    "pred = pd.DataFrame(test_predSVD)\n",
    "pred.groupby('uid')['r_ui'].mean().sort_values(ascending=False)"
   ]
  },
  {
   "cell_type": "markdown",
   "metadata": {},
   "source": [
    "### 7. Report your findings and inferences."
   ]
  },
  {
   "cell_type": "markdown",
   "metadata": {},
   "source": [
    "This dataset have score range from 1 to 10.\n",
    "\n",
    "Original datset have 678737 unique users & 47259 unique products\n",
    "\n",
    "dataset have high count for 10 score\n",
    "\n",
    "As per above RMSE Score, SVD model provides the less RMSE score than other models. So it's one of the best model.\n",
    "We can also use some tunning techniques to improve the accuracy."
   ]
  },
  {
   "cell_type": "markdown",
   "metadata": {},
   "source": [
    "### 8. Try and recommend top 5 products for test users."
   ]
  },
  {
   "cell_type": "code",
   "execution_count": 52,
   "metadata": {
    "scrolled": false
   },
   "outputs": [
    {
     "data": {
      "text/html": [
       "<div>\n",
       "<style scoped>\n",
       "    .dataframe tbody tr th:only-of-type {\n",
       "        vertical-align: middle;\n",
       "    }\n",
       "\n",
       "    .dataframe tbody tr th {\n",
       "        vertical-align: top;\n",
       "    }\n",
       "\n",
       "    .dataframe thead th {\n",
       "        text-align: right;\n",
       "    }\n",
       "</style>\n",
       "<table border=\"1\" class=\"dataframe\">\n",
       "  <thead>\n",
       "    <tr style=\"text-align: right;\">\n",
       "      <th></th>\n",
       "      <th>iid</th>\n",
       "      <th>r_ui</th>\n",
       "      <th>est</th>\n",
       "    </tr>\n",
       "  </thead>\n",
       "  <tbody>\n",
       "    <tr>\n",
       "      <th>16265</th>\n",
       "      <td>Samsung Galaxy J7 SM-J700H/DS GSM Factory Unlo...</td>\n",
       "      <td>10.0</td>\n",
       "      <td>8.532350</td>\n",
       "    </tr>\n",
       "    <tr>\n",
       "      <th>22523</th>\n",
       "      <td>ZTE Z Max 2 16GB Unlocked GSM 4G LTE Quad-Core...</td>\n",
       "      <td>10.0</td>\n",
       "      <td>7.235500</td>\n",
       "    </tr>\n",
       "    <tr>\n",
       "      <th>22504</th>\n",
       "      <td>Motorola Moto G 3rd Generation (Black, 16GB)</td>\n",
       "      <td>10.0</td>\n",
       "      <td>8.855627</td>\n",
       "    </tr>\n",
       "    <tr>\n",
       "      <th>22509</th>\n",
       "      <td>Mi 4i (White, 16GB)</td>\n",
       "      <td>10.0</td>\n",
       "      <td>6.714270</td>\n",
       "    </tr>\n",
       "    <tr>\n",
       "      <th>10536</th>\n",
       "      <td>BLU Tank II T193 Unlocked GSM Dual-SIM Cell Ph...</td>\n",
       "      <td>10.0</td>\n",
       "      <td>6.789090</td>\n",
       "    </tr>\n",
       "  </tbody>\n",
       "</table>\n",
       "</div>"
      ],
      "text/plain": [
       "                                                     iid  r_ui       est\n",
       "16265  Samsung Galaxy J7 SM-J700H/DS GSM Factory Unlo...  10.0  8.532350\n",
       "22523  ZTE Z Max 2 16GB Unlocked GSM 4G LTE Quad-Core...  10.0  7.235500\n",
       "22504       Motorola Moto G 3rd Generation (Black, 16GB)  10.0  8.855627\n",
       "22509                                Mi 4i (White, 16GB)  10.0  6.714270\n",
       "10536  BLU Tank II T193 Unlocked GSM Dual-SIM Cell Ph...  10.0  6.789090"
      ]
     },
     "execution_count": 52,
     "metadata": {},
     "output_type": "execute_result"
    }
   ],
   "source": [
    "# recommend top 5 products for test users\n",
    "pred[pred['uid'] == 'Amazon Customer'][['iid', 'r_ui','est']].sort_values(by = 'r_ui',ascending = False).head(5)"
   ]
  },
  {
   "cell_type": "markdown",
   "metadata": {},
   "source": [
    "### 9. Try cross validation techniques to get better results."
   ]
  },
  {
   "cell_type": "code",
   "execution_count": 53,
   "metadata": {},
   "outputs": [
    {
     "name": "stdout",
     "output_type": "stream",
     "text": [
      "Computing the msd similarity matrix...\n",
      "Done computing similarity matrix.\n",
      "Computing the msd similarity matrix...\n",
      "Done computing similarity matrix.\n",
      "Computing the msd similarity matrix...\n",
      "Done computing similarity matrix.\n",
      "Computing the msd similarity matrix...\n",
      "Done computing similarity matrix.\n",
      "Computing the msd similarity matrix...\n",
      "Done computing similarity matrix.\n"
     ]
    },
    {
     "data": {
      "text/html": [
       "<div>\n",
       "<style scoped>\n",
       "    .dataframe tbody tr th:only-of-type {\n",
       "        vertical-align: middle;\n",
       "    }\n",
       "\n",
       "    .dataframe tbody tr th {\n",
       "        vertical-align: top;\n",
       "    }\n",
       "\n",
       "    .dataframe thead th {\n",
       "        text-align: right;\n",
       "    }\n",
       "</style>\n",
       "<table border=\"1\" class=\"dataframe\">\n",
       "  <thead>\n",
       "    <tr style=\"text-align: right;\">\n",
       "      <th></th>\n",
       "      <th>test_rmse</th>\n",
       "      <th>fit_time</th>\n",
       "      <th>test_time</th>\n",
       "    </tr>\n",
       "    <tr>\n",
       "      <th>Algorithm</th>\n",
       "      <th></th>\n",
       "      <th></th>\n",
       "      <th></th>\n",
       "    </tr>\n",
       "  </thead>\n",
       "  <tbody>\n",
       "    <tr>\n",
       "      <th>KNNWithMeans</th>\n",
       "      <td>2.742677</td>\n",
       "      <td>1.055716</td>\n",
       "      <td>4.372166</td>\n",
       "    </tr>\n",
       "    <tr>\n",
       "      <th>SVD</th>\n",
       "      <td>2.748976</td>\n",
       "      <td>5.036139</td>\n",
       "      <td>0.173495</td>\n",
       "    </tr>\n",
       "  </tbody>\n",
       "</table>\n",
       "</div>"
      ],
      "text/plain": [
       "              test_rmse  fit_time  test_time\n",
       "Algorithm                                   \n",
       "KNNWithMeans   2.742677  1.055716   4.372166\n",
       "SVD            2.748976  5.036139   0.173495"
      ]
     },
     "execution_count": 53,
     "metadata": {},
     "output_type": "execute_result"
    }
   ],
   "source": [
    "from surprise.model_selection import cross_validate\n",
    "\n",
    "benchmark = []\n",
    "# Iterate over all algorithms\n",
    "for algorithm in [SVD(),KNNWithMeans()]:\n",
    "    # Perform cross validation\n",
    "    results = cross_validate(algorithm, data, measures=['RMSE'], cv=5, verbose=False)\n",
    "    \n",
    "    # Get results & append algorithm name\n",
    "    tmp = pd.DataFrame.from_dict(results).mean(axis=0)\n",
    "    tmp = tmp.append(pd.Series([str(algorithm).split(' ')[0].split('.')[-1]], index=['Algorithm']))\n",
    "    benchmark.append(tmp)\n",
    "    \n",
    "pd.DataFrame(benchmark).set_index('Algorithm').sort_values('test_rmse')    "
   ]
  },
  {
   "cell_type": "markdown",
   "metadata": {},
   "source": [
    "### 10. In what business scenario you should use popularity based Recommendation Systems ?"
   ]
  },
  {
   "cell_type": "markdown",
   "metadata": {},
   "source": [
    "When we don't have any user data, then we can use popularity based recommendation system. Popularity based Recommendation System works on the principle of popularity and or anything which is in trend. These systems check about the product or movie which are in trend or are most popular among the users and directly recommend those.\n",
    "\n",
    "For example, if a product is often purchased by most people then the system will get to know that that product is most popular so for every new user who just signed it, the system will recommend that product to that user also and chances becomes high that the new user will also purchase that"
   ]
  },
  {
   "cell_type": "markdown",
   "metadata": {},
   "source": [
    "### 11. In what business scenario you should use CF based Recommendation Systems ?"
   ]
  },
  {
   "cell_type": "markdown",
   "metadata": {},
   "source": [
    "Collaborative Filtering is the most common technique used when it comes to building intelligent recommender systems that can learn to give better recommendations as more information about users is collected.\n",
    "\n",
    "Collaborative filtering is a technique that can filter out items that a user might like on the basis of reactions by similar users.\n",
    "\n",
    "It works by searching a large group of people and finding a smaller set of users with tastes similar to a particular user. It looks at the items they like and combines them to create a ranked list of suggestions."
   ]
  },
  {
   "cell_type": "markdown",
   "metadata": {},
   "source": [
    "### 12. What other possible methods can you think of which can further improve the recommendation for different users ?"
   ]
  },
  {
   "cell_type": "markdown",
   "metadata": {},
   "source": [
    "We can use some other Recommendation techniques as below with different cross validation techniques.\n",
    "\n",
    "    1) Content-based recommender system \n",
    "    2) Demographic based recommender system \n",
    "    3) Utility based recommender system \n",
    "    4) Knowledge based recommender system \n",
    "    5) Hybrid recommender system"
   ]
  },
  {
   "cell_type": "markdown",
   "metadata": {},
   "source": [
    "# Thanks !!!"
   ]
  }
 ],
 "metadata": {
  "kernelspec": {
   "display_name": "Python 3",
   "language": "python",
   "name": "python3"
  },
  "language_info": {
   "codemirror_mode": {
    "name": "ipython",
    "version": 3
   },
   "file_extension": ".py",
   "mimetype": "text/x-python",
   "name": "python",
   "nbconvert_exporter": "python",
   "pygments_lexer": "ipython3",
   "version": "3.8.5"
  }
 },
 "nbformat": 4,
 "nbformat_minor": 4
}
